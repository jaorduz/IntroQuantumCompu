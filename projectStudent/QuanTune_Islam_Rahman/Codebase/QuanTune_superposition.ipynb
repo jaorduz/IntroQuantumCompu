{
 "cells": [
  {
   "cell_type": "markdown",
   "id": "5d021e5e",
   "metadata": {},
   "source": [
    "# Generate Quantum Music with superposition\n",
    "\n",
    "\n",
    "### We use qiskit library and run it in the IBM quantum computer\n",
    "\n",
    "We take two sets of frequency and make a superposition of these two to generate a new set of notes and play it with windows beep sound."
   ]
  },
  {
   "cell_type": "code",
   "execution_count": 56,
   "id": "c078e723",
   "metadata": {},
   "outputs": [],
   "source": [
    "\n",
    "import winsound\n",
    "import time\n",
    "import qiskit\n",
    "from qiskit import ClassicalRegister, QuantumRegister\n",
    "from qiskit import Aer, IBMQ, execute,QuantumCircuit\n",
    "from qiskit.tools.visualization import circuit_drawer\n"
   ]
  },
  {
   "cell_type": "markdown",
   "id": "f4e80cd4",
   "metadata": {},
   "source": [
    "Here are the set of pitches we that will be used"
   ]
  },
  {
   "cell_type": "code",
   "execution_count": 105,
   "id": "1e0adde6",
   "metadata": {},
   "outputs": [],
   "source": [
    "#C, Db, D, Eb, E, F, Gb, G, Ab, A, Bb, B = 65,69,73,77,82,87,92,98,103,110,116,123"
   ]
  },
  {
   "cell_type": "code",
   "execution_count": 114,
   "id": "b4e49e44",
   "metadata": {},
   "outputs": [],
   "source": [
    "#C, Db, D, Eb, E, F, Gb, G, Ab, A, Bb, B = 4186,4435,4699,4978,5274,5588,5920,6272,6645,7040,7459,7902"
   ]
  },
  {
   "cell_type": "code",
   "execution_count": 57,
   "id": "8158572f",
   "metadata": {},
   "outputs": [],
   "source": [
    "#C, Db, D, Eb, E, F, Gb, G, Ab, A, Bb, B = 261,277,294,311,330,349,370,392,415,440,466,494"
   ]
  },
  {
   "cell_type": "code",
   "execution_count": 123,
   "id": "d6ca2f16",
   "metadata": {},
   "outputs": [],
   "source": [
    "C, Db, D, Eb, E, F, Gb, G, Ab, A, Bb, B =523,554,587,622,659,698,740,784,830,880,932,987"
   ]
  },
  {
   "cell_type": "markdown",
   "id": "755e973b",
   "metadata": {},
   "source": [
    "Now, we create two sets of pitches from the above sets."
   ]
  },
  {
   "cell_type": "code",
   "execution_count": 124,
   "id": "07b7074e",
   "metadata": {},
   "outputs": [
    {
     "name": "stdout",
     "output_type": "stream",
     "text": [
      "---------------- Tune 1 with duration ----------------\n",
      "[[523, 784, 698, 659, 587, 523, 523], [0.5, 1, 0.5, 0.5, 0.5, 1, 1]]\n",
      "\n",
      "---------------- Tune 2 with duration ----------------\n",
      "[[659, 659, 698, 784, 784, 698, 659], [0.5, 0.5, 0.5, 0.5, 0.5, 0.5, 0.5]]\n",
      "\n"
     ]
    }
   ],
   "source": [
    "tunes = [[[C,G,F,E,D,C,C],[0.5,1,0.5,0.5,0.5,1,1]]]\n",
    "tunes.append([[E,E,F,G,G,F,E],[0.5]*7])\n",
    "print(\"---------------- Tune 1 with duration ----------------\")\n",
    "print(tunes[0])\n",
    "print()\n",
    "\n",
    "print(\"---------------- Tune 2 with duration ----------------\")\n",
    "print(tunes[1])\n",
    "print()"
   ]
  },
  {
   "cell_type": "markdown",
   "id": "91a60a76",
   "metadata": {},
   "source": [
    "### Play each of the tune individually"
   ]
  },
  {
   "cell_type": "code",
   "execution_count": 125,
   "id": "2e189bcf",
   "metadata": {},
   "outputs": [],
   "source": [
    "def play_tune(tune):    \n",
    "    \n",
    "    for idx,pitch in enumerate(tune[0]):        \n",
    "        duration_milliseconds = int(tune[1][idx]*1000)\n",
    "        winsound.Beep(pitch,duration_milliseconds)       \n",
    "\n",
    "play_tune(tunes[0])\n",
    "play_tune(tunes[1])"
   ]
  },
  {
   "cell_type": "markdown",
   "id": "fd802d8d",
   "metadata": {},
   "source": [
    "### Now, we take the same number of qubits as the number of pitches in a tune. We will have the same number of classical bits."
   ]
  },
  {
   "cell_type": "code",
   "execution_count": 126,
   "id": "dc3e6859",
   "metadata": {},
   "outputs": [],
   "source": [
    "tune_len = len(tunes[0][0])\n",
    "q = QuantumRegister(tune_len)\n",
    "c = ClassicalRegister(tune_len)\n",
    "qc = QuantumCircuit(q,c)"
   ]
  },
  {
   "cell_type": "markdown",
   "id": "b9ae457d",
   "metadata": {},
   "source": [
    "The Hadamard H gate is used to build the superposition circuit, therefore the qc.h instructions below. One H gate serves as the representation for each note in the music. The two indices for the songs list, 0 and 1, are superimposed by an H-gate. The numbers 0 and 1 stand for the first and second songs, respectively.\n",
    "\n",
    "A quantum state in a superposition of 0 and 1 is seen by the qc.measure instruction, which then transmits the result to a classical register. There is a 50/50 possibility that the outcome will be 0 or 1."
   ]
  },
  {
   "cell_type": "code",
   "execution_count": 127,
   "id": "93cff1bd",
   "metadata": {},
   "outputs": [
    {
     "data": {
      "image/png": "[encoded data removed]",
      "text/plain": [
       "<Figure size 607.866x505.68 with 1 Axes>"
      ]
     },
     "execution_count": 127,
     "metadata": {},
     "output_type": "execute_result"
    }
   ],
   "source": [
    "for reg in range(0,len(tunes[0][0])):\n",
    "        qc.h(q[reg])        \n",
    "        qc.measure(q[reg],c[reg])\n",
    "diagram = circuit_drawer(qc)\n",
    "# diagram.show()\n",
    "circuit_drawer(qc, output='mpl', style={'backgroundcolor': '#EEEEEE'})"
   ]
  },
  {
   "cell_type": "markdown",
   "id": "18b9c067",
   "metadata": {},
   "source": [
    "We use the statevector simulator to run the circuit. We use IBM quantum computer to execute the circuit.\n",
    "\n",
    "The output of collapse tune superposition() is the superposition of the collapsed tunes' indexes, from note 1 to note 7."
   ]
  },
  {
   "cell_type": "code",
   "execution_count": 128,
   "id": "9b6ef0e4",
   "metadata": {},
   "outputs": [],
   "source": [
    "#IBMQ.enable_account('IBM API KEY')"
   ]
  },
  {
   "cell_type": "code",
   "execution_count": 129,
   "id": "c8e62d50",
   "metadata": {},
   "outputs": [
    {
     "name": "stdout",
     "output_type": "stream",
     "text": [
      "Collapsed tune index superposition =  1000001\n"
     ]
    }
   ],
   "source": [
    "def make_tune_superposition():\n",
    "    \n",
    "    provider = IBMQ.get_provider(hub='ibm-q')\n",
    "    quantum_backend = Aer.get_backend('statevector_simulator')\n",
    "    circuit_result = execute(qc, quantum_backend, shots=1)\n",
    "    tune_indices = list(circuit_result.result().get_counts(qc))[0]   \n",
    "    return(tune_indices[::-1])\n",
    "print(\"Collapsed tune index superposition = \",make_tune_superposition())"
   ]
  },
  {
   "cell_type": "markdown",
   "id": "928d6e68",
   "metadata": {},
   "source": [
    "From left to right, multiply for each of these three and read off the tune index, using 0 for the note from tunes[0] and 1 for tunes[1]. Depending on which tune is chosen after the superposition collapse, the following function reads from one of the two tunes."
   ]
  },
  {
   "cell_type": "code",
   "execution_count": 130,
   "id": "e234692d",
   "metadata": {},
   "outputs": [],
   "source": [
    "def convert_to_tune(collapse, tunes):\n",
    "    collapsed_tune = [[],[]]\n",
    "    for idx,tune_index in enumerate(collapse):\n",
    "        collapsed_tune[0].append(tunes[int(tune_index)][0][idx])\n",
    "        collapsed_tune[1].append(tunes[int(tune_index)][1][idx])\n",
    "    return(collapsed_tune)"
   ]
  },
  {
   "cell_type": "markdown",
   "id": "0d8567d3",
   "metadata": {},
   "source": [
    "Finally, we play the tune from the tune of superposition."
   ]
  },
  {
   "cell_type": "code",
   "execution_count": 131,
   "id": "938e82de",
   "metadata": {
    "scrolled": false
   },
   "outputs": [
    {
     "name": "stdout",
     "output_type": "stream",
     "text": [
      "---------------- Collapsed tune superposition ----------------\n",
      "[523, 784, 698, 784, 587, 698, 659]\n",
      "\n",
      "---------------- Duration ----------------\n",
      "[0.5, 1, 0.5, 0.5, 0.5, 0.5, 0.5]\n"
     ]
    }
   ],
   "source": [
    "collapse = make_tune_superposition()\n",
    "new_tune = convert_to_tune(collapse, tunes)\n",
    "\n",
    "print(\"---------------- Collapsed tune superposition ----------------\")\n",
    "print(new_tune[0])\n",
    "print()\n",
    "print(\"---------------- Duration ----------------\")\n",
    "print(new_tune[1])\n",
    "play_tune(new_tune)"
   ]
  },
  {
   "cell_type": "markdown",
   "id": "d73d208b",
   "metadata": {},
   "source": [
    "This illustrates a crucial point: in the quantum circuit, the tune is neither tune 0 nor tune 1. It combines the two in some way. However, it is impossible to directly see this combination. A tensor product of the indices of the two tunes may be used to mathematically express the superposition of the two tunes:\n",
    "\n",
    "$$ T = \\frac{\\left|0\\right\\rangle+\\left|1\\right\\rangle}{\\sqrt{2}}\\otimes\\frac{\\left|0\\right\\rangle+\\left|1\\right\\rangle}{\\sqrt{2}}\\otimes\\frac{\\left|0\\right\\rangle+\\left|1\\right\\rangle}{\\sqrt{2}}\\otimes\\frac{\\left|0\\right\\rangle+\\left|1\\right\\rangle}{\\sqrt{2}}\\otimes\\frac{\\left|0\\right\\rangle+\\left|1\\right\\rangle}{\\sqrt{2}}\\otimes\\frac{\\left|0\\right\\rangle+\\left|1\\right\\rangle}{\\sqrt{2}}\\otimes\\frac{\\left|0\\right\\rangle+\\left|1\\right\\rangle}{\\sqrt{2}}$$"
   ]
  },
  {
   "cell_type": "code",
   "execution_count": null,
   "id": "dcaac2ea",
   "metadata": {},
   "outputs": [],
   "source": []
  }
 ],
 "metadata": {
  "kernelspec": {
   "display_name": "Python 3 (ipykernel)",
   "language": "python",
   "name": "python3"
  },
  "language_info": {
   "codemirror_mode": {
    "name": "ipython",
    "version": 3
   },
   "file_extension": ".py",
   "mimetype": "text/x-python",
   "name": "python",
   "nbconvert_exporter": "python",
   "pygments_lexer": "ipython3",
   "version": "3.9.12"
  }
 },
 "nbformat": 4,
 "nbformat_minor": 5
}
