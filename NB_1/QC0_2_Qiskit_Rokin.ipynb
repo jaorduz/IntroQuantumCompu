{
  "cells": [
    {
      "cell_type": "markdown",
      "metadata": {
        "id": "h065emTFFXvU"
      },
      "source": [
        "# Qiskit: Basics on Python and Quantum Computing\n",
        "### By: Rokin Maharjan"
      ]
    },
    {
      "cell_type": "code",
      "source": [
        "pip install qiskit"
      ],
      "metadata": {
        "colab": {
          "base_uri": "https://localhost:8080/"
        },
        "id": "kXS1THB3FrN2",
        "outputId": "b89ffb95-83d7-4a51-f7d2-e99363ffac42"
      },
      "execution_count": null,
      "outputs": [
        {
          "output_type": "stream",
          "name": "stdout",
          "text": [
            "Looking in indexes: https://pypi.org/simple, https://us-python.pkg.dev/colab-wheels/public/simple/\n",
            "Requirement already satisfied: qiskit in /usr/local/lib/python3.7/dist-packages (0.37.0)\n",
            "Requirement already satisfied: qiskit-ibmq-provider==0.19.2 in /usr/local/lib/python3.7/dist-packages (from qiskit) (0.19.2)\n",
            "Requirement already satisfied: qiskit-terra==0.21.0 in /usr/local/lib/python3.7/dist-packages (from qiskit) (0.21.0)\n",
            "Requirement already satisfied: qiskit-aer==0.10.4 in /usr/local/lib/python3.7/dist-packages (from qiskit) (0.10.4)\n",
            "Requirement already satisfied: scipy>=1.0 in /usr/local/lib/python3.7/dist-packages (from qiskit-aer==0.10.4->qiskit) (1.7.3)\n",
            "Requirement already satisfied: numpy>=1.16.3 in /usr/local/lib/python3.7/dist-packages (from qiskit-aer==0.10.4->qiskit) (1.21.6)\n",
            "Requirement already satisfied: requests>=2.19 in /usr/local/lib/python3.7/dist-packages (from qiskit-ibmq-provider==0.19.2->qiskit) (2.23.0)\n",
            "Requirement already satisfied: python-dateutil>=2.8.0 in /usr/local/lib/python3.7/dist-packages (from qiskit-ibmq-provider==0.19.2->qiskit) (2.8.2)\n",
            "Requirement already satisfied: websocket-client>=1.0.1 in /usr/local/lib/python3.7/dist-packages (from qiskit-ibmq-provider==0.19.2->qiskit) (1.3.3)\n",
            "Requirement already satisfied: websockets>=10.0 in /usr/local/lib/python3.7/dist-packages (from qiskit-ibmq-provider==0.19.2->qiskit) (10.3)\n",
            "Requirement already satisfied: requests-ntlm>=1.1.0 in /usr/local/lib/python3.7/dist-packages (from qiskit-ibmq-provider==0.19.2->qiskit) (1.1.0)\n",
            "Requirement already satisfied: urllib3>=1.21.1 in /usr/local/lib/python3.7/dist-packages (from qiskit-ibmq-provider==0.19.2->qiskit) (1.24.3)\n",
            "Requirement already satisfied: sympy>=1.3 in /usr/local/lib/python3.7/dist-packages (from qiskit-terra==0.21.0->qiskit) (1.7.1)\n",
            "Requirement already satisfied: ply>=3.10 in /usr/local/lib/python3.7/dist-packages (from qiskit-terra==0.21.0->qiskit) (3.11)\n",
            "Requirement already satisfied: psutil>=5 in /usr/local/lib/python3.7/dist-packages (from qiskit-terra==0.21.0->qiskit) (5.4.8)\n",
            "Requirement already satisfied: retworkx>=0.11.0 in /usr/local/lib/python3.7/dist-packages (from qiskit-terra==0.21.0->qiskit) (0.11.0)\n",
            "Requirement already satisfied: dill>=0.3 in /usr/local/lib/python3.7/dist-packages (from qiskit-terra==0.21.0->qiskit) (0.3.5.1)\n",
            "Requirement already satisfied: typing-extensions in /usr/local/lib/python3.7/dist-packages (from qiskit-terra==0.21.0->qiskit) (4.1.1)\n",
            "Requirement already satisfied: stevedore>=3.0.0 in /usr/local/lib/python3.7/dist-packages (from qiskit-terra==0.21.0->qiskit) (3.5.0)\n",
            "Requirement already satisfied: shared-memory38 in /usr/local/lib/python3.7/dist-packages (from qiskit-terra==0.21.0->qiskit) (0.1.2)\n",
            "Requirement already satisfied: symengine>=0.9 in /usr/local/lib/python3.7/dist-packages (from qiskit-terra==0.21.0->qiskit) (0.9.2)\n",
            "Requirement already satisfied: tweedledum<2.0,>=1.1 in /usr/local/lib/python3.7/dist-packages (from qiskit-terra==0.21.0->qiskit) (1.1.1)\n",
            "Requirement already satisfied: six>=1.5 in /usr/local/lib/python3.7/dist-packages (from python-dateutil>=2.8.0->qiskit-ibmq-provider==0.19.2->qiskit) (1.15.0)\n",
            "Requirement already satisfied: chardet<4,>=3.0.2 in /usr/local/lib/python3.7/dist-packages (from requests>=2.19->qiskit-ibmq-provider==0.19.2->qiskit) (3.0.4)\n",
            "Requirement already satisfied: idna<3,>=2.5 in /usr/local/lib/python3.7/dist-packages (from requests>=2.19->qiskit-ibmq-provider==0.19.2->qiskit) (2.10)\n",
            "Requirement already satisfied: certifi>=2017.4.17 in /usr/local/lib/python3.7/dist-packages (from requests>=2.19->qiskit-ibmq-provider==0.19.2->qiskit) (2022.6.15)\n",
            "Requirement already satisfied: cryptography>=1.3 in /usr/local/lib/python3.7/dist-packages (from requests-ntlm>=1.1.0->qiskit-ibmq-provider==0.19.2->qiskit) (37.0.4)\n",
            "Requirement already satisfied: ntlm-auth>=1.0.2 in /usr/local/lib/python3.7/dist-packages (from requests-ntlm>=1.1.0->qiskit-ibmq-provider==0.19.2->qiskit) (1.5.0)\n",
            "Requirement already satisfied: cffi>=1.12 in /usr/local/lib/python3.7/dist-packages (from cryptography>=1.3->requests-ntlm>=1.1.0->qiskit-ibmq-provider==0.19.2->qiskit) (1.15.1)\n",
            "Requirement already satisfied: pycparser in /usr/local/lib/python3.7/dist-packages (from cffi>=1.12->cryptography>=1.3->requests-ntlm>=1.1.0->qiskit-ibmq-provider==0.19.2->qiskit) (2.21)\n",
            "Requirement already satisfied: pbr!=2.1.0,>=2.0.0 in /usr/local/lib/python3.7/dist-packages (from stevedore>=3.0.0->qiskit-terra==0.21.0->qiskit) (5.9.0)\n",
            "Requirement already satisfied: importlib-metadata>=1.7.0 in /usr/local/lib/python3.7/dist-packages (from stevedore>=3.0.0->qiskit-terra==0.21.0->qiskit) (4.12.0)\n",
            "Requirement already satisfied: zipp>=0.5 in /usr/local/lib/python3.7/dist-packages (from importlib-metadata>=1.7.0->stevedore>=3.0.0->qiskit-terra==0.21.0->qiskit) (3.8.1)\n",
            "Requirement already satisfied: mpmath>=0.19 in /usr/local/lib/python3.7/dist-packages (from sympy>=1.3->qiskit-terra==0.21.0->qiskit) (1.2.1)\n"
          ]
        }
      ]
    },
    {
      "cell_type": "code",
      "source": [
        "pip install pylatexenc"
      ],
      "metadata": {
        "colab": {
          "base_uri": "https://localhost:8080/"
        },
        "id": "_89ud7V2Fwhq",
        "outputId": "7ceeae4a-5f04-497a-e4b0-39ae082f75cb"
      },
      "execution_count": null,
      "outputs": [
        {
          "output_type": "stream",
          "name": "stdout",
          "text": [
            "Looking in indexes: https://pypi.org/simple, https://us-python.pkg.dev/colab-wheels/public/simple/\n",
            "Requirement already satisfied: pylatexenc in /usr/local/lib/python3.7/dist-packages (2.10)\n"
          ]
        }
      ]
    },
    {
      "cell_type": "markdown",
      "metadata": {
        "id": "_ExtmdjFFXvW"
      },
      "source": [
        "We import the libraries or modules"
      ]
    },
    {
      "cell_type": "code",
      "execution_count": null,
      "metadata": {
        "id": "dCEmIcxgFXvX"
      },
      "outputs": [],
      "source": [
        "from qiskit import *"
      ]
    },
    {
      "cell_type": "markdown",
      "metadata": {
        "id": "sUcon7vEFXvY"
      },
      "source": [
        "We introduce a line to draw the graphs in the nb"
      ]
    },
    {
      "cell_type": "code",
      "execution_count": null,
      "metadata": {
        "id": "DEBKKAnhFXvZ"
      },
      "outputs": [],
      "source": [
        "%matplotlib inline"
      ]
    },
    {
      "cell_type": "markdown",
      "metadata": {
        "id": "aMavh64AFXvZ"
      },
      "source": [
        "We will add labels to the qubits."
      ]
    },
    {
      "cell_type": "code",
      "execution_count": 15,
      "metadata": {
        "colab": {
          "base_uri": "https://localhost:8080/",
          "height": 125
        },
        "id": "AjMUFYEVFXva",
        "outputId": "3252448c-bbbc-4f1d-bd06-d1879a06bf15"
      },
      "outputs": [
        {
          "output_type": "execute_result",
          "data": {
            "text/plain": [
              "     \n",
              "q_0: \n",
              "     \n",
              "q_1: \n",
              "     \n",
              "c: 2/\n",
              "     "
            ],
            "text/html": [
              "<pre style=\"word-wrap: normal;white-space: pre;background: #fff0;line-height: 1.1;font-family: &quot;Courier New&quot;,Courier,monospace\">     \n",
              "q_0: \n",
              "     \n",
              "q_1: \n",
              "     \n",
              "c: 2/\n",
              "     </pre>"
            ]
          },
          "metadata": {},
          "execution_count": 15
        }
      ],
      "source": [
        "qr = QuantumRegister(2,'q')\n",
        "cr = ClassicalRegister(2,'c')\n",
        "circuit = QuantumCircuit(qr,cr)\n",
        "circuit.draw()"
      ]
    },
    {
      "cell_type": "markdown",
      "metadata": {
        "id": "r2baOqXuFXvb"
      },
      "source": [
        "We apply the Hadamard gate (H-gate is _superposition_ same probability), chech the options\n",
        "1. ```circuit.h(qr)``` for all quantum registers\n",
        "2. ```circuit.h(qr[i])``` for the i-quantum register."
      ]
    },
    {
      "cell_type": "code",
      "execution_count": null,
      "metadata": {
        "colab": {
          "base_uri": "https://localhost:8080/",
          "height": 231
        },
        "id": "Z0gLKWYGFXvc",
        "outputId": "28aead46-e132-4f0f-bb76-14274fd6a95b"
      },
      "outputs": [
        {
          "output_type": "execute_result",
          "data": {
            "text/plain": [
              "<Figure size 146.797x264.88 with 1 Axes>"
            ],
            "image/png": "[encoded data removed]"
          },
          "metadata": {},
          "execution_count": 11
        }
      ],
      "source": [
        "circuit.h(qr[0])\n",
        "circuit.draw(output='mpl')"
      ]
    },
    {
      "cell_type": "markdown",
      "metadata": {
        "id": "UotKcy4_FXvd"
      },
      "source": [
        "## Multiqbit Gates"
      ]
    },
    {
      "cell_type": "markdown",
      "metadata": {
        "id": "Z9j8lH2WFXve"
      },
      "source": [
        "We add the X-gate (control not or control-X, which is entanglement):\n",
        "1. ```circuit.cx[qr[0],qr[1]]```, control and target qubit."
      ]
    },
    {
      "cell_type": "code",
      "execution_count": null,
      "metadata": {
        "colab": {
          "base_uri": "https://localhost:8080/",
          "height": 231
        },
        "id": "y2jP-9GKFXve",
        "outputId": "21460906-0045-426f-c8f5-cfcc1af436d8"
      },
      "outputs": [
        {
          "output_type": "execute_result",
          "data": {
            "text/plain": [
              "<Figure size 206.997x264.88 with 1 Axes>"
            ],
            "image/png": "[encoded data removed]"
          },
          "metadata": {},
          "execution_count": 12
        }
      ],
      "source": [
        "circuit.cx(qr[0],qr[1])\n",
        "circuit.draw(output='mpl')"
      ]
    },
    {
      "cell_type": "markdown",
      "metadata": {
        "id": "zozyNA7-FXvf"
      },
      "source": [
        "Now, we measure:"
      ]
    },
    {
      "cell_type": "code",
      "execution_count": null,
      "metadata": {
        "colab": {
          "base_uri": "https://localhost:8080/",
          "height": 231
        },
        "id": "XMHd_wKCFXvf",
        "outputId": "377eed65-2b78-4bb6-8634-d5702fb5bf16"
      },
      "outputs": [
        {
          "output_type": "execute_result",
          "data": {
            "text/plain": [
              "<Figure size 327.397x264.88 with 1 Axes>"
            ],
            "image/png": "[encoded data removed]"
          },
          "metadata": {},
          "execution_count": 13
        }
      ],
      "source": [
        "circuit.measure(qr,cr)\n",
        "circuit.draw(output='mpl')"
      ]
    },
    {
      "cell_type": "markdown",
      "metadata": {
        "id": "QIBR4r4HFXvf"
      },
      "source": [
        "# Exercise\n",
        "\n",
        "1. Modify this NB to obtain the following circuit\n",
        "<!--\n",
        "qr = QuantumRegister(3,'q')\n",
        "cr = ClassicalRegister(3,'c')\n",
        "circuit = QuantumCircuit(qr,cr)\n",
        "circuit.h(qr)\n",
        "circuit.cx(qr[0], qr[1])\n",
        "circuit.cx(qr[1], qr[2])\n",
        "circuit.cx(qr[0], qr[1])\n",
        "circuit.measure(qr,cr)\n",
        "circuit.draw(output='mpl')\n",
        "-->"
      ]
    },
    {
      "cell_type": "markdown",
      "metadata": {
        "id": "sxjdRhr-FXvg"
      },
      "source": [
        "# ![fishy](../FIGS/A2.png)\n"
      ]
    },
    {
      "cell_type": "code",
      "source": [
        "qr = QuantumRegister(3,'q')\n",
        "cr = ClassicalRegister(3,'c')\n",
        "circuit = QuantumCircuit(qr, cr)\n",
        "circuit.h(qr)\n",
        "circuit.cx(qr[0], qr[1])\n",
        "circuit.cx(qr[1], qr[2])\n",
        "circuit.cx(qr[0], qr[1])\n",
        "circuit.measure(qr,cr)\n",
        "circuit.draw(output='mpl')"
      ],
      "metadata": {
        "colab": {
          "base_uri": "https://localhost:8080/",
          "height": 231
        },
        "id": "VhaZ4vJNIDV0",
        "outputId": "6b6115e2-91c0-4850-f709-1f09de258707"
      },
      "execution_count": 23,
      "outputs": [
        {
          "output_type": "execute_result",
          "data": {
            "text/plain": [
              "<Figure size 447.797x264.88 with 1 Axes>"
            ],
            "image/png": "[encoded data removed]"
          },
          "metadata": {},
          "execution_count": 23
        }
      ]
    },
    {
      "cell_type": "code",
      "execution_count": null,
      "metadata": {
        "colab": {
          "base_uri": "https://localhost:8080/"
        },
        "id": "NdM7lmoDFXvg",
        "outputId": "423d4b66-0892-488d-e94e-73fd4e93823a"
      },
      "outputs": [
        {
          "output_type": "stream",
          "name": "stdout",
          "text": [
            "python version:  3.7.13\n",
            "qiskit==0.37.0\n",
            "qiskit-aer==0.10.4\n",
            "qiskit-ibmq-provider==0.19.2\n",
            "qiskit-terra==0.21.0\n"
          ]
        }
      ],
      "source": [
        "from platform import python_version\n",
        "print(\"python version: \", python_version())\n",
        "!pip3 freeze | grep qiskit"
      ]
    },
    {
      "cell_type": "markdown",
      "metadata": {
        "id": "2sxKlIneFXvg"
      },
      "source": [
        "# References"
      ]
    },
    {
      "cell_type": "markdown",
      "metadata": {
        "id": "pwOikzuSFXvg"
      },
      "source": [
        "\n",
        "1. Qiskit tutorial: https://qiskit.org/documentation/install.html\n",
        "2. Github tutorial: https://github.com/Qiskit/qiskit-iqx-tutorials\n",
        "3. youtube video: https://www.youtube.com/watch?v=L4jYKGrxKRE&feature=youtu.be\n",
        "4. IBM account: https://quantum-computing.ibm.com/\n",
        "5. Github repository: https://github.com/jaorduz/IntroQuantumCompu/blob/500aa2ed57/NB_1/README.md\n",
        "\n",
        "<!--\n",
        "https://quantum-computing.ibm.com/\n",
        "My count with gmail in ciencias.unam\n",
        "and Github\n",
        "-->"
      ]
    }
  ],
  "metadata": {
    "interpreter": {
      "hash": "67c6e30cc51eeb2c63ed190c851214ed4edf2b99efcdbee63e8aad06437ac09b"
    },
    "kernelspec": {
      "display_name": "Python 3.7.9 ('myEnvPy37')",
      "language": "python",
      "name": "python3"
    },
    "language_info": {
      "codemirror_mode": {
        "name": "ipython",
        "version": 3
      },
      "file_extension": ".py",
      "mimetype": "text/x-python",
      "name": "python",
      "nbconvert_exporter": "python",
      "pygments_lexer": "ipython3",
      "version": "3.7.9"
    },
    "colab": {
      "name": "QC0_2_Qiskit.ipynb",
      "provenance": [],
      "collapsed_sections": []
    }
  },
  "nbformat": 4,
  "nbformat_minor": 0
}