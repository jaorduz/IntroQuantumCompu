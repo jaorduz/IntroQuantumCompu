{
  "cells": [
    {
      "cell_type": "markdown",
      "metadata": {
        "id": "Uy6Uy_kt8hrw"
      },
      "source": [
        "# Qiskit: Basics on Python and Quantum Computing\n",
        "### By: Rokin Maharjan"
      ]
    },
    {
      "cell_type": "markdown",
      "metadata": {
        "id": "K1xznQ0z8hrx"
      },
      "source": [
        "## Quantum Hello world!"
      ]
    },
    {
      "cell_type": "markdown",
      "metadata": {
        "id": "m8jOExD-8hrx"
      },
      "source": [
        "We import the libraries or modules"
      ]
    },
    {
      "cell_type": "code",
      "source": [
        "pip install qiskit"
      ],
      "metadata": {
        "colab": {
          "base_uri": "https://localhost:8080/"
        },
        "id": "PW8gIHvL9xzf",
        "outputId": "0ee4ab91-c9a8-4e9e-a3d5-ba76a1938cc8"
      },
      "execution_count": 1,
      "outputs": [
        {
          "output_type": "stream",
          "name": "stdout",
          "text": [
            "Looking in indexes: https://pypi.org/simple, https://us-python.pkg.dev/colab-wheels/public/simple/\n",
            "Requirement already satisfied: qiskit in /usr/local/lib/python3.7/dist-packages (0.37.0)\n",
            "Requirement already satisfied: qiskit-ibmq-provider==0.19.2 in /usr/local/lib/python3.7/dist-packages (from qiskit) (0.19.2)\n",
            "Requirement already satisfied: qiskit-terra==0.21.0 in /usr/local/lib/python3.7/dist-packages (from qiskit) (0.21.0)\n",
            "Requirement already satisfied: qiskit-aer==0.10.4 in /usr/local/lib/python3.7/dist-packages (from qiskit) (0.10.4)\n",
            "Requirement already satisfied: numpy>=1.16.3 in /usr/local/lib/python3.7/dist-packages (from qiskit-aer==0.10.4->qiskit) (1.21.6)\n",
            "Requirement already satisfied: scipy>=1.0 in /usr/local/lib/python3.7/dist-packages (from qiskit-aer==0.10.4->qiskit) (1.7.3)\n",
            "Requirement already satisfied: requests>=2.19 in /usr/local/lib/python3.7/dist-packages (from qiskit-ibmq-provider==0.19.2->qiskit) (2.23.0)\n",
            "Requirement already satisfied: websockets>=10.0 in /usr/local/lib/python3.7/dist-packages (from qiskit-ibmq-provider==0.19.2->qiskit) (10.3)\n",
            "Requirement already satisfied: requests-ntlm>=1.1.0 in /usr/local/lib/python3.7/dist-packages (from qiskit-ibmq-provider==0.19.2->qiskit) (1.1.0)\n",
            "Requirement already satisfied: websocket-client>=1.0.1 in /usr/local/lib/python3.7/dist-packages (from qiskit-ibmq-provider==0.19.2->qiskit) (1.3.3)\n",
            "Requirement already satisfied: urllib3>=1.21.1 in /usr/local/lib/python3.7/dist-packages (from qiskit-ibmq-provider==0.19.2->qiskit) (1.24.3)\n",
            "Requirement already satisfied: python-dateutil>=2.8.0 in /usr/local/lib/python3.7/dist-packages (from qiskit-ibmq-provider==0.19.2->qiskit) (2.8.2)\n",
            "Requirement already satisfied: stevedore>=3.0.0 in /usr/local/lib/python3.7/dist-packages (from qiskit-terra==0.21.0->qiskit) (3.5.0)\n",
            "Requirement already satisfied: psutil>=5 in /usr/local/lib/python3.7/dist-packages (from qiskit-terra==0.21.0->qiskit) (5.4.8)\n",
            "Requirement already satisfied: retworkx>=0.11.0 in /usr/local/lib/python3.7/dist-packages (from qiskit-terra==0.21.0->qiskit) (0.11.0)\n",
            "Requirement already satisfied: symengine>=0.9 in /usr/local/lib/python3.7/dist-packages (from qiskit-terra==0.21.0->qiskit) (0.9.2)\n",
            "Requirement already satisfied: sympy>=1.3 in /usr/local/lib/python3.7/dist-packages (from qiskit-terra==0.21.0->qiskit) (1.7.1)\n",
            "Requirement already satisfied: dill>=0.3 in /usr/local/lib/python3.7/dist-packages (from qiskit-terra==0.21.0->qiskit) (0.3.5.1)\n",
            "Requirement already satisfied: typing-extensions in /usr/local/lib/python3.7/dist-packages (from qiskit-terra==0.21.0->qiskit) (4.1.1)\n",
            "Requirement already satisfied: tweedledum<2.0,>=1.1 in /usr/local/lib/python3.7/dist-packages (from qiskit-terra==0.21.0->qiskit) (1.1.1)\n",
            "Requirement already satisfied: ply>=3.10 in /usr/local/lib/python3.7/dist-packages (from qiskit-terra==0.21.0->qiskit) (3.11)\n",
            "Requirement already satisfied: shared-memory38 in /usr/local/lib/python3.7/dist-packages (from qiskit-terra==0.21.0->qiskit) (0.1.2)\n",
            "Requirement already satisfied: six>=1.5 in /usr/local/lib/python3.7/dist-packages (from python-dateutil>=2.8.0->qiskit-ibmq-provider==0.19.2->qiskit) (1.15.0)\n",
            "Requirement already satisfied: chardet<4,>=3.0.2 in /usr/local/lib/python3.7/dist-packages (from requests>=2.19->qiskit-ibmq-provider==0.19.2->qiskit) (3.0.4)\n",
            "Requirement already satisfied: certifi>=2017.4.17 in /usr/local/lib/python3.7/dist-packages (from requests>=2.19->qiskit-ibmq-provider==0.19.2->qiskit) (2022.6.15)\n",
            "Requirement already satisfied: idna<3,>=2.5 in /usr/local/lib/python3.7/dist-packages (from requests>=2.19->qiskit-ibmq-provider==0.19.2->qiskit) (2.10)\n",
            "Requirement already satisfied: ntlm-auth>=1.0.2 in /usr/local/lib/python3.7/dist-packages (from requests-ntlm>=1.1.0->qiskit-ibmq-provider==0.19.2->qiskit) (1.5.0)\n",
            "Requirement already satisfied: cryptography>=1.3 in /usr/local/lib/python3.7/dist-packages (from requests-ntlm>=1.1.0->qiskit-ibmq-provider==0.19.2->qiskit) (37.0.4)\n",
            "Requirement already satisfied: cffi>=1.12 in /usr/local/lib/python3.7/dist-packages (from cryptography>=1.3->requests-ntlm>=1.1.0->qiskit-ibmq-provider==0.19.2->qiskit) (1.15.1)\n",
            "Requirement already satisfied: pycparser in /usr/local/lib/python3.7/dist-packages (from cffi>=1.12->cryptography>=1.3->requests-ntlm>=1.1.0->qiskit-ibmq-provider==0.19.2->qiskit) (2.21)\n",
            "Requirement already satisfied: pbr!=2.1.0,>=2.0.0 in /usr/local/lib/python3.7/dist-packages (from stevedore>=3.0.0->qiskit-terra==0.21.0->qiskit) (5.9.0)\n",
            "Requirement already satisfied: importlib-metadata>=1.7.0 in /usr/local/lib/python3.7/dist-packages (from stevedore>=3.0.0->qiskit-terra==0.21.0->qiskit) (4.12.0)\n",
            "Requirement already satisfied: zipp>=0.5 in /usr/local/lib/python3.7/dist-packages (from importlib-metadata>=1.7.0->stevedore>=3.0.0->qiskit-terra==0.21.0->qiskit) (3.8.1)\n",
            "Requirement already satisfied: mpmath>=0.19 in /usr/local/lib/python3.7/dist-packages (from sympy>=1.3->qiskit-terra==0.21.0->qiskit) (1.2.1)\n"
          ]
        }
      ]
    },
    {
      "cell_type": "code",
      "source": [
        "pip install pylatexenc"
      ],
      "metadata": {
        "colab": {
          "base_uri": "https://localhost:8080/"
        },
        "id": "tnB6IL06AymF",
        "outputId": "1bc6355e-b666-4a6f-a900-d96b28841dc0"
      },
      "execution_count": 2,
      "outputs": [
        {
          "output_type": "stream",
          "name": "stdout",
          "text": [
            "Looking in indexes: https://pypi.org/simple, https://us-python.pkg.dev/colab-wheels/public/simple/\n",
            "Requirement already satisfied: pylatexenc in /usr/local/lib/python3.7/dist-packages (2.10)\n"
          ]
        }
      ]
    },
    {
      "cell_type": "code",
      "execution_count": 3,
      "metadata": {
        "id": "NotU9nkp8hry"
      },
      "outputs": [],
      "source": [
        "from qiskit import *"
      ]
    },
    {
      "cell_type": "markdown",
      "metadata": {
        "id": "8ZYi64pk8hrz"
      },
      "source": [
        "We introduce a line to draw the graphs in the nb"
      ]
    },
    {
      "cell_type": "code",
      "execution_count": 4,
      "metadata": {
        "id": "0CrXSqO38hrz"
      },
      "outputs": [],
      "source": [
        "%matplotlib inline"
      ]
    },
    {
      "cell_type": "markdown",
      "metadata": {
        "id": "VJ1080cl8hrz"
      },
      "source": [
        "We create the quantum and classical registers"
      ]
    },
    {
      "cell_type": "code",
      "execution_count": 5,
      "metadata": {
        "id": "0dLKUuEW8hr0"
      },
      "outputs": [],
      "source": [
        "qr = QuantumRegister(3)\n",
        "cr = ClassicalRegister(3)"
      ]
    },
    {
      "cell_type": "markdown",
      "metadata": {
        "id": "t6Y9qVUy8hr1"
      },
      "source": [
        "To add the last registers in the circuit"
      ]
    },
    {
      "cell_type": "code",
      "execution_count": 6,
      "metadata": {
        "id": "QCjVzAjs8hr1"
      },
      "outputs": [],
      "source": [
        "circuit = QuantumCircuit(qr,cr)"
      ]
    },
    {
      "cell_type": "markdown",
      "metadata": {
        "id": "su2vwM7X8hr1"
      },
      "source": [
        "We draw the circuit through two ways\n",
        "1. basic"
      ]
    },
    {
      "cell_type": "code",
      "execution_count": 7,
      "metadata": {
        "colab": {
          "base_uri": "https://localhost:8080/",
          "height": 156
        },
        "id": "tastlN_f8hr2",
        "outputId": "e98f78fb-6366-4d30-cfeb-020a4229ae0d"
      },
      "outputs": [
        {
          "output_type": "execute_result",
          "data": {
            "text/plain": [
              "      \n",
              "q0_0: \n",
              "      \n",
              "q0_1: \n",
              "      \n",
              "q0_2: \n",
              "      \n",
              "c0: 3/\n",
              "      "
            ],
            "text/html": [
              "<pre style=\"word-wrap: normal;white-space: pre;background: #fff0;line-height: 1.1;font-family: &quot;Courier New&quot;,Courier,monospace\">      \n",
              "q0_0: \n",
              "      \n",
              "q0_1: \n",
              "      \n",
              "q0_2: \n",
              "      \n",
              "c0: 3/\n",
              "      </pre>"
            ]
          },
          "metadata": {},
          "execution_count": 7
        }
      ],
      "source": [
        "circuit.draw()"
      ]
    },
    {
      "cell_type": "markdown",
      "metadata": {
        "id": "VxsPgvoz8hr2"
      },
      "source": [
        "2. medium"
      ]
    },
    {
      "cell_type": "code",
      "execution_count": 8,
      "metadata": {
        "colab": {
          "base_uri": "https://localhost:8080/",
          "height": 231
        },
        "id": "Cqs_-3LK8hr3",
        "outputId": "2de75bcc-83be-4e38-fa07-1abe8b9a175e"
      },
      "outputs": [
        {
          "output_type": "execute_result",
          "data": {
            "text/plain": [
              "<Figure size 129.678x264.88 with 1 Axes>"
            ],
            "image/png": "[encoded data removed]"
          },
          "metadata": {},
          "execution_count": 8
        }
      ],
      "source": [
        "circuit.draw(output='mpl')"
      ]
    },
    {
      "cell_type": "markdown",
      "metadata": {
        "id": "6pTebo5I8hr3"
      },
      "source": [
        "Last example shows a circuit with two qubits and two classical bits."
      ]
    },
    {
      "cell_type": "markdown",
      "metadata": {
        "id": "Y03kYe778hr3"
      },
      "source": [
        "# Exercise\n",
        "\n",
        "1. Modify the number of qubits and bits is such way to obtain 3 qubits and 3 classical bits.\n",
        "<!--\n",
        "qr = QuantumRegister(3,'q')\n",
        "cr = ClassicalRegister(3,'c')\n",
        "circuit.draw(output='mpl')\n",
        "-->"
      ]
    },
    {
      "cell_type": "markdown",
      "metadata": {
        "id": "5ts1KI068hr3"
      },
      "source": [
        "\n",
        "To update:\n",
        "```python\n",
        "!pip3 install qiskit==0.36.0\n",
        "!pip install qiskit\n",
        "!pip install qiskit-ibm-runtime\n",
        "```"
      ]
    },
    {
      "cell_type": "code",
      "execution_count": 9,
      "metadata": {
        "colab": {
          "base_uri": "https://localhost:8080/"
        },
        "id": "7hwZQcTs8hr3",
        "outputId": "5fdf7ff2-c567-4f0e-a2b3-7994577725d8"
      },
      "outputs": [
        {
          "output_type": "stream",
          "name": "stdout",
          "text": [
            "python version:  3.7.13\n",
            "qiskit==0.37.0\n",
            "qiskit-aer==0.10.4\n",
            "qiskit-ibmq-provider==0.19.2\n",
            "qiskit-terra==0.21.0\n"
          ]
        }
      ],
      "source": [
        "from platform import python_version\n",
        "print(\"python version: \", python_version())\n",
        "!pip3 freeze | grep qiskit"
      ]
    },
    {
      "cell_type": "markdown",
      "metadata": {
        "id": "aYy32wSP8hr4"
      },
      "source": [
        "# References"
      ]
    },
    {
      "cell_type": "markdown",
      "metadata": {
        "id": "WZBEvHtn8hr4"
      },
      "source": [
        "\n",
        "1. Qiskit tutorial: https://qiskit.org/documentation/install.html\n",
        "2. Github tutorial: https://github.com/Qiskit/qiskit-iqx-tutorials\n",
        "3. youtube video: https://www.youtube.com/watch?v=L4jYKGrxKRE&feature=youtu.be\n",
        "4. IBM account: https://quantum-computing.ibm.com/\n",
        "5. Github repository: https://github.com/jaorduz/IntroQuantumCompu/blob/500aa2ed57/NB_1/README.md\n",
        "\n",
        "<!--\n",
        "https://quantum-computing.ibm.com/\n",
        "My count with gmail in ciencias.unam\n",
        "and Github\n",
        "-->"
      ]
    }
  ],
  "metadata": {
    "interpreter": {
      "hash": "67c6e30cc51eeb2c63ed190c851214ed4edf2b99efcdbee63e8aad06437ac09b"
    },
    "kernelspec": {
      "display_name": "Python 3.7.9 ('myEnvPy37')",
      "language": "python",
      "name": "python3"
    },
    "language_info": {
      "codemirror_mode": {
        "name": "ipython",
        "version": 3
      },
      "file_extension": ".py",
      "mimetype": "text/x-python",
      "name": "python",
      "nbconvert_exporter": "python",
      "pygments_lexer": "ipython3",
      "version": "3.7.9"
    },
    "colab": {
      "name": "QC0_1_Qiskit.ipynb",
      "provenance": [],
      "collapsed_sections": []
    }
  },
  "nbformat": 4,
  "nbformat_minor": 0
}