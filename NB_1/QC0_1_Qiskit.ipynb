{
 "cells": [
  {
   "cell_type": "markdown",
   "metadata": {},
   "source": [
    "# Qiskit: Basics on Python and Quantum Computing\n",
    "### By: Javier Orduz"
   ]
  },
  {
   "cell_type": "markdown",
   "metadata": {},
   "source": [
    "## Quantum Hello world!"
   ]
  },
  {
   "cell_type": "markdown",
   "metadata": {},
   "source": [
    "We import the libraries or modules"
   ]
  },
  {
   "cell_type": "code",
   "execution_count": 1,
   "metadata": {},
   "outputs": [
    {
     "name": "stdout",
     "output_type": "stream",
     "text": [
      "Requirement already satisfied: qiskit==0.36.0 in c:\\users\\swapn\\anaconda3\\lib\\site-packages (0.36.0)\n",
      "Requirement already satisfied: qiskit-ignis==0.7.0 in c:\\users\\swapn\\anaconda3\\lib\\site-packages (from qiskit==0.36.0) (0.7.0)\n",
      "Requirement already satisfied: qiskit-aer==0.10.4 in c:\\users\\swapn\\anaconda3\\lib\\site-packages (from qiskit==0.36.0) (0.10.4)\n",
      "Collecting qiskit-terra==0.20.0\n",
      "  Using cached qiskit_terra-0.20.0-cp39-cp39-win_amd64.whl (6.1 MB)\n",
      "Requirement already satisfied: qiskit-ibmq-provider==0.19.0 in c:\\users\\swapn\\anaconda3\\lib\\site-packages (from qiskit==0.36.0) (0.19.0)\n",
      "Requirement already satisfied: scipy>=1.0 in c:\\users\\swapn\\anaconda3\\lib\\site-packages (from qiskit-aer==0.10.4->qiskit==0.36.0) (1.8.0)\n",
      "Requirement already satisfied: numpy>=1.16.3 in c:\\users\\swapn\\anaconda3\\lib\\site-packages (from qiskit-aer==0.10.4->qiskit==0.36.0) (1.22.3)\n",
      "Requirement already satisfied: requests-ntlm>=1.1.0 in c:\\users\\swapn\\anaconda3\\lib\\site-packages (from qiskit-ibmq-provider==0.19.0->qiskit==0.36.0) (1.1.0)\n",
      "Requirement already satisfied: python-dateutil>=2.8.0 in c:\\users\\swapn\\anaconda3\\lib\\site-packages (from qiskit-ibmq-provider==0.19.0->qiskit==0.36.0) (2.8.2)\n"
     ]
    },
    {
     "name": "stderr",
     "output_type": "stream",
     "text": [
      "WARNING: Ignoring invalid distribution -iskit-terra (c:\\users\\swapn\\anaconda3\\lib\\site-packages)\n",
      "WARNING: Ignoring invalid distribution -iskit-terra (c:\\users\\swapn\\anaconda3\\lib\\site-packages)\n",
      "WARNING: Ignoring invalid distribution -iskit-terra (c:\\users\\swapn\\anaconda3\\lib\\site-packages)\n",
      "    WARNING: Ignoring invalid distribution -iskit-terra (c:\\users\\swapn\\anaconda3\\lib\\site-packages)\n",
      "WARNING: Ignoring invalid distribution -iskit-terra (c:\\users\\swapn\\anaconda3\\lib\\site-packages)\n",
      "ERROR: pip's dependency resolver does not currently take into account all the packages that are installed. This behaviour is the source of the following dependency conflicts.\n",
      "qiskit-ibm-runtime 0.6.2 requires qiskit-terra>=0.21.0, but you have qiskit-terra 0.20.0 which is incompatible.\n",
      "WARNING: Ignoring invalid distribution -iskit-terra (c:\\users\\swapn\\anaconda3\\lib\\site-packages)\n",
      "WARNING: Ignoring invalid distribution -iskit-terra (c:\\users\\swapn\\anaconda3\\lib\\site-packages)\n",
      "WARNING: Ignoring invalid distribution -iskit-terra (c:\\users\\swapn\\anaconda3\\lib\\site-packages)\n"
     ]
    },
    {
     "name": "stdout",
     "output_type": "stream",
     "text": [
      "Requirement already satisfied: urllib3>=1.21.1 in c:\\users\\swapn\\anaconda3\\lib\\site-packages (from qiskit-ibmq-provider==0.19.0->qiskit==0.36.0) (1.26.7)\n",
      "Requirement already satisfied: websockets>=10.0 in c:\\users\\swapn\\anaconda3\\lib\\site-packages (from qiskit-ibmq-provider==0.19.0->qiskit==0.36.0) (10.3)\n",
      "Requirement already satisfied: requests>=2.19 in c:\\users\\swapn\\anaconda3\\lib\\site-packages (from qiskit-ibmq-provider==0.19.0->qiskit==0.36.0) (2.26.0)\n",
      "Requirement already satisfied: websocket-client>=1.0.1 in c:\\users\\swapn\\anaconda3\\lib\\site-packages (from qiskit-ibmq-provider==0.19.0->qiskit==0.36.0) (1.3.2)\n",
      "Requirement already satisfied: setuptools>=40.1.0 in c:\\users\\swapn\\anaconda3\\lib\\site-packages (from qiskit-ignis==0.7.0->qiskit==0.36.0) (58.0.4)\n",
      "Requirement already satisfied: retworkx>=0.8.0 in c:\\users\\swapn\\anaconda3\\lib\\site-packages (from qiskit-ignis==0.7.0->qiskit==0.36.0) (0.11.0)\n",
      "Requirement already satisfied: ply>=3.10 in c:\\users\\swapn\\anaconda3\\lib\\site-packages (from qiskit-terra==0.20.0->qiskit==0.36.0) (3.11)\n",
      "Requirement already satisfied: psutil>=5 in c:\\users\\swapn\\anaconda3\\lib\\site-packages (from qiskit-terra==0.20.0->qiskit==0.36.0) (5.8.0)\n",
      "Requirement already satisfied: tweedledum<2.0,>=1.1 in c:\\users\\swapn\\anaconda3\\lib\\site-packages (from qiskit-terra==0.20.0->qiskit==0.36.0) (1.1.1)\n",
      "Requirement already satisfied: sympy>=1.3 in c:\\users\\swapn\\anaconda3\\lib\\site-packages (from qiskit-terra==0.20.0->qiskit==0.36.0) (1.9)\n",
      "Requirement already satisfied: python-constraint>=1.4 in c:\\users\\swapn\\anaconda3\\lib\\site-packages (from qiskit-terra==0.20.0->qiskit==0.36.0) (1.4.0)\n",
      "Requirement already satisfied: stevedore>=3.0.0 in c:\\users\\swapn\\anaconda3\\lib\\site-packages (from qiskit-terra==0.20.0->qiskit==0.36.0) (3.5.0)\n",
      "Requirement already satisfied: dill>=0.3 in c:\\users\\swapn\\anaconda3\\lib\\site-packages (from qiskit-terra==0.20.0->qiskit==0.36.0) (0.3.4)\n",
      "Requirement already satisfied: six>=1.5 in c:\\users\\swapn\\anaconda3\\lib\\site-packages (from python-dateutil>=2.8.0->qiskit-ibmq-provider==0.19.0->qiskit==0.36.0) (1.16.0)\n",
      "Requirement already satisfied: certifi>=2017.4.17 in c:\\users\\swapn\\anaconda3\\lib\\site-packages (from requests>=2.19->qiskit-ibmq-provider==0.19.0->qiskit==0.36.0) (2021.10.8)\n",
      "Requirement already satisfied: charset-normalizer~=2.0.0 in c:\\users\\swapn\\anaconda3\\lib\\site-packages (from requests>=2.19->qiskit-ibmq-provider==0.19.0->qiskit==0.36.0) (2.0.12)\n",
      "Requirement already satisfied: idna<4,>=2.5 in c:\\users\\swapn\\anaconda3\\lib\\site-packages (from requests>=2.19->qiskit-ibmq-provider==0.19.0->qiskit==0.36.0) (3.2)\n",
      "Requirement already satisfied: ntlm-auth>=1.0.2 in c:\\users\\swapn\\anaconda3\\lib\\site-packages (from requests-ntlm>=1.1.0->qiskit-ibmq-provider==0.19.0->qiskit==0.36.0) (1.5.0)\n",
      "Requirement already satisfied: cryptography>=1.3 in c:\\users\\swapn\\anaconda3\\lib\\site-packages (from requests-ntlm>=1.1.0->qiskit-ibmq-provider==0.19.0->qiskit==0.36.0) (3.4.8)\n",
      "Requirement already satisfied: cffi>=1.12 in c:\\users\\swapn\\anaconda3\\lib\\site-packages (from cryptography>=1.3->requests-ntlm>=1.1.0->qiskit-ibmq-provider==0.19.0->qiskit==0.36.0) (1.14.6)\n",
      "Requirement already satisfied: pycparser in c:\\users\\swapn\\anaconda3\\lib\\site-packages (from cffi>=1.12->cryptography>=1.3->requests-ntlm>=1.1.0->qiskit-ibmq-provider==0.19.0->qiskit==0.36.0) (2.20)\n",
      "Requirement already satisfied: pbr!=2.1.0,>=2.0.0 in c:\\users\\swapn\\anaconda3\\lib\\site-packages (from stevedore>=3.0.0->qiskit-terra==0.20.0->qiskit==0.36.0) (5.8.1)\n",
      "Requirement already satisfied: mpmath>=0.19 in c:\\users\\swapn\\anaconda3\\lib\\site-packages (from sympy>=1.3->qiskit-terra==0.20.0->qiskit==0.36.0) (1.2.1)\n",
      "Installing collected packages: qiskit-terra\n",
      "  Attempting uninstall: qiskit-terra\n",
      "    Found existing installation: qiskit-terra 0.21.0\n",
      "    Uninstalling qiskit-terra-0.21.0:\n",
      "      Successfully uninstalled qiskit-terra-0.21.0\n",
      "Successfully installed qiskit-terra-0.20.0\n",
      "Requirement already satisfied: qiskit in c:\\users\\swapn\\anaconda3\\lib\\site-packages (0.36.0)\n",
      "Requirement already satisfied: qiskit-ignis==0.7.0 in c:\\users\\swapn\\anaconda3\\lib\\site-packages (from qiskit) (0.7.0)\n",
      "Requirement already satisfied: qiskit-ibmq-provider==0.19.0 in c:\\users\\swapn\\anaconda3\\lib\\site-packages (from qiskit) (0.19.0)\n",
      "Requirement already satisfied: qiskit-aer==0.10.4 in c:\\users\\swapn\\anaconda3\\lib\\site-packages (from qiskit) (0.10.4)\n",
      "Requirement already satisfied: qiskit-terra==0.20.0 in c:\\users\\swapn\\anaconda3\\lib\\site-packages (from qiskit) (0.20.0)\n",
      "Requirement already satisfied: numpy>=1.16.3 in c:\\users\\swapn\\anaconda3\\lib\\site-packages (from qiskit-aer==0.10.4->qiskit) (1.22.3)\n",
      "Requirement already satisfied: scipy>=1.0 in c:\\users\\swapn\\anaconda3\\lib\\site-packages (from qiskit-aer==0.10.4->qiskit) (1.8.0)\n",
      "Requirement already satisfied: requests-ntlm>=1.1.0 in c:\\users\\swapn\\anaconda3\\lib\\site-packages (from qiskit-ibmq-provider==0.19.0->qiskit) (1.1.0)\n",
      "Requirement already satisfied: websockets>=10.0 in c:\\users\\swapn\\anaconda3\\lib\\site-packages (from qiskit-ibmq-provider==0.19.0->qiskit) (10.3)\n",
      "Requirement already satisfied: urllib3>=1.21.1 in c:\\users\\swapn\\anaconda3\\lib\\site-packages (from qiskit-ibmq-provider==0.19.0->qiskit) (1.26.7)\n",
      "Requirement already satisfied: python-dateutil>=2.8.0 in c:\\users\\swapn\\anaconda3\\lib\\site-packages (from qiskit-ibmq-provider==0.19.0->qiskit) (2.8.2)\n",
      "Requirement already satisfied: requests>=2.19 in c:\\users\\swapn\\anaconda3\\lib\\site-packages (from qiskit-ibmq-provider==0.19.0->qiskit) (2.26.0)\n",
      "Requirement already satisfied: websocket-client>=1.0.1 in c:\\users\\swapn\\anaconda3\\lib\\site-packages (from qiskit-ibmq-provider==0.19.0->qiskit) (1.3.2)\n",
      "Requirement already satisfied: retworkx>=0.8.0 in c:\\users\\swapn\\anaconda3\\lib\\site-packages (from qiskit-ignis==0.7.0->qiskit) (0.11.0)\n",
      "Requirement already satisfied: setuptools>=40.1.0 in c:\\users\\swapn\\anaconda3\\lib\\site-packages (from qiskit-ignis==0.7.0->qiskit) (58.0.4)\n",
      "Requirement already satisfied: sympy>=1.3 in c:\\users\\swapn\\anaconda3\\lib\\site-packages (from qiskit-terra==0.20.0->qiskit) (1.9)\n",
      "Requirement already satisfied: tweedledum<2.0,>=1.1 in c:\\users\\swapn\\anaconda3\\lib\\site-packages (from qiskit-terra==0.20.0->qiskit) (1.1.1)\n",
      "Requirement already satisfied: ply>=3.10 in c:\\users\\swapn\\anaconda3\\lib\\site-packages (from qiskit-terra==0.20.0->qiskit) (3.11)\n",
      "Requirement already satisfied: python-constraint>=1.4 in c:\\users\\swapn\\anaconda3\\lib\\site-packages (from qiskit-terra==0.20.0->qiskit) (1.4.0)\n",
      "Requirement already satisfied: dill>=0.3 in c:\\users\\swapn\\anaconda3\\lib\\site-packages (from qiskit-terra==0.20.0->qiskit) (0.3.4)\n",
      "Requirement already satisfied: stevedore>=3.0.0 in c:\\users\\swapn\\anaconda3\\lib\\site-packages (from qiskit-terra==0.20.0->qiskit) (3.5.0)\n",
      "Requirement already satisfied: psutil>=5 in c:\\users\\swapn\\anaconda3\\lib\\site-packages (from qiskit-terra==0.20.0->qiskit) (5.8.0)\n",
      "Requirement already satisfied: six>=1.5 in c:\\users\\swapn\\anaconda3\\lib\\site-packages (from python-dateutil>=2.8.0->qiskit-ibmq-provider==0.19.0->qiskit) (1.16.0)\n",
      "Requirement already satisfied: charset-normalizer~=2.0.0 in c:\\users\\swapn\\anaconda3\\lib\\site-packages (from requests>=2.19->qiskit-ibmq-provider==0.19.0->qiskit) (2.0.12)\n",
      "Requirement already satisfied: certifi>=2017.4.17 in c:\\users\\swapn\\anaconda3\\lib\\site-packages (from requests>=2.19->qiskit-ibmq-provider==0.19.0->qiskit) (2021.10.8)\n",
      "Requirement already satisfied: idna<4,>=2.5 in c:\\users\\swapn\\anaconda3\\lib\\site-packages (from requests>=2.19->qiskit-ibmq-provider==0.19.0->qiskit) (3.2)\n",
      "Requirement already satisfied: ntlm-auth>=1.0.2 in c:\\users\\swapn\\anaconda3\\lib\\site-packages (from requests-ntlm>=1.1.0->qiskit-ibmq-provider==0.19.0->qiskit) (1.5.0)\n",
      "Requirement already satisfied: cryptography>=1.3 in c:\\users\\swapn\\anaconda3\\lib\\site-packages (from requests-ntlm>=1.1.0->qiskit-ibmq-provider==0.19.0->qiskit) (3.4.8)\n",
      "Requirement already satisfied: cffi>=1.12 in c:\\users\\swapn\\anaconda3\\lib\\site-packages (from cryptography>=1.3->requests-ntlm>=1.1.0->qiskit-ibmq-provider==0.19.0->qiskit) (1.14.6)\n",
      "Requirement already satisfied: pycparser in c:\\users\\swapn\\anaconda3\\lib\\site-packages (from cffi>=1.12->cryptography>=1.3->requests-ntlm>=1.1.0->qiskit-ibmq-provider==0.19.0->qiskit) (2.20)\n",
      "Requirement already satisfied: pbr!=2.1.0,>=2.0.0 in c:\\users\\swapn\\anaconda3\\lib\\site-packages (from stevedore>=3.0.0->qiskit-terra==0.20.0->qiskit) (5.8.1)\n",
      "Requirement already satisfied: mpmath>=0.19 in c:\\users\\swapn\\anaconda3\\lib\\site-packages (from sympy>=1.3->qiskit-terra==0.20.0->qiskit) (1.2.1)\n"
     ]
    },
    {
     "name": "stderr",
     "output_type": "stream",
     "text": [
      "WARNING: Ignoring invalid distribution -iskit-terra (c:\\users\\swapn\\anaconda3\\lib\\site-packages)\n",
      "WARNING: Ignoring invalid distribution -iskit-terra (c:\\users\\swapn\\anaconda3\\lib\\site-packages)\n",
      "WARNING: Ignoring invalid distribution -iskit-terra (c:\\users\\swapn\\anaconda3\\lib\\site-packages)\n",
      "WARNING: Ignoring invalid distribution -iskit-terra (c:\\users\\swapn\\anaconda3\\lib\\site-packages)\n",
      "WARNING: Ignoring invalid distribution -iskit-terra (c:\\users\\swapn\\anaconda3\\lib\\site-packages)\n",
      "WARNING: Ignoring invalid distribution -iskit-terra (c:\\users\\swapn\\anaconda3\\lib\\site-packages)\n"
     ]
    },
    {
     "name": "stdout",
     "output_type": "stream",
     "text": [
      "Requirement already satisfied: qiskit-ibm-runtime in c:\\users\\swapn\\anaconda3\\lib\\site-packages (0.6.2)\n",
      "Requirement already satisfied: websocket-client>=1.0.1 in c:\\users\\swapn\\anaconda3\\lib\\site-packages (from qiskit-ibm-runtime) (1.3.2)\n",
      "Requirement already satisfied: urllib3>=1.21.1 in c:\\users\\swapn\\anaconda3\\lib\\site-packages (from qiskit-ibm-runtime) (1.26.7)\n",
      "Requirement already satisfied: python-dateutil>=2.8.0 in c:\\users\\swapn\\anaconda3\\lib\\site-packages (from qiskit-ibm-runtime) (2.8.2)\n",
      "Requirement already satisfied: ibm-platform-services>=0.22.6 in c:\\users\\swapn\\anaconda3\\lib\\site-packages (from qiskit-ibm-runtime) (0.25.0)\n",
      "Collecting qiskit-terra>=0.21.0\n",
      "  Using cached qiskit_terra-0.21.0-cp39-cp39-win_amd64.whl (6.3 MB)\n",
      "Requirement already satisfied: requests>=2.19 in c:\\users\\swapn\\anaconda3\\lib\\site-packages (from qiskit-ibm-runtime) (2.26.0)\n",
      "Requirement already satisfied: typing-extensions>=4.0.0 in c:\\users\\swapn\\anaconda3\\lib\\site-packages (from qiskit-ibm-runtime) (4.3.0)\n",
      "Requirement already satisfied: requests-ntlm>=1.1.0 in c:\\users\\swapn\\anaconda3\\lib\\site-packages (from qiskit-ibm-runtime) (1.1.0)\n",
      "Requirement already satisfied: numpy>=1.13 in c:\\users\\swapn\\anaconda3\\lib\\site-packages (from qiskit-ibm-runtime) (1.22.3)\n",
      "Requirement already satisfied: ibm-cloud-sdk-core<4.0.0,>=3.15.2 in c:\\users\\swapn\\anaconda3\\lib\\site-packages (from ibm-platform-services>=0.22.6->qiskit-ibm-runtime) (3.15.3)\n",
      "Requirement already satisfied: PyJWT<3.0.0,>=2.4.0 in c:\\users\\swapn\\anaconda3\\lib\\site-packages (from ibm-cloud-sdk-core<4.0.0,>=3.15.2->ibm-platform-services>=0.22.6->qiskit-ibm-runtime) (2.4.0)\n",
      "Requirement already satisfied: six>=1.5 in c:\\users\\swapn\\anaconda3\\lib\\site-packages (from python-dateutil>=2.8.0->qiskit-ibm-runtime) (1.16.0)\n",
      "Requirement already satisfied: psutil>=5 in c:\\users\\swapn\\anaconda3\\lib\\site-packages (from qiskit-terra>=0.21.0->qiskit-ibm-runtime) (5.8.0)\n",
      "Requirement already satisfied: stevedore>=3.0.0 in c:\\users\\swapn\\anaconda3\\lib\\site-packages (from qiskit-terra>=0.21.0->qiskit-ibm-runtime) (3.5.0)\n",
      "Requirement already satisfied: ply>=3.10 in c:\\users\\swapn\\anaconda3\\lib\\site-packages (from qiskit-terra>=0.21.0->qiskit-ibm-runtime) (3.11)\n",
      "Requirement already satisfied: retworkx>=0.11.0 in c:\\users\\swapn\\anaconda3\\lib\\site-packages (from qiskit-terra>=0.21.0->qiskit-ibm-runtime) (0.11.0)\n",
      "Requirement already satisfied: dill>=0.3 in c:\\users\\swapn\\anaconda3\\lib\\site-packages (from qiskit-terra>=0.21.0->qiskit-ibm-runtime) (0.3.4)\n",
      "Requirement already satisfied: scipy>=1.5 in c:\\users\\swapn\\anaconda3\\lib\\site-packages (from qiskit-terra>=0.21.0->qiskit-ibm-runtime) (1.8.0)\n",
      "Requirement already satisfied: sympy>=1.3 in c:\\users\\swapn\\anaconda3\\lib\\site-packages (from qiskit-terra>=0.21.0->qiskit-ibm-runtime) (1.9)\n",
      "Requirement already satisfied: tweedledum<2.0,>=1.1 in c:\\users\\swapn\\anaconda3\\lib\\site-packages (from qiskit-terra>=0.21.0->qiskit-ibm-runtime) (1.1.1)\n",
      "Requirement already satisfied: charset-normalizer~=2.0.0 in c:\\users\\swapn\\anaconda3\\lib\\site-packages (from requests>=2.19->qiskit-ibm-runtime) (2.0.12)\n",
      "Requirement already satisfied: idna<4,>=2.5 in c:\\users\\swapn\\anaconda3\\lib\\site-packages (from requests>=2.19->qiskit-ibm-runtime) (3.2)\n",
      "Requirement already satisfied: certifi>=2017.4.17 in c:\\users\\swapn\\anaconda3\\lib\\site-packages (from requests>=2.19->qiskit-ibm-runtime) (2021.10.8)\n",
      "Requirement already satisfied: ntlm-auth>=1.0.2 in c:\\users\\swapn\\anaconda3\\lib\\site-packages (from requests-ntlm>=1.1.0->qiskit-ibm-runtime) (1.5.0)\n",
      "Requirement already satisfied: cryptography>=1.3 in c:\\users\\swapn\\anaconda3\\lib\\site-packages (from requests-ntlm>=1.1.0->qiskit-ibm-runtime) (3.4.8)\n",
      "Requirement already satisfied: cffi>=1.12 in c:\\users\\swapn\\anaconda3\\lib\\site-packages (from cryptography>=1.3->requests-ntlm>=1.1.0->qiskit-ibm-runtime) (1.14.6)\n",
      "Requirement already satisfied: pycparser in c:\\users\\swapn\\anaconda3\\lib\\site-packages (from cffi>=1.12->cryptography>=1.3->requests-ntlm>=1.1.0->qiskit-ibm-runtime) (2.20)\n",
      "Requirement already satisfied: pbr!=2.1.0,>=2.0.0 in c:\\users\\swapn\\anaconda3\\lib\\site-packages (from stevedore>=3.0.0->qiskit-terra>=0.21.0->qiskit-ibm-runtime) (5.8.1)\n",
      "Requirement already satisfied: mpmath>=0.19 in c:\\users\\swapn\\anaconda3\\lib\\site-packages (from sympy>=1.3->qiskit-terra>=0.21.0->qiskit-ibm-runtime) (1.2.1)\n",
      "Installing collected packages: qiskit-terra\n",
      "  Attempting uninstall: qiskit-terra\n",
      "    Found existing installation: qiskit-terra 0.20.0\n",
      "    Uninstalling qiskit-terra-0.20.0:\n",
      "      Successfully uninstalled qiskit-terra-0.20.0\n",
      "Successfully installed qiskit-terra-0.21.0\n"
     ]
    },
    {
     "name": "stderr",
     "output_type": "stream",
     "text": [
      "WARNING: Ignoring invalid distribution -iskit-terra (c:\\users\\swapn\\anaconda3\\lib\\site-packages)\n",
      "WARNING: Ignoring invalid distribution -iskit-terra (c:\\users\\swapn\\anaconda3\\lib\\site-packages)\n",
      "WARNING: Ignoring invalid distribution -iskit-terra (c:\\users\\swapn\\anaconda3\\lib\\site-packages)\n",
      "    WARNING: Ignoring invalid distribution -iskit-terra (c:\\users\\swapn\\anaconda3\\lib\\site-packages)\n",
      "WARNING: Ignoring invalid distribution -iskit-terra (c:\\users\\swapn\\anaconda3\\lib\\site-packages)\n",
      "ERROR: pip's dependency resolver does not currently take into account all the packages that are installed. This behaviour is the source of the following dependency conflicts.\n",
      "qiskit 0.36.0 requires qiskit-terra==0.20.0, but you have qiskit-terra 0.21.0 which is incompatible.\n",
      "WARNING: Ignoring invalid distribution -iskit-terra (c:\\users\\swapn\\anaconda3\\lib\\site-packages)\n",
      "WARNING: Ignoring invalid distribution -iskit-terra (c:\\users\\swapn\\anaconda3\\lib\\site-packages)\n",
      "WARNING: Ignoring invalid distribution -iskit-terra (c:\\users\\swapn\\anaconda3\\lib\\site-packages)\n"
     ]
    }
   ],
   "source": [
    "!pip3 install qiskit==0.36.0\n",
    "!pip install qiskit\n",
    "!pip install qiskit-ibm-runtime"
   ]
  },
  {
   "cell_type": "code",
   "execution_count": 2,
   "metadata": {},
   "outputs": [
    {
     "name": "stdout",
     "output_type": "stream",
     "text": [
      "python version:  3.9.7\n",
      "pytket-qiskit==0.24.0\n",
      "qiskit==0.36.0\n",
      "qiskit-aer==0.10.4\n",
      "qiskit-ibm-runtime==0.6.2\n",
      "qiskit-ibmq-provider==0.19.0\n",
      "qiskit-ignis==0.7.0\n",
      "qiskit-terra==0.21.0\n"
     ]
    },
    {
     "name": "stderr",
     "output_type": "stream",
     "text": [
      "WARNING: Ignoring invalid distribution -iskit-terra (c:\\users\\swapn\\anaconda3\\lib\\site-packages)\n"
     ]
    }
   ],
   "source": [
    "from platform import python_version\n",
    "print(\"python version: \", python_version())\n",
    "!pip3 freeze | grep qiskit"
   ]
  },
  {
   "cell_type": "code",
   "execution_count": 3,
   "metadata": {},
   "outputs": [],
   "source": [
    "from qiskit import *"
   ]
  },
  {
   "cell_type": "markdown",
   "metadata": {},
   "source": [
    "We introduce a line to draw the graphs in the nb"
   ]
  },
  {
   "cell_type": "code",
   "execution_count": 4,
   "metadata": {},
   "outputs": [],
   "source": [
    "%matplotlib inline"
   ]
  },
  {
   "cell_type": "markdown",
   "metadata": {},
   "source": [
    "We create the quantum and classical registers"
   ]
  },
  {
   "cell_type": "code",
   "execution_count": 5,
   "metadata": {},
   "outputs": [],
   "source": [
    "qr = QuantumRegister(2)\n",
    "cr = ClassicalRegister(2)"
   ]
  },
  {
   "cell_type": "markdown",
   "metadata": {},
   "source": [
    "To add the last registers in the circuit"
   ]
  },
  {
   "cell_type": "code",
   "execution_count": 6,
   "metadata": {},
   "outputs": [],
   "source": [
    "circuit = QuantumCircuit(qr,cr)"
   ]
  },
  {
   "cell_type": "markdown",
   "metadata": {},
   "source": [
    "We draw the circuit through two ways\n",
    "1. basic"
   ]
  },
  {
   "cell_type": "code",
   "execution_count": 7,
   "metadata": {},
   "outputs": [
    {
     "data": {
      "text/html": [
       "<pre style=\"word-wrap: normal;white-space: pre;background: #fff0;line-height: 1.1;font-family: &quot;Courier New&quot;,Courier,monospace\">      \n",
       "q0_0: \n",
       "      \n",
       "q0_1: \n",
       "      \n",
       "c0: 2/\n",
       "      </pre>"
      ],
      "text/plain": [
       "      \n",
       "q0_0: \n",
       "      \n",
       "q0_1: \n",
       "      \n",
       "c0: 2/\n",
       "      "
      ]
     },
     "execution_count": 7,
     "metadata": {},
     "output_type": "execute_result"
    }
   ],
   "source": [
    "circuit.draw()"
   ]
  },
  {
   "cell_type": "markdown",
   "metadata": {},
   "source": [
    "2. medium"
   ]
  },
  {
   "cell_type": "code",
   "execution_count": 8,
   "metadata": {},
   "outputs": [
    {
     "data": {
      "image/png": "[encoded data removed]",
      "text/plain": [
       "<Figure size 129.533x204.68 with 1 Axes>"
      ]
     },
     "execution_count": 8,
     "metadata": {},
     "output_type": "execute_result"
    }
   ],
   "source": [
    "circuit.draw(output='mpl')"
   ]
  },
  {
   "cell_type": "markdown",
   "metadata": {},
   "source": [
    "Last example shows a circuit with two qubits and two classical bits."
   ]
  },
  {
   "cell_type": "markdown",
   "metadata": {},
   "source": [
    "# Exercise\n",
    "\n",
    "1. Modify the number of qubits and bits is such way to obtain 3 qubits and 3 classical bits."
   ]
  },
  {
   "cell_type": "markdown",
   "metadata": {},
   "source": [
    "### ***Solution***"
   ]
  },
  {
   "cell_type": "code",
   "execution_count": 9,
   "metadata": {},
   "outputs": [],
   "source": [
    "qr = QuantumRegister(3,'q')\n",
    "cr = ClassicalRegister(3,'c')"
   ]
  },
  {
   "cell_type": "code",
   "execution_count": 10,
   "metadata": {},
   "outputs": [],
   "source": [
    "circuit = QuantumCircuit(qr,cr)"
   ]
  },
  {
   "cell_type": "code",
   "execution_count": 11,
   "metadata": {},
   "outputs": [
    {
     "data": {
      "text/html": [
       "<pre style=\"word-wrap: normal;white-space: pre;background: #fff0;line-height: 1.1;font-family: &quot;Courier New&quot;,Courier,monospace\">     \n",
       "q_0: \n",
       "     \n",
       "q_1: \n",
       "     \n",
       "q_2: \n",
       "     \n",
       "c: 3/\n",
       "     </pre>"
      ],
      "text/plain": [
       "     \n",
       "q_0: \n",
       "     \n",
       "q_1: \n",
       "     \n",
       "q_2: \n",
       "     \n",
       "c: 3/\n",
       "     "
      ]
     },
     "execution_count": 11,
     "metadata": {},
     "output_type": "execute_result"
    }
   ],
   "source": [
    "circuit.draw()"
   ]
  },
  {
   "cell_type": "code",
   "execution_count": 12,
   "metadata": {},
   "outputs": [
    {
     "data": {
      "image/png": "[encoded data removed]",
      "text/plain": [
       "<Figure size 116.697x264.88 with 1 Axes>"
      ]
     },
     "execution_count": 12,
     "metadata": {},
     "output_type": "execute_result"
    }
   ],
   "source": [
    "circuit.draw(output='mpl')"
   ]
  },
  {
   "cell_type": "markdown",
   "metadata": {},
   "source": [
    "\n",
    "To update:\n",
    "```python\n",
    "!pip3 install qiskit==0.36.0\n",
    "!pip install qiskit\n",
    "!pip install qiskit-ibm-runtime\n",
    "```"
   ]
  },
  {
   "cell_type": "code",
   "execution_count": 13,
   "metadata": {},
   "outputs": [
    {
     "name": "stdout",
     "output_type": "stream",
     "text": [
      "python version:  3.9.7\n",
      "pytket-qiskit==0.24.0\n",
      "qiskit==0.36.0\n",
      "qiskit-aer==0.10.4\n",
      "qiskit-ibm-runtime==0.6.2\n",
      "qiskit-ibmq-provider==0.19.0\n",
      "qiskit-ignis==0.7.0\n",
      "qiskit-terra==0.21.0\n"
     ]
    },
    {
     "name": "stderr",
     "output_type": "stream",
     "text": [
      "WARNING: Ignoring invalid distribution -iskit-terra (c:\\users\\swapn\\anaconda3\\lib\\site-packages)\n"
     ]
    }
   ],
   "source": [
    "from platform import python_version\n",
    "print(\"python version: \", python_version())\n",
    "!pip3 freeze | grep qiskit"
   ]
  },
  {
   "cell_type": "markdown",
   "metadata": {},
   "source": [
    "# References"
   ]
  },
  {
   "cell_type": "markdown",
   "metadata": {},
   "source": [
    "\n",
    "1. Qiskit tutorial: https://qiskit.org/documentation/install.html\n",
    "2. Github tutorial: https://github.com/Qiskit/qiskit-iqx-tutorials\n",
    "3. youtube video: https://www.youtube.com/watch?v=L4jYKGrxKRE&feature=youtu.be\n",
    "4. IBM account: https://quantum-computing.ibm.com/\n",
    "<!--\n",
    "https://quantum-computing.ibm.com/\n",
    "My count with gmail in ciencias.unam\n",
    "and Github\n",
    "-->"
   ]
  }
 ],
 "metadata": {
  "interpreter": {
   "hash": "67c6e30cc51eeb2c63ed190c851214ed4edf2b99efcdbee63e8aad06437ac09b"
  },
  "kernelspec": {
   "display_name": "Python 3 (ipykernel)",
   "language": "python",
   "name": "python3"
  },
  "language_info": {
   "codemirror_mode": {
    "name": "ipython",
    "version": 3
   },
   "file_extension": ".py",
   "mimetype": "text/x-python",
   "name": "python",
   "nbconvert_exporter": "python",
   "pygments_lexer": "ipython3",
   "version": "3.9.7"
  }
 },
 "nbformat": 4,
 "nbformat_minor": 2
}
