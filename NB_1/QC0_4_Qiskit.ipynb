{
  "cells": [
    {
      "cell_type": "markdown",
      "metadata": {
        "id": "SbIfMOrfQouY"
      },
      "source": [
        "# Qiskit: Basics on Python and Quantum Computing\n",
        "### By: Sadia Nasrin Tisha"
      ]
    },
    {
      "cell_type": "markdown",
      "metadata": {
        "id": "_HQBCznnQoue"
      },
      "source": [
        "## Quantum Hello world!"
      ]
    },
    {
      "cell_type": "markdown",
      "metadata": {
        "id": "9Yiknu1AQouf"
      },
      "source": [
        "We import the libraries or modules"
      ]
    },
    {
      "cell_type": "code",
      "execution_count": null,
      "metadata": {
        "id": "H4wcBTVPQoug"
      },
      "outputs": [],
      "source": [
        "from qiskit import *"
      ]
    },
    {
      "cell_type": "markdown",
      "metadata": {
        "id": "NwtFfdTWQoui"
      },
      "source": [
        "We introduce a line to draw the graphs in the nb"
      ]
    },
    {
      "cell_type": "code",
      "execution_count": null,
      "metadata": {
        "id": "GRRSjd3XQouj"
      },
      "outputs": [],
      "source": [
        "%matplotlib inline"
      ]
    },
    {
      "cell_type": "markdown",
      "metadata": {
        "id": "LezWORtGQouj"
      },
      "source": [
        "We introduce the next line to know more about the environment."
      ]
    },
    {
      "cell_type": "code",
      "execution_count": null,
      "metadata": {
        "id": "Rwm_Pb1ZQouk",
        "outputId": "43465ed9-71e1-47eb-a096-f3d95e68971b"
      },
      "outputs": [
        {
          "name": "stderr",
          "output_type": "stream",
          "text": [
            "ERROR: You must give at least one requirement to install (see \"pip help install\")\n"
          ]
        }
      ],
      "source": [
        "!pip install "
      ]
    },
    {
      "cell_type": "code",
      "execution_count": null,
      "metadata": {
        "id": "jB4NiyfYQoul",
        "outputId": "d20ad8f7-b7b4-43e5-8212-8a6665c64dc6"
      },
      "outputs": [
        {
          "name": "stderr",
          "output_type": "stream",
          "text": [
            "'grep' is not recognized as an internal or external command,\n",
            "operable program or batch file.\n"
          ]
        }
      ],
      "source": [
        "!pip3 freeze | grep qiskit "
      ]
    },
    {
      "cell_type": "markdown",
      "metadata": {
        "id": "69BpXwCZQoum"
      },
      "source": [
        "We create the quantum and classical registers"
      ]
    },
    {
      "cell_type": "code",
      "execution_count": null,
      "metadata": {
        "id": "7duCO6IxQoun"
      },
      "outputs": [],
      "source": [
        "qr = QuantumRegister(2)\n",
        "cr = ClassicalRegister(2)"
      ]
    },
    {
      "cell_type": "markdown",
      "metadata": {
        "id": "vfs2caUgQouo"
      },
      "source": [
        "To add the last registers in the circuit"
      ]
    },
    {
      "cell_type": "code",
      "execution_count": null,
      "metadata": {
        "id": "VqE_JdghQouo"
      },
      "outputs": [],
      "source": [
        "circuit = QuantumCircuit(qr,cr)"
      ]
    },
    {
      "cell_type": "markdown",
      "metadata": {
        "id": "bF-ygn_RQoup"
      },
      "source": [
        "We draw the circuit through two ways\n",
        "1. basic"
      ]
    },
    {
      "cell_type": "code",
      "execution_count": null,
      "metadata": {
        "id": "WHE7cqSRQoup",
        "outputId": "dd5eb500-c504-418c-b696-1ca5a67877b2"
      },
      "outputs": [
        {
          "data": {
            "text/html": [
              "<pre style=\"word-wrap: normal;white-space: pre;background: #fff0;line-height: 1.1;font-family: &quot;Courier New&quot;,Courier,monospace\">       \n",
              "q33_0: \n",
              "       \n",
              "q33_1: \n",
              "       \n",
              " c3: 2/\n",
              "       </pre>"
            ],
            "text/plain": [
              "       \n",
              "q33_0: \n",
              "       \n",
              "q33_1: \n",
              "       \n",
              " c3: 2/\n",
              "       "
            ]
          },
          "execution_count": 76,
          "metadata": {},
          "output_type": "execute_result"
        }
      ],
      "source": [
        "circuit.draw()"
      ]
    },
    {
      "cell_type": "markdown",
      "metadata": {
        "id": "9a-EnGiXQoup"
      },
      "source": [
        "2. medium"
      ]
    },
    {
      "cell_type": "code",
      "execution_count": null,
      "metadata": {
        "id": "1mnuzW3hQouq",
        "outputId": "10aab6c8-d597-4347-9fcb-72714bf53ab9"
      },
      "outputs": [
        {
          "data": {
            "image/png": "[encoded data removed]",
            "text/plain": [
              "<Figure size 143.095x204.68 with 1 Axes>"
            ]
          },
          "execution_count": 77,
          "metadata": {},
          "output_type": "execute_result"
        }
      ],
      "source": [
        "circuit.draw(output='mpl')"
      ]
    },
    {
      "cell_type": "markdown",
      "metadata": {
        "id": "17k_yW_mQouq"
      },
      "source": [
        "## Example"
      ]
    },
    {
      "cell_type": "code",
      "execution_count": null,
      "metadata": {
        "id": "NLfR7IjZQouq",
        "outputId": "c463dd7c-10aa-4cec-ab5b-ac8c8ddbe600"
      },
      "outputs": [
        {
          "data": {
            "text/html": [
              "<pre style=\"word-wrap: normal;white-space: pre;background: #fff0;line-height: 1.1;font-family: &quot;Courier New&quot;,Courier,monospace\">     \n",
              "q_0: \n",
              "     \n",
              "q_1: \n",
              "     \n",
              "q_2: \n",
              "     \n",
              "c: 3/\n",
              "     </pre>"
            ],
            "text/plain": [
              "     \n",
              "q_0: \n",
              "     \n",
              "q_1: \n",
              "     \n",
              "q_2: \n",
              "     \n",
              "c: 3/\n",
              "     "
            ]
          },
          "execution_count": 78,
          "metadata": {},
          "output_type": "execute_result"
        }
      ],
      "source": [
        "qr = QuantumRegister(3,'q')\n",
        "cr = ClassicalRegister(3,'c')\n",
        "circuit = QuantumCircuit(qr,cr)\n",
        "circuit.draw()"
      ]
    },
    {
      "cell_type": "markdown",
      "metadata": {
        "id": "qwIjiYxfQour"
      },
      "source": [
        "## Apply a gate in the circuit"
      ]
    },
    {
      "cell_type": "markdown",
      "metadata": {
        "id": "3cYs2gMTQour"
      },
      "source": [
        "We apply the Hadamard gate (H-gate is _superposition_ same probability):\n",
        "1. circuit.h(qr): for all quantum registers\n",
        "2. circuit.h(qr[i]): for the i-quantum register."
      ]
    },
    {
      "cell_type": "code",
      "execution_count": null,
      "metadata": {
        "id": "ng0JkKLYQous",
        "outputId": "afb666e1-e785-4e6b-a4e2-039861710273"
      },
      "outputs": [
        {
          "data": {
            "image/png": "[encoded data removed]",
            "text/plain": [
              "<Figure size 146.797x264.88 with 1 Axes>"
            ]
          },
          "execution_count": 79,
          "metadata": {},
          "output_type": "execute_result"
        }
      ],
      "source": [
        "circuit.h(qr[0])\n",
        "circuit.draw(output='mpl')"
      ]
    },
    {
      "cell_type": "markdown",
      "metadata": {
        "id": "hwLt5KHMQous"
      },
      "source": [
        "## Multiqbit Gates"
      ]
    },
    {
      "cell_type": "markdown",
      "metadata": {
        "id": "Y2BFBd88Qout"
      },
      "source": [
        "We add the X-gate (control not or control-X, which is entanglement):\n",
        "1. circuit.cx[qr[0],qr[1]]."
      ]
    },
    {
      "cell_type": "code",
      "execution_count": null,
      "metadata": {
        "id": "QfXYTL-nQout",
        "outputId": "680332c7-523e-4630-b1bf-83ae7d8b0c69"
      },
      "outputs": [
        {
          "data": {
            "image/png": "[encoded data removed]",
            "text/plain": [
              "<Figure size 206.997x264.88 with 1 Axes>"
            ]
          },
          "execution_count": 80,
          "metadata": {},
          "output_type": "execute_result"
        }
      ],
      "source": [
        "circuit.cx(qr[0],qr[1])\n",
        "circuit.draw(output='mpl')"
      ]
    },
    {
      "cell_type": "markdown",
      "metadata": {
        "id": "17oe52NKQout"
      },
      "source": [
        "Now, we measure:"
      ]
    },
    {
      "cell_type": "code",
      "execution_count": null,
      "metadata": {
        "id": "VCz7neHxQouu",
        "outputId": "f660ed37-04c7-4c6e-ea17-af1343ae722d"
      },
      "outputs": [
        {
          "data": {
            "image/png": "[encoded data removed]",
            "text/plain": [
              "<Figure size 327.397x264.88 with 1 Axes>"
            ]
          },
          "execution_count": 81,
          "metadata": {},
          "output_type": "execute_result"
        }
      ],
      "source": [
        "circuit.measure(qr,cr)\n",
        "circuit.draw(output='mpl')"
      ]
    },
    {
      "cell_type": "markdown",
      "metadata": {
        "id": "Ei4OeQxsQouu"
      },
      "source": [
        "### Concepts"
      ]
    },
    {
      "cell_type": "markdown",
      "metadata": {
        "id": "Utyccgn1Qouv"
      },
      "source": [
        "1. Backend is the environment where we can simulate one quantum computer.\n",
        "2. Pay (time or money) in the tons of works before yours."
      ]
    },
    {
      "cell_type": "markdown",
      "metadata": {
        "id": "SNJp5QP_Qouv"
      },
      "source": [
        "## Some quantum computers:\n",
        "- ibmq_16_melbourne\n",
        "- ibmq_london\n",
        "- etc."
      ]
    },
    {
      "cell_type": "markdown",
      "metadata": {
        "id": "d_mgvtbpQouv"
      },
      "source": [
        "We create the _backend_:"
      ]
    },
    {
      "cell_type": "code",
      "execution_count": null,
      "metadata": {
        "id": "Nd-bVuncQouw"
      },
      "outputs": [],
      "source": [
        "bcknd = Aer.get_backend('qasm_simulator')"
      ]
    },
    {
      "cell_type": "markdown",
      "metadata": {
        "id": "Xd6TFpEAQouw"
      },
      "source": [
        "We execute and get the result:"
      ]
    },
    {
      "cell_type": "code",
      "execution_count": null,
      "metadata": {
        "id": "rfRCNLaqQouw"
      },
      "outputs": [],
      "source": [
        "rslt = execute(circuit, backend=bcknd).result()"
      ]
    },
    {
      "cell_type": "markdown",
      "metadata": {
        "id": "88JZ_85ZQouw"
      },
      "source": [
        "And call the modules/libraries to plot the histogram"
      ]
    },
    {
      "cell_type": "code",
      "execution_count": null,
      "metadata": {
        "id": "QluHBmepQoux"
      },
      "outputs": [],
      "source": [
        "from qiskit.tools.visualization import plot_histogram"
      ]
    },
    {
      "cell_type": "markdown",
      "metadata": {
        "id": "aUjW4JIcQoux"
      },
      "source": [
        "Draw the histogram"
      ]
    },
    {
      "cell_type": "code",
      "execution_count": null,
      "metadata": {
        "id": "wVCEC35GQoux",
        "outputId": "64292daf-e88a-43e9-ef31-4e4b546c948c"
      },
      "outputs": [
        {
          "data": {
            "image/png": "[encoded data removed]",
            "text/plain": [
              "<Figure size 504x360 with 1 Axes>"
            ]
          },
          "execution_count": 85,
          "metadata": {},
          "output_type": "execute_result"
        }
      ],
      "source": [
        "plot_histogram(rslt.get_counts(circuit))"
      ]
    },
    {
      "cell_type": "markdown",
      "metadata": {
        "id": "ERq3Tmc1Qouy"
      },
      "source": [
        "## How to use the Quantum Computer real"
      ]
    },
    {
      "cell_type": "markdown",
      "metadata": {
        "id": "dLfMbLOiQouz"
      },
      "source": [
        "We are going to connect with ourself account (I changed my token, you should do same)"
      ]
    },
    {
      "cell_type": "code",
      "execution_count": null,
      "metadata": {
        "id": "yf8J60dyQouz",
        "outputId": "d4354048-2538-44b6-ca88-73da6c9ad5cb"
      },
      "outputs": [
        {
          "name": "stderr",
          "output_type": "stream",
          "text": [
            "configrc.store_credentials:WARNING:2022-07-24 01:24:48,635: Credentials already present. Set overwrite=True to overwrite.\n"
          ]
        }
      ],
      "source": [
        "IBMQ.save_account('16022fce9543568c30df5c3c465d4fffc54c8bd65348eb16463cfe4dc5b9ddc961d02bebd44bc3fa9b45b63d96be558828c8442cf8e5cde20dc0603563da8383')"
      ]
    },
    {
      "cell_type": "code",
      "execution_count": null,
      "metadata": {
        "id": "KnBcNlE9Qouz",
        "outputId": "7b074d8a-c952-40a9-ade3-579fd33e4416"
      },
      "outputs": [
        {
          "name": "stderr",
          "output_type": "stream",
          "text": [
            "ibmqfactory.load_account:WARNING:2022-07-24 01:24:48,962: Credentials are already in use. The existing account in the session will be replaced.\n"
          ]
        },
        {
          "data": {
            "text/plain": [
              "<AccountProvider for IBMQ(hub='ibm-q', group='open', project='main')>"
            ]
          },
          "execution_count": 87,
          "metadata": {},
          "output_type": "execute_result"
        }
      ],
      "source": [
        "IBMQ.load_account()"
      ]
    },
    {
      "cell_type": "markdown",
      "metadata": {
        "id": "LXJcAgi3Qou0"
      },
      "source": [
        "We can see different quantum computers to execute the algorithm/circuit."
      ]
    },
    {
      "cell_type": "code",
      "execution_count": null,
      "metadata": {
        "id": "A63igzrJQou0",
        "outputId": "eb8b0e01-c274-43e9-ee93-f6031617c408"
      },
      "outputs": [
        {
          "data": {
            "text/plain": [
              "[<IBMQSimulator('ibmq_qasm_simulator') from IBMQ(hub='ibm-q', group='open', project='main')>,\n",
              " <IBMQBackend('ibmq_lima') from IBMQ(hub='ibm-q', group='open', project='main')>,\n",
              " <IBMQBackend('ibmq_belem') from IBMQ(hub='ibm-q', group='open', project='main')>,\n",
              " <IBMQBackend('ibmq_quito') from IBMQ(hub='ibm-q', group='open', project='main')>,\n",
              " <IBMQSimulator('simulator_statevector') from IBMQ(hub='ibm-q', group='open', project='main')>,\n",
              " <IBMQSimulator('simulator_mps') from IBMQ(hub='ibm-q', group='open', project='main')>,\n",
              " <IBMQSimulator('simulator_extended_stabilizer') from IBMQ(hub='ibm-q', group='open', project='main')>,\n",
              " <IBMQSimulator('simulator_stabilizer') from IBMQ(hub='ibm-q', group='open', project='main')>,\n",
              " <IBMQBackend('ibmq_manila') from IBMQ(hub='ibm-q', group='open', project='main')>,\n",
              " <IBMQBackend('ibm_nairobi') from IBMQ(hub='ibm-q', group='open', project='main')>,\n",
              " <IBMQBackend('ibm_oslo') from IBMQ(hub='ibm-q', group='open', project='main')>]"
            ]
          },
          "execution_count": 88,
          "metadata": {},
          "output_type": "execute_result"
        }
      ],
      "source": [
        "prvdr=IBMQ.get_provider(group='open')\n",
        "prvdr.backends()"
      ]
    },
    {
      "cell_type": "markdown",
      "metadata": {
        "id": "Pab-igh5Qou1"
      },
      "source": [
        "Remember it is important to know the quantum computer arqchitecture.\n",
        "**Hint:** go to ref. 4 to see the jobs in the computing."
      ]
    },
    {
      "cell_type": "code",
      "execution_count": null,
      "metadata": {
        "id": "G4PbzM_ZQou1"
      },
      "outputs": [],
      "source": [
        "prvdr=IBMQ.get_provider('ibm-q')\n",
        "qcomp=prvdr.get_backend('ibmq_belem')"
      ]
    },
    {
      "cell_type": "markdown",
      "metadata": {
        "id": "gB1kRU0eQou1"
      },
      "source": [
        "Execute the circuit in the quantum computer."
      ]
    },
    {
      "cell_type": "code",
      "execution_count": null,
      "metadata": {
        "id": "rGXJ6lzMQou2"
      },
      "outputs": [],
      "source": [
        "job=execute(circuit, backend=qcomp)"
      ]
    },
    {
      "cell_type": "markdown",
      "metadata": {
        "id": "MAG2B1PKQou2"
      },
      "source": [
        "import the tools to show the results"
      ]
    },
    {
      "cell_type": "code",
      "execution_count": null,
      "metadata": {
        "id": "djPZCsiZQou2"
      },
      "outputs": [],
      "source": [
        "from qiskit.tools.monitor import job_monitor"
      ]
    },
    {
      "cell_type": "markdown",
      "metadata": {
        "id": "cqUmwrJmQou2"
      },
      "source": [
        "To know the job status."
      ]
    },
    {
      "cell_type": "code",
      "execution_count": null,
      "metadata": {
        "id": "M2P2SRRQQou3",
        "outputId": "28b960cf-1b3b-4195-e89e-7d9cf485899d"
      },
      "outputs": [
        {
          "name": "stdout",
          "output_type": "stream",
          "text": [
            "Job Status: job has successfully run\n"
          ]
        }
      ],
      "source": [
        "job_monitor(job)"
      ]
    },
    {
      "cell_type": "markdown",
      "metadata": {
        "id": "BigylFeFQou3"
      },
      "source": [
        "Assign the result to new variable."
      ]
    },
    {
      "cell_type": "code",
      "execution_count": null,
      "metadata": {
        "id": "gML2XNrpQou3"
      },
      "outputs": [],
      "source": [
        "rslt=job.result()"
      ]
    },
    {
      "cell_type": "markdown",
      "metadata": {
        "id": "n0cu8mcjQou4"
      },
      "source": [
        "Draw the histogram"
      ]
    },
    {
      "cell_type": "code",
      "execution_count": null,
      "metadata": {
        "id": "jVxsu_5aQou4",
        "outputId": "31faa72c-127d-4721-9cbd-e40613ee58ae"
      },
      "outputs": [
        {
          "data": {
            "image/png": "[encoded data removed]",
            "text/plain": [
              "<Figure size 504x360 with 1 Axes>"
            ]
          },
          "execution_count": 94,
          "metadata": {},
          "output_type": "execute_result"
        }
      ],
      "source": [
        "plot_histogram(rslt.get_counts(circuit))"
      ]
    },
    {
      "cell_type": "markdown",
      "metadata": {
        "id": "1hiRoBhCQou4"
      },
      "source": [
        "# Exercise\n",
        "\n",
        "1. Use your account, and your token and re run this NB. \n",
        "2. Reproduce this NB with 3 qubits, use the simulator and the quantum computer.\n",
        "3. Use another provider.\n",
        "4. Compare and analyze your results. \n",
        "5. Write a report. Instructions during the course.\n",
        "\n",
        "I left some gifs to help with the token and the provider selection."
      ]
    },
    {
      "cell_type": "markdown",
      "metadata": {
        "id": "y_O44nSDQou5"
      },
      "source": [
        "<img src=\"../GIF/quantumIBM_token_a.gif\" width=\"350\" align=\"center\">"
      ]
    },
    {
      "cell_type": "markdown",
      "metadata": {
        "id": "sy3h4ZvaQou5"
      },
      "source": [
        "<img src=\"../GIF/quantumIBM_token_B.gif\" width=\"350\" align=\"center\">"
      ]
    },
    {
      "cell_type": "code",
      "execution_count": null,
      "metadata": {
        "id": "Wg9ReNQkQou5"
      },
      "outputs": [],
      "source": [
        ""
      ]
    },
    {
      "cell_type": "code",
      "execution_count": null,
      "metadata": {
        "id": "WTCYacebQou5",
        "outputId": "6826c04f-cb4a-4a8b-f8e3-f0f30a1becaa"
      },
      "outputs": [
        {
          "data": {
            "text/html": [
              "<pre style=\"word-wrap: normal;white-space: pre;background: #fff0;line-height: 1.1;font-family: &quot;Courier New&quot;,Courier,monospace\">     \n",
              "q_0: \n",
              "     \n",
              "q_1: \n",
              "     \n",
              "q_2: \n",
              "     \n",
              "c: 3/\n",
              "     </pre>"
            ],
            "text/plain": [
              "     \n",
              "q_0: \n",
              "     \n",
              "q_1: \n",
              "     \n",
              "q_2: \n",
              "     \n",
              "c: 3/\n",
              "     "
            ]
          },
          "execution_count": 100,
          "metadata": {},
          "output_type": "execute_result"
        }
      ],
      "source": [
        "qr = QuantumRegister(3,'q')\n",
        "cr = ClassicalRegister(3,'c')\n",
        "circuit = QuantumCircuit(qr,cr)\n",
        "circuit.draw()"
      ]
    },
    {
      "cell_type": "code",
      "execution_count": null,
      "metadata": {
        "id": "ueLBcQNsQou5",
        "outputId": "7b55d71b-f9ad-4ce2-8ff3-206329064922"
      },
      "outputs": [
        {
          "data": {
            "image/png": "[encoded data removed]",
            "text/plain": [
              "<Figure size 327.397x264.88 with 1 Axes>"
            ]
          },
          "execution_count": 101,
          "metadata": {},
          "output_type": "execute_result"
        }
      ],
      "source": [
        "circuit.h(qr[0])\n",
        "circuit.draw(output='mpl')\n",
        "\n",
        "circuit.cx(qr[0],qr[1])\n",
        "circuit.draw(output='mpl')\n",
        "\n",
        "circuit.measure(qr,cr)\n",
        "circuit.draw(output='mpl')"
      ]
    },
    {
      "cell_type": "code",
      "execution_count": null,
      "metadata": {
        "id": "cBOGalAuQou6",
        "outputId": "0b4b1824-668f-4bcf-c407-bbc69c96591e"
      },
      "outputs": [
        {
          "data": {
            "image/png": "[encoded data removed]",
            "text/plain": [
              "<Figure size 504x360 with 1 Axes>"
            ]
          },
          "execution_count": 102,
          "metadata": {},
          "output_type": "execute_result"
        }
      ],
      "source": [
        "bcknd = Aer.get_backend('qasm_simulator')\n",
        "rslt = execute(circuit, backend=bcknd).result()\n",
        "\n",
        "from qiskit.tools.visualization import plot_histogram\n",
        "plot_histogram(rslt.get_counts(circuit))"
      ]
    },
    {
      "cell_type": "code",
      "execution_count": null,
      "metadata": {
        "id": "2PxxZYG7Qou6"
      },
      "outputs": [],
      "source": [
        "# !pip install qiskit-ionq"
      ]
    },
    {
      "cell_type": "code",
      "execution_count": null,
      "metadata": {
        "id": "uY7TKbkpQou6",
        "outputId": "54591b22-fef1-4754-dc32-cfc15fccd6af"
      },
      "outputs": [
        {
          "name": "stderr",
          "output_type": "stream",
          "text": [
            "ibmqfactory.load_account:WARNING:2022-07-24 01:32:39,355: Credentials are already in use. The existing account in the session will be replaced.\n"
          ]
        },
        {
          "name": "stdout",
          "output_type": "stream",
          "text": [
            "['ibmq_qasm_simulator', 'ibmq_lima', 'ibmq_belem', 'ibmq_quito', 'simulator_statevector', 'simulator_mps', 'simulator_extended_stabilizer', 'simulator_stabilizer', 'ibmq_manila', 'ibm_nairobi', 'ibm_oslo']\n"
          ]
        }
      ],
      "source": [
        "from qiskit import IBMQ\n",
        "IBMQ.load_account()\n",
        "print([backend.name() for backend in IBMQ.providers()[0].backends()])"
      ]
    },
    {
      "cell_type": "code",
      "execution_count": null,
      "metadata": {
        "id": "f5HvXVIWQou6"
      },
      "outputs": [],
      "source": [
        "from qiskit_ionq import IonQProvider\n",
        "provider = IonQProvider(\"KfeyVeeSnXiIXV1hc2vdn2iDx6AwfYmZ\")"
      ]
    },
    {
      "cell_type": "code",
      "execution_count": null,
      "metadata": {
        "id": "9f-r7b8LQou7",
        "outputId": "d9c6086d-0d2c-4178-d897-60875bc2d01c"
      },
      "outputs": [
        {
          "name": "stdout",
          "output_type": "stream",
          "text": [
            "[<IonQSimulatorBackend('ionq_simulator')>, <IonQQPUBackend('ionq_qpu')>]\n"
          ]
        }
      ],
      "source": [
        "print(provider.backends())"
      ]
    },
    {
      "cell_type": "code",
      "execution_count": null,
      "metadata": {
        "id": "7sbd7jg0Qou7",
        "outputId": "278915e5-b6cb-4cd4-97e6-0635f344abdc"
      },
      "outputs": [
        {
          "name": "stdout",
          "output_type": "stream",
          "text": [
            "ionq_simulator\n",
            "ionq_qpu\n"
          ]
        }
      ],
      "source": [
        "print(provider.backends()[0].name())\n",
        "print(provider.backends()[1].name())"
      ]
    },
    {
      "cell_type": "code",
      "execution_count": null,
      "metadata": {
        "id": "4DXYBHYlQou7"
      },
      "outputs": [],
      "source": [
        "qcomp = provider.get_backend('ionq_qpu')\n",
        "job = execute(circuit, backend=qcomp)"
      ]
    },
    {
      "cell_type": "code",
      "execution_count": null,
      "metadata": {
        "id": "MMhB8FILQou7"
      },
      "outputs": [],
      "source": [
        "from qiskit.tools.monitor import job_monitor\n",
        "\n",
        "job_monitor(job)"
      ]
    },
    {
      "cell_type": "code",
      "execution_count": null,
      "metadata": {
        "id": "DnUXDoMOQou7",
        "outputId": "57eeb1ff-3100-4e4d-c772-a7daf67b7d3d"
      },
      "outputs": [
        {
          "data": {
            "image/png": "[encoded data removed]",
            "text/plain": [
              "<Figure size 504x360 with 1 Axes>"
            ]
          },
          "execution_count": 112,
          "metadata": {},
          "output_type": "execute_result"
        }
      ],
      "source": [
        "rslt = job.result()\n",
        "\n",
        "plot_histogram(rslt.get_counts(circuit))"
      ]
    },
    {
      "cell_type": "code",
      "execution_count": null,
      "metadata": {
        "id": "2SFr44QgQou8"
      },
      "outputs": [],
      "source": [
        "from platform import python_version\n",
        "print(\"python version: \", python_version())\n",
        "!pip3 freeze | grep qiskit"
      ]
    },
    {
      "cell_type": "markdown",
      "metadata": {
        "id": "djMn9BCeQou8"
      },
      "source": [
        "# References"
      ]
    },
    {
      "cell_type": "markdown",
      "metadata": {
        "id": "8FEkWsUzQou8"
      },
      "source": [
        "\n",
        "1. Qiskit tutorial: https://qiskit.org/documentation/install.html\n",
        "2. Github tutorial: https://github.com/Qiskit/qiskit-iqx-tutorials\n",
        "3. youtube video: https://www.youtube.com/watch?v=L4jYKGrxKRE&feature=youtu.be\n",
        "4. IBM account: https://quantum-computing.ibm.com/\n",
        "<!--\n",
        "https://quantum-computing.ibm.com/\n",
        "My count with gmail in ciencias.unam\n",
        "and Github\n",
        "-->"
      ]
    }
  ],
  "metadata": {
    "interpreter": {
      "hash": "67c6e30cc51eeb2c63ed190c851214ed4edf2b99efcdbee63e8aad06437ac09b"
    },
    "kernelspec": {
      "display_name": "Python 3 (ipykernel)",
      "language": "python",
      "name": "python3"
    },
    "language_info": {
      "codemirror_mode": {
        "name": "ipython",
        "version": 3
      },
      "file_extension": ".py",
      "mimetype": "text/x-python",
      "name": "python",
      "nbconvert_exporter": "python",
      "pygments_lexer": "ipython3",
      "version": "3.9.12"
    },
    "colab": {
      "name": "QC0_4_Qiskitedit.ipynb",
      "provenance": []
    }
  },
  "nbformat": 4,
  "nbformat_minor": 0
}