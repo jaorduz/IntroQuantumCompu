{
  "cells": [
    {
      "cell_type": "markdown",
      "metadata": {
        "id": "d6F3O_OZD4zr"
      },
      "source": [
        "# Qiskit: Basics on Python and Quantum Computing\n",
        "### By: Mushfika Rahman"
      ]
    },
    {
      "cell_type": "markdown",
      "metadata": {
        "id": "faPuyKSnD4zt"
      },
      "source": [
        "## Quantum Hello world!"
      ]
    },
    {
      "cell_type": "markdown",
      "metadata": {
        "id": "JsELD6ZoD4zt"
      },
      "source": [
        "We import the libraries or modules"
      ]
    },
    {
      "cell_type": "code",
      "execution_count": null,
      "metadata": {
        "colab": {
          "base_uri": "https://localhost:8080/"
        },
        "id": "fMTByyBGELoa",
        "outputId": "32a8b1db-7a56-4c0b-9f9c-b0e17fcaecc7"
      },
      "outputs": [
        {
          "name": "stdout",
          "output_type": "stream",
          "text": [
            "Looking in indexes: https://pypi.org/simple, https://us-python.pkg.dev/colab-wheels/public/simple/\n",
            "Requirement already satisfied: pylatexenc in /usr/local/lib/python3.7/dist-packages (2.10)\n",
            "Looking in indexes: https://pypi.org/simple, https://us-python.pkg.dev/colab-wheels/public/simple/\n",
            "Requirement already satisfied: qiskit==0.36.0 in /usr/local/lib/python3.7/dist-packages (0.36.0)\n",
            "Requirement already satisfied: qiskit-aer==0.10.4 in /usr/local/lib/python3.7/dist-packages (from qiskit==0.36.0) (0.10.4)\n",
            "Requirement already satisfied: qiskit-ignis==0.7.0 in /usr/local/lib/python3.7/dist-packages (from qiskit==0.36.0) (0.7.0)\n",
            "Requirement already satisfied: qiskit-ibmq-provider==0.19.0 in /usr/local/lib/python3.7/dist-packages (from qiskit==0.36.0) (0.19.0)\n",
            "Collecting qiskit-terra==0.20.0\n",
            "  Using cached qiskit_terra-0.20.0-cp37-cp37m-manylinux_2_17_x86_64.manylinux2014_x86_64.whl (6.5 MB)\n",
            "Requirement already satisfied: numpy>=1.16.3 in /usr/local/lib/python3.7/dist-packages (from qiskit-aer==0.10.4->qiskit==0.36.0) (1.21.6)\n",
            "Requirement already satisfied: scipy>=1.0 in /usr/local/lib/python3.7/dist-packages (from qiskit-aer==0.10.4->qiskit==0.36.0) (1.7.3)\n",
            "Requirement already satisfied: urllib3>=1.21.1 in /usr/local/lib/python3.7/dist-packages (from qiskit-ibmq-provider==0.19.0->qiskit==0.36.0) (1.26.10)\n",
            "Requirement already satisfied: python-dateutil>=2.8.0 in /usr/local/lib/python3.7/dist-packages (from qiskit-ibmq-provider==0.19.0->qiskit==0.36.0) (2.8.2)\n",
            "Requirement already satisfied: requests-ntlm>=1.1.0 in /usr/local/lib/python3.7/dist-packages (from qiskit-ibmq-provider==0.19.0->qiskit==0.36.0) (1.1.0)\n",
            "Requirement already satisfied: websocket-client>=1.0.1 in /usr/local/lib/python3.7/dist-packages (from qiskit-ibmq-provider==0.19.0->qiskit==0.36.0) (1.3.3)\n",
            "Requirement already satisfied: requests>=2.19 in /usr/local/lib/python3.7/dist-packages (from qiskit-ibmq-provider==0.19.0->qiskit==0.36.0) (2.28.1)\n",
            "Requirement already satisfied: websockets>=10.0 in /usr/local/lib/python3.7/dist-packages (from qiskit-ibmq-provider==0.19.0->qiskit==0.36.0) (10.3)\n",
            "Requirement already satisfied: setuptools>=40.1.0 in /usr/local/lib/python3.7/dist-packages (from qiskit-ignis==0.7.0->qiskit==0.36.0) (57.4.0)\n",
            "Requirement already satisfied: retworkx>=0.8.0 in /usr/local/lib/python3.7/dist-packages (from qiskit-ignis==0.7.0->qiskit==0.36.0) (0.11.0)\n",
            "Requirement already satisfied: stevedore>=3.0.0 in /usr/local/lib/python3.7/dist-packages (from qiskit-terra==0.20.0->qiskit==0.36.0) (3.5.0)\n",
            "Requirement already satisfied: symengine>=0.9 in /usr/local/lib/python3.7/dist-packages (from qiskit-terra==0.20.0->qiskit==0.36.0) (0.9.2)\n",
            "Requirement already satisfied: sympy>=1.3 in /usr/local/lib/python3.7/dist-packages (from qiskit-terra==0.20.0->qiskit==0.36.0) (1.7.1)\n",
            "Requirement already satisfied: python-constraint>=1.4 in /usr/local/lib/python3.7/dist-packages (from qiskit-terra==0.20.0->qiskit==0.36.0) (1.4.0)\n",
            "Requirement already satisfied: dill>=0.3 in /usr/local/lib/python3.7/dist-packages (from qiskit-terra==0.20.0->qiskit==0.36.0) (0.3.5.1)\n",
            "Requirement already satisfied: tweedledum<2.0,>=1.1 in /usr/local/lib/python3.7/dist-packages (from qiskit-terra==0.20.0->qiskit==0.36.0) (1.1.1)\n",
            "Requirement already satisfied: psutil>=5 in /usr/local/lib/python3.7/dist-packages (from qiskit-terra==0.20.0->qiskit==0.36.0) (5.4.8)\n",
            "Requirement already satisfied: ply>=3.10 in /usr/local/lib/python3.7/dist-packages (from qiskit-terra==0.20.0->qiskit==0.36.0) (3.11)\n",
            "Requirement already satisfied: six>=1.5 in /usr/local/lib/python3.7/dist-packages (from python-dateutil>=2.8.0->qiskit-ibmq-provider==0.19.0->qiskit==0.36.0) (1.15.0)\n",
            "Requirement already satisfied: charset-normalizer<3,>=2 in /usr/local/lib/python3.7/dist-packages (from requests>=2.19->qiskit-ibmq-provider==0.19.0->qiskit==0.36.0) (2.1.0)\n",
            "Requirement already satisfied: idna<4,>=2.5 in /usr/local/lib/python3.7/dist-packages (from requests>=2.19->qiskit-ibmq-provider==0.19.0->qiskit==0.36.0) (2.10)\n",
            "Requirement already satisfied: certifi>=2017.4.17 in /usr/local/lib/python3.7/dist-packages (from requests>=2.19->qiskit-ibmq-provider==0.19.0->qiskit==0.36.0) (2022.6.15)\n",
            "Requirement already satisfied: cryptography>=1.3 in /usr/local/lib/python3.7/dist-packages (from requests-ntlm>=1.1.0->qiskit-ibmq-provider==0.19.0->qiskit==0.36.0) (37.0.4)\n",
            "Requirement already satisfied: ntlm-auth>=1.0.2 in /usr/local/lib/python3.7/dist-packages (from requests-ntlm>=1.1.0->qiskit-ibmq-provider==0.19.0->qiskit==0.36.0) (1.5.0)\n",
            "Requirement already satisfied: cffi>=1.12 in /usr/local/lib/python3.7/dist-packages (from cryptography>=1.3->requests-ntlm>=1.1.0->qiskit-ibmq-provider==0.19.0->qiskit==0.36.0) (1.15.1)\n",
            "Requirement already satisfied: pycparser in /usr/local/lib/python3.7/dist-packages (from cffi>=1.12->cryptography>=1.3->requests-ntlm>=1.1.0->qiskit-ibmq-provider==0.19.0->qiskit==0.36.0) (2.21)\n",
            "Requirement already satisfied: importlib-metadata>=1.7.0 in /usr/local/lib/python3.7/dist-packages (from stevedore>=3.0.0->qiskit-terra==0.20.0->qiskit==0.36.0) (4.12.0)\n",
            "Requirement already satisfied: pbr!=2.1.0,>=2.0.0 in /usr/local/lib/python3.7/dist-packages (from stevedore>=3.0.0->qiskit-terra==0.20.0->qiskit==0.36.0) (5.9.0)\n",
            "Requirement already satisfied: zipp>=0.5 in /usr/local/lib/python3.7/dist-packages (from importlib-metadata>=1.7.0->stevedore>=3.0.0->qiskit-terra==0.20.0->qiskit==0.36.0) (3.8.1)\n",
            "Requirement already satisfied: typing-extensions>=3.6.4 in /usr/local/lib/python3.7/dist-packages (from importlib-metadata>=1.7.0->stevedore>=3.0.0->qiskit-terra==0.20.0->qiskit==0.36.0) (4.1.1)\n",
            "Requirement already satisfied: mpmath>=0.19 in /usr/local/lib/python3.7/dist-packages (from sympy>=1.3->qiskit-terra==0.20.0->qiskit==0.36.0) (1.2.1)\n",
            "Installing collected packages: qiskit-terra\n",
            "  Attempting uninstall: qiskit-terra\n",
            "    Found existing installation: qiskit-terra 0.21.0\n",
            "    Uninstalling qiskit-terra-0.21.0:\n",
            "      Successfully uninstalled qiskit-terra-0.21.0\n",
            "\u001b[31mERROR: pip's dependency resolver does not currently take into account all the packages that are installed. This behaviour is the source of the following dependency conflicts.\n",
            "qiskit-ibm-runtime 0.6.2 requires qiskit-terra>=0.21.0, but you have qiskit-terra 0.20.0 which is incompatible.\u001b[0m\n",
            "Successfully installed qiskit-terra-0.20.0\n",
            "Looking in indexes: https://pypi.org/simple, https://us-python.pkg.dev/colab-wheels/public/simple/\n",
            "Requirement already satisfied: qiskit in /usr/local/lib/python3.7/dist-packages (0.36.0)\n",
            "Requirement already satisfied: qiskit-aer==0.10.4 in /usr/local/lib/python3.7/dist-packages (from qiskit) (0.10.4)\n",
            "Requirement already satisfied: qiskit-ibmq-provider==0.19.0 in /usr/local/lib/python3.7/dist-packages (from qiskit) (0.19.0)\n",
            "Requirement already satisfied: qiskit-terra==0.20.0 in /usr/local/lib/python3.7/dist-packages (from qiskit) (0.20.0)\n",
            "Requirement already satisfied: qiskit-ignis==0.7.0 in /usr/local/lib/python3.7/dist-packages (from qiskit) (0.7.0)\n",
            "Requirement already satisfied: scipy>=1.0 in /usr/local/lib/python3.7/dist-packages (from qiskit-aer==0.10.4->qiskit) (1.7.3)\n",
            "Requirement already satisfied: numpy>=1.16.3 in /usr/local/lib/python3.7/dist-packages (from qiskit-aer==0.10.4->qiskit) (1.21.6)\n",
            "Requirement already satisfied: requests-ntlm>=1.1.0 in /usr/local/lib/python3.7/dist-packages (from qiskit-ibmq-provider==0.19.0->qiskit) (1.1.0)\n",
            "Requirement already satisfied: python-dateutil>=2.8.0 in /usr/local/lib/python3.7/dist-packages (from qiskit-ibmq-provider==0.19.0->qiskit) (2.8.2)\n",
            "Requirement already satisfied: websocket-client>=1.0.1 in /usr/local/lib/python3.7/dist-packages (from qiskit-ibmq-provider==0.19.0->qiskit) (1.3.3)\n",
            "Requirement already satisfied: urllib3>=1.21.1 in /usr/local/lib/python3.7/dist-packages (from qiskit-ibmq-provider==0.19.0->qiskit) (1.26.10)\n",
            "Requirement already satisfied: requests>=2.19 in /usr/local/lib/python3.7/dist-packages (from qiskit-ibmq-provider==0.19.0->qiskit) (2.28.1)\n",
            "Requirement already satisfied: websockets>=10.0 in /usr/local/lib/python3.7/dist-packages (from qiskit-ibmq-provider==0.19.0->qiskit) (10.3)\n",
            "Requirement already satisfied: retworkx>=0.8.0 in /usr/local/lib/python3.7/dist-packages (from qiskit-ignis==0.7.0->qiskit) (0.11.0)\n",
            "Requirement already satisfied: setuptools>=40.1.0 in /usr/local/lib/python3.7/dist-packages (from qiskit-ignis==0.7.0->qiskit) (57.4.0)\n",
            "Requirement already satisfied: python-constraint>=1.4 in /usr/local/lib/python3.7/dist-packages (from qiskit-terra==0.20.0->qiskit) (1.4.0)\n",
            "Requirement already satisfied: dill>=0.3 in /usr/local/lib/python3.7/dist-packages (from qiskit-terra==0.20.0->qiskit) (0.3.5.1)\n",
            "Requirement already satisfied: stevedore>=3.0.0 in /usr/local/lib/python3.7/dist-packages (from qiskit-terra==0.20.0->qiskit) (3.5.0)\n",
            "Requirement already satisfied: tweedledum<2.0,>=1.1 in /usr/local/lib/python3.7/dist-packages (from qiskit-terra==0.20.0->qiskit) (1.1.1)\n",
            "Requirement already satisfied: sympy>=1.3 in /usr/local/lib/python3.7/dist-packages (from qiskit-terra==0.20.0->qiskit) (1.7.1)\n",
            "Requirement already satisfied: ply>=3.10 in /usr/local/lib/python3.7/dist-packages (from qiskit-terra==0.20.0->qiskit) (3.11)\n",
            "Requirement already satisfied: symengine>=0.9 in /usr/local/lib/python3.7/dist-packages (from qiskit-terra==0.20.0->qiskit) (0.9.2)\n",
            "Requirement already satisfied: psutil>=5 in /usr/local/lib/python3.7/dist-packages (from qiskit-terra==0.20.0->qiskit) (5.4.8)\n",
            "Requirement already satisfied: six>=1.5 in /usr/local/lib/python3.7/dist-packages (from python-dateutil>=2.8.0->qiskit-ibmq-provider==0.19.0->qiskit) (1.15.0)\n",
            "Requirement already satisfied: certifi>=2017.4.17 in /usr/local/lib/python3.7/dist-packages (from requests>=2.19->qiskit-ibmq-provider==0.19.0->qiskit) (2022.6.15)\n",
            "Requirement already satisfied: charset-normalizer<3,>=2 in /usr/local/lib/python3.7/dist-packages (from requests>=2.19->qiskit-ibmq-provider==0.19.0->qiskit) (2.1.0)\n",
            "Requirement already satisfied: idna<4,>=2.5 in /usr/local/lib/python3.7/dist-packages (from requests>=2.19->qiskit-ibmq-provider==0.19.0->qiskit) (2.10)\n",
            "Requirement already satisfied: ntlm-auth>=1.0.2 in /usr/local/lib/python3.7/dist-packages (from requests-ntlm>=1.1.0->qiskit-ibmq-provider==0.19.0->qiskit) (1.5.0)\n",
            "Requirement already satisfied: cryptography>=1.3 in /usr/local/lib/python3.7/dist-packages (from requests-ntlm>=1.1.0->qiskit-ibmq-provider==0.19.0->qiskit) (37.0.4)\n",
            "Requirement already satisfied: cffi>=1.12 in /usr/local/lib/python3.7/dist-packages (from cryptography>=1.3->requests-ntlm>=1.1.0->qiskit-ibmq-provider==0.19.0->qiskit) (1.15.1)\n",
            "Requirement already satisfied: pycparser in /usr/local/lib/python3.7/dist-packages (from cffi>=1.12->cryptography>=1.3->requests-ntlm>=1.1.0->qiskit-ibmq-provider==0.19.0->qiskit) (2.21)\n",
            "Requirement already satisfied: importlib-metadata>=1.7.0 in /usr/local/lib/python3.7/dist-packages (from stevedore>=3.0.0->qiskit-terra==0.20.0->qiskit) (4.12.0)\n",
            "Requirement already satisfied: pbr!=2.1.0,>=2.0.0 in /usr/local/lib/python3.7/dist-packages (from stevedore>=3.0.0->qiskit-terra==0.20.0->qiskit) (5.9.0)\n",
            "Requirement already satisfied: typing-extensions>=3.6.4 in /usr/local/lib/python3.7/dist-packages (from importlib-metadata>=1.7.0->stevedore>=3.0.0->qiskit-terra==0.20.0->qiskit) (4.1.1)\n",
            "Requirement already satisfied: zipp>=0.5 in /usr/local/lib/python3.7/dist-packages (from importlib-metadata>=1.7.0->stevedore>=3.0.0->qiskit-terra==0.20.0->qiskit) (3.8.1)\n",
            "Requirement already satisfied: mpmath>=0.19 in /usr/local/lib/python3.7/dist-packages (from sympy>=1.3->qiskit-terra==0.20.0->qiskit) (1.2.1)\n",
            "Looking in indexes: https://pypi.org/simple, https://us-python.pkg.dev/colab-wheels/public/simple/\n",
            "Requirement already satisfied: qiskit-ibm-runtime in /usr/local/lib/python3.7/dist-packages (0.6.2)\n",
            "Requirement already satisfied: typing-extensions>=4.0.0 in /usr/local/lib/python3.7/dist-packages (from qiskit-ibm-runtime) (4.1.1)\n",
            "Requirement already satisfied: urllib3>=1.21.1 in /usr/local/lib/python3.7/dist-packages (from qiskit-ibm-runtime) (1.26.10)\n",
            "Requirement already satisfied: numpy>=1.13 in /usr/local/lib/python3.7/dist-packages (from qiskit-ibm-runtime) (1.21.6)\n",
            "Requirement already satisfied: python-dateutil>=2.8.0 in /usr/local/lib/python3.7/dist-packages (from qiskit-ibm-runtime) (2.8.2)\n",
            "Requirement already satisfied: websocket-client>=1.0.1 in /usr/local/lib/python3.7/dist-packages (from qiskit-ibm-runtime) (1.3.3)\n",
            "Requirement already satisfied: requests-ntlm>=1.1.0 in /usr/local/lib/python3.7/dist-packages (from qiskit-ibm-runtime) (1.1.0)\n",
            "Collecting qiskit-terra>=0.21.0\n",
            "  Using cached qiskit_terra-0.21.0-cp37-cp37m-manylinux_2_17_x86_64.manylinux2014_x86_64.whl (6.7 MB)\n",
            "Requirement already satisfied: ibm-platform-services>=0.22.6 in /usr/local/lib/python3.7/dist-packages (from qiskit-ibm-runtime) (0.25.0)\n",
            "Requirement already satisfied: requests>=2.19 in /usr/local/lib/python3.7/dist-packages (from qiskit-ibm-runtime) (2.28.1)\n",
            "Requirement already satisfied: ibm-cloud-sdk-core<4.0.0,>=3.15.2 in /usr/local/lib/python3.7/dist-packages (from ibm-platform-services>=0.22.6->qiskit-ibm-runtime) (3.15.3)\n",
            "Requirement already satisfied: PyJWT<3.0.0,>=2.4.0 in /usr/local/lib/python3.7/dist-packages (from ibm-cloud-sdk-core<4.0.0,>=3.15.2->ibm-platform-services>=0.22.6->qiskit-ibm-runtime) (2.4.0)\n",
            "Requirement already satisfied: six>=1.5 in /usr/local/lib/python3.7/dist-packages (from python-dateutil>=2.8.0->qiskit-ibm-runtime) (1.15.0)\n",
            "Requirement already satisfied: symengine>=0.9 in /usr/local/lib/python3.7/dist-packages (from qiskit-terra>=0.21.0->qiskit-ibm-runtime) (0.9.2)\n",
            "Requirement already satisfied: ply>=3.10 in /usr/local/lib/python3.7/dist-packages (from qiskit-terra>=0.21.0->qiskit-ibm-runtime) (3.11)\n",
            "Requirement already satisfied: tweedledum<2.0,>=1.1 in /usr/local/lib/python3.7/dist-packages (from qiskit-terra>=0.21.0->qiskit-ibm-runtime) (1.1.1)\n",
            "Requirement already satisfied: dill>=0.3 in /usr/local/lib/python3.7/dist-packages (from qiskit-terra>=0.21.0->qiskit-ibm-runtime) (0.3.5.1)\n",
            "Requirement already satisfied: retworkx>=0.11.0 in /usr/local/lib/python3.7/dist-packages (from qiskit-terra>=0.21.0->qiskit-ibm-runtime) (0.11.0)\n",
            "Requirement already satisfied: sympy>=1.3 in /usr/local/lib/python3.7/dist-packages (from qiskit-terra>=0.21.0->qiskit-ibm-runtime) (1.7.1)\n",
            "Requirement already satisfied: shared-memory38 in /usr/local/lib/python3.7/dist-packages (from qiskit-terra>=0.21.0->qiskit-ibm-runtime) (0.1.2)\n",
            "Requirement already satisfied: stevedore>=3.0.0 in /usr/local/lib/python3.7/dist-packages (from qiskit-terra>=0.21.0->qiskit-ibm-runtime) (3.5.0)\n",
            "Requirement already satisfied: psutil>=5 in /usr/local/lib/python3.7/dist-packages (from qiskit-terra>=0.21.0->qiskit-ibm-runtime) (5.4.8)\n",
            "Requirement already satisfied: scipy>=1.5 in /usr/local/lib/python3.7/dist-packages (from qiskit-terra>=0.21.0->qiskit-ibm-runtime) (1.7.3)\n",
            "Requirement already satisfied: idna<4,>=2.5 in /usr/local/lib/python3.7/dist-packages (from requests>=2.19->qiskit-ibm-runtime) (2.10)\n",
            "Requirement already satisfied: charset-normalizer<3,>=2 in /usr/local/lib/python3.7/dist-packages (from requests>=2.19->qiskit-ibm-runtime) (2.1.0)\n",
            "Requirement already satisfied: certifi>=2017.4.17 in /usr/local/lib/python3.7/dist-packages (from requests>=2.19->qiskit-ibm-runtime) (2022.6.15)\n",
            "Requirement already satisfied: cryptography>=1.3 in /usr/local/lib/python3.7/dist-packages (from requests-ntlm>=1.1.0->qiskit-ibm-runtime) (37.0.4)\n",
            "Requirement already satisfied: ntlm-auth>=1.0.2 in /usr/local/lib/python3.7/dist-packages (from requests-ntlm>=1.1.0->qiskit-ibm-runtime) (1.5.0)\n",
            "Requirement already satisfied: cffi>=1.12 in /usr/local/lib/python3.7/dist-packages (from cryptography>=1.3->requests-ntlm>=1.1.0->qiskit-ibm-runtime) (1.15.1)\n",
            "Requirement already satisfied: pycparser in /usr/local/lib/python3.7/dist-packages (from cffi>=1.12->cryptography>=1.3->requests-ntlm>=1.1.0->qiskit-ibm-runtime) (2.21)\n",
            "Requirement already satisfied: importlib-metadata>=1.7.0 in /usr/local/lib/python3.7/dist-packages (from stevedore>=3.0.0->qiskit-terra>=0.21.0->qiskit-ibm-runtime) (4.12.0)\n",
            "Requirement already satisfied: pbr!=2.1.0,>=2.0.0 in /usr/local/lib/python3.7/dist-packages (from stevedore>=3.0.0->qiskit-terra>=0.21.0->qiskit-ibm-runtime) (5.9.0)\n",
            "Requirement already satisfied: zipp>=0.5 in /usr/local/lib/python3.7/dist-packages (from importlib-metadata>=1.7.0->stevedore>=3.0.0->qiskit-terra>=0.21.0->qiskit-ibm-runtime) (3.8.1)\n",
            "Requirement already satisfied: mpmath>=0.19 in /usr/local/lib/python3.7/dist-packages (from sympy>=1.3->qiskit-terra>=0.21.0->qiskit-ibm-runtime) (1.2.1)\n",
            "Installing collected packages: qiskit-terra\n",
            "  Attempting uninstall: qiskit-terra\n",
            "    Found existing installation: qiskit-terra 0.20.0\n",
            "    Uninstalling qiskit-terra-0.20.0:\n",
            "      Successfully uninstalled qiskit-terra-0.20.0\n",
            "\u001b[31mERROR: pip's dependency resolver does not currently take into account all the packages that are installed. This behaviour is the source of the following dependency conflicts.\n",
            "qiskit 0.36.0 requires qiskit-terra==0.20.0, but you have qiskit-terra 0.21.0 which is incompatible.\u001b[0m\n",
            "Successfully installed qiskit-terra-0.21.0\n"
          ]
        }
      ],
      "source": [
        "!pip install pylatexenc\n",
        "!pip3 install qiskit==0.36.0\n",
        "!pip install qiskit\n",
        "!pip install qiskit-ibm-runtime"
      ]
    },
    {
      "cell_type": "code",
      "execution_count": null,
      "metadata": {
        "id": "11aNMNKkD4zu"
      },
      "outputs": [],
      "source": [
        "from qiskit import *"
      ]
    },
    {
      "cell_type": "markdown",
      "metadata": {
        "id": "Mx09glqCD4zu"
      },
      "source": [
        "We introduce a line to draw the graphs in the nb"
      ]
    },
    {
      "cell_type": "code",
      "execution_count": null,
      "metadata": {
        "id": "eyNfEabgD4zu"
      },
      "outputs": [],
      "source": [
        "%matplotlib inline"
      ]
    },
    {
      "cell_type": "markdown",
      "metadata": {
        "id": "i-B42zuUD4zv"
      },
      "source": [
        "We introduce the next line to know more about the environment."
      ]
    },
    {
      "cell_type": "code",
      "execution_count": null,
      "metadata": {
        "colab": {
          "base_uri": "https://localhost:8080/"
        },
        "id": "PSZZNh_iD4zv",
        "outputId": "abe28131-a29c-4863-8e7e-ab9e239539e8"
      },
      "outputs": [
        {
          "name": "stdout",
          "output_type": "stream",
          "text": [
            "qiskit==0.36.0\n",
            "qiskit-aer==0.10.4\n",
            "qiskit-ibm-runtime==0.6.2\n",
            "qiskit-ibmq-provider==0.19.0\n",
            "qiskit-ignis==0.7.0\n",
            "qiskit-ionq==0.3.5\n",
            "qiskit-terra==0.21.0\n"
          ]
        }
      ],
      "source": [
        "!pip3 freeze | grep qiskit "
      ]
    },
    {
      "cell_type": "markdown",
      "metadata": {
        "id": "W04CVBrID4zw"
      },
      "source": [
        "We create the quantum and classical registers"
      ]
    },
    {
      "cell_type": "code",
      "execution_count": null,
      "metadata": {
        "id": "6tveVTf1D4zw"
      },
      "outputs": [],
      "source": [
        "qr = QuantumRegister(2)\n",
        "cr = ClassicalRegister(2)"
      ]
    },
    {
      "cell_type": "markdown",
      "metadata": {
        "id": "yIefx6mHD4zx"
      },
      "source": [
        "To add the last registers in the circuit"
      ]
    },
    {
      "cell_type": "code",
      "execution_count": null,
      "metadata": {
        "id": "LHuzsKIsD4zx"
      },
      "outputs": [],
      "source": [
        "circuit = QuantumCircuit(qr,cr)"
      ]
    },
    {
      "cell_type": "markdown",
      "metadata": {
        "id": "pnec-NePD4zx"
      },
      "source": [
        "We draw the circuit through two ways\n",
        "1. basic"
      ]
    },
    {
      "cell_type": "code",
      "execution_count": null,
      "metadata": {
        "colab": {
          "base_uri": "https://localhost:8080/",
          "height": 125
        },
        "id": "zlIwnNBqD4zy",
        "outputId": "c3420daa-87ca-4001-e211-580557e57dbe"
      },
      "outputs": [
        {
          "data": {
            "text/html": [
              "<pre style=\"word-wrap: normal;white-space: pre;background: #fff0;line-height: 1.1;font-family: &quot;Courier New&quot;,Courier,monospace\">      \n",
              "q0_0: \n",
              "      \n",
              "q0_1: \n",
              "      \n",
              "c0: 2/\n",
              "      </pre>"
            ],
            "text/plain": [
              "      \n",
              "q0_0: \n",
              "      \n",
              "q0_1: \n",
              "      \n",
              "c0: 2/\n",
              "      "
            ]
          },
          "execution_count": 7,
          "metadata": {},
          "output_type": "execute_result"
        }
      ],
      "source": [
        "        circuit.draw()"
      ]
    },
    {
      "cell_type": "markdown",
      "metadata": {
        "id": "iuq2m48kD4zy"
      },
      "source": [
        "2. medium"
      ]
    },
    {
      "cell_type": "code",
      "execution_count": null,
      "metadata": {
        "colab": {
          "base_uri": "https://localhost:8080/",
          "height": 185
        },
        "id": "129hX0f7D4zy",
        "outputId": "634053a1-6af6-439c-eb57-23160bf7cd7a"
      },
      "outputs": [
        {
          "data": {
            "image/png": "[encoded data removed]",
            "text/plain": [
              "<Figure size 129.533x204.68 with 1 Axes>"
            ]
          },
          "execution_count": 8,
          "metadata": {},
          "output_type": "execute_result"
        }
      ],
      "source": [
        "        circuit.draw(output='mpl')"
      ]
    },
    {
      "cell_type": "markdown",
      "metadata": {
        "id": "Y97GaYxZD4zy"
      },
      "source": [
        "## Example"
      ]
    },
    {
      "cell_type": "code",
      "execution_count": null,
      "metadata": {
        "colab": {
          "base_uri": "https://localhost:8080/",
          "height": 125
        },
        "id": "W3E3N4djD4zz",
        "outputId": "67a8f448-b830-462d-b925-efa291c867dc"
      },
      "outputs": [
        {
          "data": {
            "text/html": [
              "<pre style=\"word-wrap: normal;white-space: pre;background: #fff0;line-height: 1.1;font-family: &quot;Courier New&quot;,Courier,monospace\">     \n",
              "q_0: \n",
              "     \n",
              "q_1: \n",
              "     \n",
              "c: 2/\n",
              "     </pre>"
            ],
            "text/plain": [
              "     \n",
              "q_0: \n",
              "     \n",
              "q_1: \n",
              "     \n",
              "c: 2/\n",
              "     "
            ]
          },
          "execution_count": 9,
          "metadata": {},
          "output_type": "execute_result"
        }
      ],
      "source": [
        "qr = QuantumRegister(2,'q')\n",
        "cr = ClassicalRegister(2,'c')\n",
        "circuit = QuantumCircuit(qr,cr)\n",
        "circuit.draw()"
      ]
    },
    {
      "cell_type": "markdown",
      "metadata": {
        "id": "WlNY5dRND4zz"
      },
      "source": [
        "## Apply a gate in the circuit"
      ]
    },
    {
      "cell_type": "markdown",
      "metadata": {
        "id": "8h-PpHjvD4zz"
      },
      "source": [
        "We apply the Hadamard gate (H-gate is _superposition_ same probability):\n",
        "1. circuit.h(qr): for all quantum registers\n",
        "2. circuit.h(qr[i]): for the i-quantum register."
      ]
    },
    {
      "cell_type": "code",
      "execution_count": null,
      "metadata": {
        "colab": {
          "base_uri": "https://localhost:8080/",
          "height": 185
        },
        "id": "rr2AasrND4zz",
        "outputId": "55351215-a888-4984-f341-d17e4ea452ef"
      },
      "outputs": [
        {
          "data": {
            "image/png": "[encoded data removed]",
            "text/plain": [
              "<Figure size 146.652x204.68 with 1 Axes>"
            ]
          },
          "execution_count": 10,
          "metadata": {},
          "output_type": "execute_result"
        }
      ],
      "source": [
        "circuit.h(qr[0])\n",
        "circuit.draw(output='mpl')"
      ]
    },
    {
      "cell_type": "markdown",
      "metadata": {
        "id": "jTvfik7rD4z1"
      },
      "source": [
        "## Multiqbit Gates"
      ]
    },
    {
      "cell_type": "markdown",
      "metadata": {
        "id": "dnvdumlED4z1"
      },
      "source": [
        "We add the X-gate (control not or control-X, which is entanglement):\n",
        "1. circuit.cx[qr[0],qr[1]]."
      ]
    },
    {
      "cell_type": "code",
      "execution_count": null,
      "metadata": {
        "colab": {
          "base_uri": "https://localhost:8080/",
          "height": 185
        },
        "id": "LwZGdtjqD4z2",
        "outputId": "9d40622a-b02d-4c7b-98cd-263a59ece115"
      },
      "outputs": [
        {
          "data": {
            "image/png": "[encoded data removed]",
            "text/plain": [
              "<Figure size 206.852x204.68 with 1 Axes>"
            ]
          },
          "execution_count": 11,
          "metadata": {},
          "output_type": "execute_result"
        }
      ],
      "source": [
        "circuit.cx(qr[0],qr[1])\n",
        "circuit.draw(output='mpl')"
      ]
    },
    {
      "cell_type": "markdown",
      "metadata": {
        "id": "pRghIeYpD4z2"
      },
      "source": [
        "Now, we measure:"
      ]
    },
    {
      "cell_type": "code",
      "execution_count": null,
      "metadata": {
        "colab": {
          "base_uri": "https://localhost:8080/",
          "height": 185
        },
        "id": "7NYqUEStD4z2",
        "outputId": "861412c4-d5b2-4cc7-c851-cff6618eb0fd"
      },
      "outputs": [
        {
          "data": {
            "image/png": "[encoded data removed]",
            "text/plain": [
              "<Figure size 327.252x204.68 with 1 Axes>"
            ]
          },
          "execution_count": 12,
          "metadata": {},
          "output_type": "execute_result"
        }
      ],
      "source": [
        "circuit.measure(qr,cr)\n",
        "circuit.draw(output='mpl')"
      ]
    },
    {
      "cell_type": "markdown",
      "metadata": {
        "id": "MP4jNquMD4z2"
      },
      "source": [
        "### Concepts"
      ]
    },
    {
      "cell_type": "markdown",
      "metadata": {
        "id": "bwoTE-zAD4z2"
      },
      "source": [
        "1. Backend is the environment where we can simulate one quantum computer.\n",
        "2. Pay (time or money) in the tons of works before yours."
      ]
    },
    {
      "cell_type": "markdown",
      "metadata": {
        "id": "RhOu2GCLD4z2"
      },
      "source": [
        "## Some quantum computers:\n",
        "- ibmq_16_melbourne\n",
        "- ibmq_london\n",
        "- etc."
      ]
    },
    {
      "cell_type": "markdown",
      "metadata": {
        "id": "KYBbWTauD4z3"
      },
      "source": [
        "We create the _backend_:"
      ]
    },
    {
      "cell_type": "code",
      "execution_count": null,
      "metadata": {
        "id": "L-uWuRekD4z3"
      },
      "outputs": [],
      "source": [
        "bcknd = Aer.get_backend('qasm_simulator')"
      ]
    },
    {
      "cell_type": "markdown",
      "metadata": {
        "id": "56RsRFt6D4z3"
      },
      "source": [
        "We execute and get the result:"
      ]
    },
    {
      "cell_type": "code",
      "execution_count": null,
      "metadata": {
        "id": "A2TyEfEMD4z3"
      },
      "outputs": [],
      "source": [
        "rslt = execute(circuit, backend=bcknd).result()"
      ]
    },
    {
      "cell_type": "markdown",
      "metadata": {
        "id": "YIWydGHrD4z3"
      },
      "source": [
        "And call the modules/libraries to plot the histogram"
      ]
    },
    {
      "cell_type": "code",
      "execution_count": null,
      "metadata": {
        "id": "9_ujOC3sD4z3"
      },
      "outputs": [],
      "source": [
        "from qiskit.tools.visualization import plot_histogram"
      ]
    },
    {
      "cell_type": "markdown",
      "metadata": {
        "id": "yqgEVMACD4z3"
      },
      "source": [
        "Draw the histogram"
      ]
    },
    {
      "cell_type": "code",
      "execution_count": null,
      "metadata": {
        "colab": {
          "base_uri": "https://localhost:8080/",
          "height": 331
        },
        "id": "qD1vXQnTD4z3",
        "outputId": "341f6bb1-7dc3-438d-803e-cd6f741f898d"
      },
      "outputs": [
        {
          "data": {
            "image/png": "[encoded data removed]",
            "text/plain": [
              "<Figure size 504x360 with 1 Axes>"
            ]
          },
          "execution_count": 16,
          "metadata": {},
          "output_type": "execute_result"
        }
      ],
      "source": [
        "plot_histogram(rslt.get_counts(circuit))"
      ]
    },
    {
      "cell_type": "markdown",
      "metadata": {
        "id": "Hze5mrRfD4z3"
      },
      "source": [
        "## How to use the Quantum Computer real"
      ]
    },
    {
      "cell_type": "code",
      "execution_count": null,
      "metadata": {
        "colab": {
          "base_uri": "https://localhost:8080/"
        },
        "id": "EVLhXgctKPOd",
        "outputId": "7e2e2133-2af6-4e25-e9d8-d4ffba7a2610"
      },
      "outputs": [
        {
          "name": "stdout",
          "output_type": "stream",
          "text": [
            "Looking in indexes: https://pypi.org/simple, https://us-python.pkg.dev/colab-wheels/public/simple/\n",
            "Requirement already satisfied: qiskit-ionq in /usr/local/lib/python3.7/dist-packages (0.3.5)\n",
            "Requirement already satisfied: requests>=2.24.0 in /usr/local/lib/python3.7/dist-packages (from qiskit-ionq) (2.28.1)\n",
            "Requirement already satisfied: qiskit-terra>=0.17.4 in /usr/local/lib/python3.7/dist-packages (from qiskit-ionq) (0.21.0)\n",
            "Requirement already satisfied: importlib-metadata>=4.11.4 in /usr/local/lib/python3.7/dist-packages (from qiskit-ionq) (4.12.0)\n",
            "Requirement already satisfied: decorator>=5.1.0 in /usr/local/lib/python3.7/dist-packages (from qiskit-ionq) (5.1.1)\n",
            "Requirement already satisfied: retry>=0.9.0 in /usr/local/lib/python3.7/dist-packages (from qiskit-ionq) (0.9.2)\n",
            "Requirement already satisfied: typing-extensions>=3.6.4 in /usr/local/lib/python3.7/dist-packages (from importlib-metadata>=4.11.4->qiskit-ionq) (4.1.1)\n",
            "Requirement already satisfied: zipp>=0.5 in /usr/local/lib/python3.7/dist-packages (from importlib-metadata>=4.11.4->qiskit-ionq) (3.8.1)\n",
            "Requirement already satisfied: psutil>=5 in /usr/local/lib/python3.7/dist-packages (from qiskit-terra>=0.17.4->qiskit-ionq) (5.4.8)\n",
            "Requirement already satisfied: ply>=3.10 in /usr/local/lib/python3.7/dist-packages (from qiskit-terra>=0.17.4->qiskit-ionq) (3.11)\n",
            "Requirement already satisfied: python-dateutil>=2.8.0 in /usr/local/lib/python3.7/dist-packages (from qiskit-terra>=0.17.4->qiskit-ionq) (2.8.2)\n",
            "Requirement already satisfied: numpy>=1.17 in /usr/local/lib/python3.7/dist-packages (from qiskit-terra>=0.17.4->qiskit-ionq) (1.21.6)\n",
            "Requirement already satisfied: sympy>=1.3 in /usr/local/lib/python3.7/dist-packages (from qiskit-terra>=0.17.4->qiskit-ionq) (1.7.1)\n",
            "Requirement already satisfied: stevedore>=3.0.0 in /usr/local/lib/python3.7/dist-packages (from qiskit-terra>=0.17.4->qiskit-ionq) (3.5.0)\n",
            "Requirement already satisfied: tweedledum<2.0,>=1.1 in /usr/local/lib/python3.7/dist-packages (from qiskit-terra>=0.17.4->qiskit-ionq) (1.1.1)\n",
            "Requirement already satisfied: symengine>=0.9 in /usr/local/lib/python3.7/dist-packages (from qiskit-terra>=0.17.4->qiskit-ionq) (0.9.2)\n",
            "Requirement already satisfied: shared-memory38 in /usr/local/lib/python3.7/dist-packages (from qiskit-terra>=0.17.4->qiskit-ionq) (0.1.2)\n",
            "Requirement already satisfied: retworkx>=0.11.0 in /usr/local/lib/python3.7/dist-packages (from qiskit-terra>=0.17.4->qiskit-ionq) (0.11.0)\n",
            "Requirement already satisfied: dill>=0.3 in /usr/local/lib/python3.7/dist-packages (from qiskit-terra>=0.17.4->qiskit-ionq) (0.3.5.1)\n",
            "Requirement already satisfied: scipy>=1.5 in /usr/local/lib/python3.7/dist-packages (from qiskit-terra>=0.17.4->qiskit-ionq) (1.7.3)\n",
            "Requirement already satisfied: six>=1.5 in /usr/local/lib/python3.7/dist-packages (from python-dateutil>=2.8.0->qiskit-terra>=0.17.4->qiskit-ionq) (1.15.0)\n",
            "Requirement already satisfied: idna<4,>=2.5 in /usr/local/lib/python3.7/dist-packages (from requests>=2.24.0->qiskit-ionq) (2.10)\n",
            "Requirement already satisfied: urllib3<1.27,>=1.21.1 in /usr/local/lib/python3.7/dist-packages (from requests>=2.24.0->qiskit-ionq) (1.26.10)\n",
            "Requirement already satisfied: certifi>=2017.4.17 in /usr/local/lib/python3.7/dist-packages (from requests>=2.24.0->qiskit-ionq) (2022.6.15)\n",
            "Requirement already satisfied: charset-normalizer<3,>=2 in /usr/local/lib/python3.7/dist-packages (from requests>=2.24.0->qiskit-ionq) (2.1.0)\n",
            "Requirement already satisfied: py<2.0.0,>=1.4.26 in /usr/local/lib/python3.7/dist-packages (from retry>=0.9.0->qiskit-ionq) (1.11.0)\n",
            "Requirement already satisfied: pbr!=2.1.0,>=2.0.0 in /usr/local/lib/python3.7/dist-packages (from stevedore>=3.0.0->qiskit-terra>=0.17.4->qiskit-ionq) (5.9.0)\n",
            "Requirement already satisfied: mpmath>=0.19 in /usr/local/lib/python3.7/dist-packages (from sympy>=1.3->qiskit-terra>=0.17.4->qiskit-ionq) (1.2.1)\n"
          ]
        }
      ],
      "source": [
        "!pip install qiskit-ionq"
      ]
    },
    {
      "cell_type": "code",
      "execution_count": null,
      "metadata": {
        "colab": {
          "base_uri": "https://localhost:8080/"
        },
        "id": "yK5liKz9L2l_",
        "outputId": "da823e54-d21b-45aa-a71c-640242f175f0"
      },
      "outputs": [
        {
          "name": "stdout",
          "output_type": "stream",
          "text": [
            "Looking in indexes: https://pypi.org/simple, https://us-python.pkg.dev/colab-wheels/public/simple/\n",
            "Requirement already satisfied: qiskit-ibmq-provider in /usr/local/lib/python3.7/dist-packages (0.19.0)\n",
            "Requirement already satisfied: numpy>=1.13 in /usr/local/lib/python3.7/dist-packages (from qiskit-ibmq-provider) (1.21.6)\n",
            "Requirement already satisfied: websocket-client>=1.0.1 in /usr/local/lib/python3.7/dist-packages (from qiskit-ibmq-provider) (1.3.3)\n",
            "Requirement already satisfied: requests-ntlm>=1.1.0 in /usr/local/lib/python3.7/dist-packages (from qiskit-ibmq-provider) (1.1.0)\n",
            "Requirement already satisfied: websockets>=10.0 in /usr/local/lib/python3.7/dist-packages (from qiskit-ibmq-provider) (10.3)\n",
            "Requirement already satisfied: requests>=2.19 in /usr/local/lib/python3.7/dist-packages (from qiskit-ibmq-provider) (2.28.1)\n",
            "Requirement already satisfied: python-dateutil>=2.8.0 in /usr/local/lib/python3.7/dist-packages (from qiskit-ibmq-provider) (2.8.2)\n",
            "Requirement already satisfied: urllib3>=1.21.1 in /usr/local/lib/python3.7/dist-packages (from qiskit-ibmq-provider) (1.26.10)\n",
            "Requirement already satisfied: qiskit-terra>=0.18.0 in /usr/local/lib/python3.7/dist-packages (from qiskit-ibmq-provider) (0.21.0)\n",
            "Requirement already satisfied: six>=1.5 in /usr/local/lib/python3.7/dist-packages (from python-dateutil>=2.8.0->qiskit-ibmq-provider) (1.15.0)\n",
            "Requirement already satisfied: scipy>=1.5 in /usr/local/lib/python3.7/dist-packages (from qiskit-terra>=0.18.0->qiskit-ibmq-provider) (1.7.3)\n",
            "Requirement already satisfied: tweedledum<2.0,>=1.1 in /usr/local/lib/python3.7/dist-packages (from qiskit-terra>=0.18.0->qiskit-ibmq-provider) (1.1.1)\n",
            "Requirement already satisfied: shared-memory38 in /usr/local/lib/python3.7/dist-packages (from qiskit-terra>=0.18.0->qiskit-ibmq-provider) (0.1.2)\n",
            "Requirement already satisfied: sympy>=1.3 in /usr/local/lib/python3.7/dist-packages (from qiskit-terra>=0.18.0->qiskit-ibmq-provider) (1.7.1)\n",
            "Requirement already satisfied: typing-extensions in /usr/local/lib/python3.7/dist-packages (from qiskit-terra>=0.18.0->qiskit-ibmq-provider) (4.1.1)\n",
            "Requirement already satisfied: stevedore>=3.0.0 in /usr/local/lib/python3.7/dist-packages (from qiskit-terra>=0.18.0->qiskit-ibmq-provider) (3.5.0)\n",
            "Requirement already satisfied: retworkx>=0.11.0 in /usr/local/lib/python3.7/dist-packages (from qiskit-terra>=0.18.0->qiskit-ibmq-provider) (0.11.0)\n",
            "Requirement already satisfied: symengine>=0.9 in /usr/local/lib/python3.7/dist-packages (from qiskit-terra>=0.18.0->qiskit-ibmq-provider) (0.9.2)\n",
            "Requirement already satisfied: dill>=0.3 in /usr/local/lib/python3.7/dist-packages (from qiskit-terra>=0.18.0->qiskit-ibmq-provider) (0.3.5.1)\n",
            "Requirement already satisfied: psutil>=5 in /usr/local/lib/python3.7/dist-packages (from qiskit-terra>=0.18.0->qiskit-ibmq-provider) (5.4.8)\n",
            "Requirement already satisfied: ply>=3.10 in /usr/local/lib/python3.7/dist-packages (from qiskit-terra>=0.18.0->qiskit-ibmq-provider) (3.11)\n",
            "Requirement already satisfied: certifi>=2017.4.17 in /usr/local/lib/python3.7/dist-packages (from requests>=2.19->qiskit-ibmq-provider) (2022.6.15)\n",
            "Requirement already satisfied: charset-normalizer<3,>=2 in /usr/local/lib/python3.7/dist-packages (from requests>=2.19->qiskit-ibmq-provider) (2.1.0)\n",
            "Requirement already satisfied: idna<4,>=2.5 in /usr/local/lib/python3.7/dist-packages (from requests>=2.19->qiskit-ibmq-provider) (2.10)\n",
            "Requirement already satisfied: ntlm-auth>=1.0.2 in /usr/local/lib/python3.7/dist-packages (from requests-ntlm>=1.1.0->qiskit-ibmq-provider) (1.5.0)\n",
            "Requirement already satisfied: cryptography>=1.3 in /usr/local/lib/python3.7/dist-packages (from requests-ntlm>=1.1.0->qiskit-ibmq-provider) (37.0.4)\n",
            "Requirement already satisfied: cffi>=1.12 in /usr/local/lib/python3.7/dist-packages (from cryptography>=1.3->requests-ntlm>=1.1.0->qiskit-ibmq-provider) (1.15.1)\n",
            "Requirement already satisfied: pycparser in /usr/local/lib/python3.7/dist-packages (from cffi>=1.12->cryptography>=1.3->requests-ntlm>=1.1.0->qiskit-ibmq-provider) (2.21)\n",
            "Requirement already satisfied: importlib-metadata>=1.7.0 in /usr/local/lib/python3.7/dist-packages (from stevedore>=3.0.0->qiskit-terra>=0.18.0->qiskit-ibmq-provider) (4.12.0)\n",
            "Requirement already satisfied: pbr!=2.1.0,>=2.0.0 in /usr/local/lib/python3.7/dist-packages (from stevedore>=3.0.0->qiskit-terra>=0.18.0->qiskit-ibmq-provider) (5.9.0)\n",
            "Requirement already satisfied: zipp>=0.5 in /usr/local/lib/python3.7/dist-packages (from importlib-metadata>=1.7.0->stevedore>=3.0.0->qiskit-terra>=0.18.0->qiskit-ibmq-provider) (3.8.1)\n",
            "Requirement already satisfied: mpmath>=0.19 in /usr/local/lib/python3.7/dist-packages (from sympy>=1.3->qiskit-terra>=0.18.0->qiskit-ibmq-provider) (1.2.1)\n"
          ]
        }
      ],
      "source": [
        "!pip install qiskit-ibmq-provider"
      ]
    },
    {
      "cell_type": "markdown",
      "metadata": {
        "id": "V-GdsxdJD4z4"
      },
      "source": [
        "We are going to connect with ourself account (I changed my token, you should do same)"
      ]
    },
    {
      "cell_type": "code",
      "execution_count": 1,
      "metadata": {
        "id": "t7eDj2UBD4z4"
      },
      "outputs": [],
      "source": [
        "IBMQ.save_account('763f3d42e3016709be48fe645fc6bc9eb32905081ebac3f67c123f8278785d9231ee392a323554b6e0efac1c36d7cd24ef5ab2f506cef6ff3d1fe69a4d02b56f')"
      ]
    },
    {
      "cell_type": "code",
      "execution_count": null,
      "metadata": {
        "id": "kpapk-lTD4z4"
      },
      "outputs": [],
      "source": [
        "IBMQ.load_account()"
      ]
    },
    {
      "cell_type": "markdown",
      "metadata": {
        "id": "3nqWegpAD4z4"
      },
      "source": [
        "We can see different quantum computers to execute the algorithm/circuit."
      ]
    },
    {
      "cell_type": "code",
      "execution_count": null,
      "metadata": {
        "id": "dGRDvowQD4z4"
      },
      "outputs": [],
      "source": [
        "prvdr=IBMQ.get_provider(group='open')\n",
        "prvdr.backends()"
      ]
    },
    {
      "cell_type": "markdown",
      "metadata": {
        "id": "Vi_QeHyhD4z4"
      },
      "source": [
        "Remember it is important to know the quantum computer arqchitecture.\n",
        "**Hint:** go to ref. 4 to see the jobs in the computing."
      ]
    },
    {
      "cell_type": "code",
      "execution_count": null,
      "metadata": {
        "id": "vjOmiv9FD4z5"
      },
      "outputs": [],
      "source": [
        "prvdr=IBMQ.get_provider('ibm-q')\n",
        "qcomp=prvdr.get_backend('ibmq_belem')"
      ]
    },
    {
      "cell_type": "markdown",
      "metadata": {
        "id": "BKBqOaVrD4z5"
      },
      "source": [
        "Execute the circuit in the quantum computer."
      ]
    },
    {
      "cell_type": "code",
      "execution_count": null,
      "metadata": {
        "id": "_3hgAX1FD4z5"
      },
      "outputs": [],
      "source": [
        "job=execute(circuit, backend=qcomp)"
      ]
    },
    {
      "cell_type": "markdown",
      "metadata": {
        "id": "2Jqk3LLpD4z5"
      },
      "source": [
        "import the tools to show the results"
      ]
    },
    {
      "cell_type": "code",
      "execution_count": null,
      "metadata": {
        "id": "IxM31wK1D4z5"
      },
      "outputs": [],
      "source": [
        "from qiskit.tools.monitor import job_monitor"
      ]
    },
    {
      "cell_type": "markdown",
      "metadata": {
        "id": "UvvoHuAYD4z5"
      },
      "source": [
        "To know the job status."
      ]
    },
    {
      "cell_type": "code",
      "execution_count": null,
      "metadata": {
        "id": "6fBSXTeWD4z5"
      },
      "outputs": [],
      "source": [
        "job_monitor(job)"
      ]
    },
    {
      "cell_type": "markdown",
      "metadata": {
        "id": "j2tzpL5UD4z5"
      },
      "source": [
        "Assign the result to new variable."
      ]
    },
    {
      "cell_type": "code",
      "execution_count": null,
      "metadata": {
        "id": "_Iq7V08eD4z5"
      },
      "outputs": [],
      "source": [
        "rslt=job.result()"
      ]
    },
    {
      "cell_type": "markdown",
      "metadata": {
        "id": "KN-0vQU8D4z6"
      },
      "source": [
        "Draw the histogram"
      ]
    },
    {
      "cell_type": "code",
      "execution_count": null,
      "metadata": {
        "id": "EVrCDFK7D4z6"
      },
      "outputs": [],
      "source": [
        "plot_histogram(rslt.get_counts(circuit))"
      ]
    },
    {
      "cell_type": "markdown",
      "metadata": {
        "id": "lTsbbfbND4z6"
      },
      "source": [
        "# Exercise\n",
        "\n",
        "1. Use your account, and your token and re run this NB. \n",
        "2. Reproduce this NB with 3 qubits, use the simulator and the quantum computer.\n",
        "3. Use another provider.\n",
        "4. Compare and analyze your results. \n",
        "5. Write a report. Instructions during the course.\n",
        "\n",
        "I left some gifs to help with the token and the provider selection."
      ]
    },
    {
      "cell_type": "code",
      "execution_count": null,
      "metadata": {
        "colab": {
          "base_uri": "https://localhost:8080/",
          "height": 156
        },
        "id": "6VLEygvtIOvM",
        "outputId": "5181e1d9-021e-41a3-9f74-c233f3f463e4"
      },
      "outputs": [
        {
          "data": {
            "text/html": [
              "<pre style=\"word-wrap: normal;white-space: pre;background: #fff0;line-height: 1.1;font-family: &quot;Courier New&quot;,Courier,monospace\">     \n",
              "q_0: \n",
              "     \n",
              "q_1: \n",
              "     \n",
              "q_2: \n",
              "     \n",
              "c: 3/\n",
              "     </pre>"
            ],
            "text/plain": [
              "     \n",
              "q_0: \n",
              "     \n",
              "q_1: \n",
              "     \n",
              "q_2: \n",
              "     \n",
              "c: 3/\n",
              "     "
            ]
          },
          "execution_count": 22,
          "metadata": {},
          "output_type": "execute_result"
        }
      ],
      "source": [
        "qr = QuantumRegister(3,'q')\n",
        "cr = ClassicalRegister(3,'c')\n",
        "circuit = QuantumCircuit(qr,cr)\n",
        "circuit.draw()"
      ]
    },
    {
      "cell_type": "code",
      "execution_count": null,
      "metadata": {
        "colab": {
          "base_uri": "https://localhost:8080/",
          "height": 231
        },
        "id": "R1EZP_jCITSm",
        "outputId": "a2014bb2-3ca1-495d-a437-458dcae5311d"
      },
      "outputs": [
        {
          "data": {
            "image/png": "[encoded data removed]",
            "text/plain": [
              "<Figure size 327.397x264.88 with 1 Axes>"
            ]
          },
          "execution_count": 23,
          "metadata": {},
          "output_type": "execute_result"
        }
      ],
      "source": [
        "circuit.h(qr[0])\n",
        "circuit.draw(output='mpl')\n",
        "\n",
        "circuit.cx(qr[0],qr[1])\n",
        "circuit.draw(output='mpl')\n",
        "\n",
        "circuit.measure(qr,cr)\n",
        "circuit.draw(output='mpl')"
      ]
    },
    {
      "cell_type": "code",
      "execution_count": null,
      "metadata": {
        "colab": {
          "base_uri": "https://localhost:8080/",
          "height": 340
        },
        "id": "jjxOiEcZIc1a",
        "outputId": "427f1341-a1be-4e91-f3a5-3365ab61003a"
      },
      "outputs": [
        {
          "data": {
            "image/png": "[encoded data removed]",
            "text/plain": [
              "<Figure size 504x360 with 1 Axes>"
            ]
          },
          "execution_count": 24,
          "metadata": {},
          "output_type": "execute_result"
        }
      ],
      "source": [
        "bcknd = Aer.get_backend('qasm_simulator')\n",
        "rslt = execute(circuit, backend=bcknd).result()\n",
        "\n",
        "from qiskit.tools.visualization import plot_histogram\n",
        "plot_histogram(rslt.get_counts(circuit))"
      ]
    },
    {
      "cell_type": "code",
      "execution_count": null,
      "metadata": {
        "colab": {
          "base_uri": "https://localhost:8080/"
        },
        "id": "yKQNKiHxMwiP",
        "outputId": "27e70ed1-f10f-480c-f8ea-945b2687f7e1"
      },
      "outputs": [
        {
          "name": "stdout",
          "output_type": "stream",
          "text": [
            "Looking in indexes: https://pypi.org/simple, https://us-python.pkg.dev/colab-wheels/public/simple/\n",
            "Requirement already satisfied: qiskit-ionq in /usr/local/lib/python3.7/dist-packages (0.3.5)\n",
            "Requirement already satisfied: qiskit-terra>=0.17.4 in /usr/local/lib/python3.7/dist-packages (from qiskit-ionq) (0.21.0)\n",
            "Requirement already satisfied: decorator>=5.1.0 in /usr/local/lib/python3.7/dist-packages (from qiskit-ionq) (5.1.1)\n",
            "Requirement already satisfied: retry>=0.9.0 in /usr/local/lib/python3.7/dist-packages (from qiskit-ionq) (0.9.2)\n",
            "Requirement already satisfied: importlib-metadata>=4.11.4 in /usr/local/lib/python3.7/dist-packages (from qiskit-ionq) (4.12.0)\n",
            "Requirement already satisfied: requests>=2.24.0 in /usr/local/lib/python3.7/dist-packages (from qiskit-ionq) (2.28.1)\n",
            "Requirement already satisfied: typing-extensions>=3.6.4 in /usr/local/lib/python3.7/dist-packages (from importlib-metadata>=4.11.4->qiskit-ionq) (4.1.1)\n",
            "Requirement already satisfied: zipp>=0.5 in /usr/local/lib/python3.7/dist-packages (from importlib-metadata>=4.11.4->qiskit-ionq) (3.8.1)\n",
            "Requirement already satisfied: psutil>=5 in /usr/local/lib/python3.7/dist-packages (from qiskit-terra>=0.17.4->qiskit-ionq) (5.4.8)\n",
            "Requirement already satisfied: ply>=3.10 in /usr/local/lib/python3.7/dist-packages (from qiskit-terra>=0.17.4->qiskit-ionq) (3.11)\n",
            "Requirement already satisfied: shared-memory38 in /usr/local/lib/python3.7/dist-packages (from qiskit-terra>=0.17.4->qiskit-ionq) (0.1.2)\n",
            "Requirement already satisfied: retworkx>=0.11.0 in /usr/local/lib/python3.7/dist-packages (from qiskit-terra>=0.17.4->qiskit-ionq) (0.11.0)\n",
            "Requirement already satisfied: sympy>=1.3 in /usr/local/lib/python3.7/dist-packages (from qiskit-terra>=0.17.4->qiskit-ionq) (1.7.1)\n",
            "Requirement already satisfied: python-dateutil>=2.8.0 in /usr/local/lib/python3.7/dist-packages (from qiskit-terra>=0.17.4->qiskit-ionq) (2.8.2)\n",
            "Requirement already satisfied: symengine>=0.9 in /usr/local/lib/python3.7/dist-packages (from qiskit-terra>=0.17.4->qiskit-ionq) (0.9.2)\n",
            "Requirement already satisfied: tweedledum<2.0,>=1.1 in /usr/local/lib/python3.7/dist-packages (from qiskit-terra>=0.17.4->qiskit-ionq) (1.1.1)\n",
            "Requirement already satisfied: stevedore>=3.0.0 in /usr/local/lib/python3.7/dist-packages (from qiskit-terra>=0.17.4->qiskit-ionq) (3.5.0)\n",
            "Requirement already satisfied: scipy>=1.5 in /usr/local/lib/python3.7/dist-packages (from qiskit-terra>=0.17.4->qiskit-ionq) (1.7.3)\n",
            "Requirement already satisfied: dill>=0.3 in /usr/local/lib/python3.7/dist-packages (from qiskit-terra>=0.17.4->qiskit-ionq) (0.3.5.1)\n",
            "Requirement already satisfied: numpy>=1.17 in /usr/local/lib/python3.7/dist-packages (from qiskit-terra>=0.17.4->qiskit-ionq) (1.21.6)\n",
            "Requirement already satisfied: six>=1.5 in /usr/local/lib/python3.7/dist-packages (from python-dateutil>=2.8.0->qiskit-terra>=0.17.4->qiskit-ionq) (1.15.0)\n",
            "Requirement already satisfied: urllib3<1.27,>=1.21.1 in /usr/local/lib/python3.7/dist-packages (from requests>=2.24.0->qiskit-ionq) (1.26.10)\n",
            "Requirement already satisfied: certifi>=2017.4.17 in /usr/local/lib/python3.7/dist-packages (from requests>=2.24.0->qiskit-ionq) (2022.6.15)\n",
            "Requirement already satisfied: charset-normalizer<3,>=2 in /usr/local/lib/python3.7/dist-packages (from requests>=2.24.0->qiskit-ionq) (2.1.0)\n",
            "Requirement already satisfied: idna<4,>=2.5 in /usr/local/lib/python3.7/dist-packages (from requests>=2.24.0->qiskit-ionq) (2.10)\n",
            "Requirement already satisfied: py<2.0.0,>=1.4.26 in /usr/local/lib/python3.7/dist-packages (from retry>=0.9.0->qiskit-ionq) (1.11.0)\n",
            "Requirement already satisfied: pbr!=2.1.0,>=2.0.0 in /usr/local/lib/python3.7/dist-packages (from stevedore>=3.0.0->qiskit-terra>=0.17.4->qiskit-ionq) (5.9.0)\n",
            "Requirement already satisfied: mpmath>=0.19 in /usr/local/lib/python3.7/dist-packages (from sympy>=1.3->qiskit-terra>=0.17.4->qiskit-ionq) (1.2.1)\n"
          ]
        }
      ],
      "source": [
        "!pip install qiskit-ionq"
      ]
    },
    {
      "cell_type": "code",
      "execution_count": null,
      "metadata": {
        "id": "yjOrqdSuM3_b"
      },
      "outputs": [],
      "source": [
        "from qiskit_ionq import IonQProvider\n",
        "provider = IonQProvider(\"h7lkEvbQKrAZ3fJ3ABePYdxlwoczSYKU\")"
      ]
    },
    {
      "cell_type": "code",
      "execution_count": null,
      "metadata": {
        "colab": {
          "base_uri": "https://localhost:8080/"
        },
        "id": "j2vop9p-NDsZ",
        "outputId": "fa890c69-f519-4e11-a7e7-a624006b3f04"
      },
      "outputs": [
        {
          "name": "stdout",
          "output_type": "stream",
          "text": [
            "[<IonQSimulatorBackend('ionq_simulator')>, <IonQQPUBackend('ionq_qpu')>]\n"
          ]
        }
      ],
      "source": [
        "print(provider.backends())"
      ]
    },
    {
      "cell_type": "code",
      "execution_count": null,
      "metadata": {
        "colab": {
          "base_uri": "https://localhost:8080/"
        },
        "id": "6BQR1k_9NIKG",
        "outputId": "de84170a-6a17-48fa-f7cd-b11800a0f354"
      },
      "outputs": [
        {
          "name": "stdout",
          "output_type": "stream",
          "text": [
            "ionq_simulator\n",
            "ionq_qpu\n"
          ]
        }
      ],
      "source": [
        "print(provider.backends()[0].name())\n",
        "print(provider.backends()[1].name())"
      ]
    },
    {
      "cell_type": "code",
      "execution_count": null,
      "metadata": {
        "id": "gXpKdEZONMYn"
      },
      "outputs": [],
      "source": [
        "qcomp = provider.get_backend('ionq_qpu')\n",
        "job = execute(circuit, backend=qcomp)"
      ]
    },
    {
      "cell_type": "code",
      "execution_count": null,
      "metadata": {
        "id": "Nz4xeXJ2NP0q"
      },
      "outputs": [],
      "source": [
        "from qiskit.tools.monitor import job_monitor\n",
        "\n",
        "job_monitor(job)"
      ]
    },
    {
      "cell_type": "code",
      "execution_count": null,
      "metadata": {
        "colab": {
          "background_save": true
        },
        "id": "19AOcS2-Nayp",
        "outputId": "9a673a55-12a0-4d74-9c33-5a95957b73de"
      },
      "outputs": [
        {
          "data": {
            "image/png": "[encoded data removed]",
            "text/plain": [
              "<Figure size 504x360 with 1 Axes>"
            ]
          },
          "execution_count": 33,
          "metadata": {},
          "output_type": "execute_result"
        }
      ],
      "source": [
        "rslt = job.result()\n",
        "\n",
        "plot_histogram(rslt.get_counts(circuit))"
      ]
    },
    {
      "cell_type": "markdown",
      "metadata": {
        "id": "YF2yDy2gD4z6"
      },
      "source": [
        "<img src=\"../GIF/quantumIBM_token_a.gif\" width=\"350\" align=\"center\">"
      ]
    },
    {
      "cell_type": "markdown",
      "metadata": {
        "id": "_6f6BiiYD4z6"
      },
      "source": [
        "<img src=\"../GIF/quantumIBM_token_B.gif\" width=\"350\" align=\"center\">"
      ]
    },
    {
      "cell_type": "code",
      "execution_count": null,
      "metadata": {
        "id": "JL27doMTD4z7"
      },
      "outputs": [],
      "source": [
        "from platform import python_version\n",
        "print(\"python version: \", python_version())\n",
        "!pip3 freeze | grep qiskit"
      ]
    },
    {
      "cell_type": "markdown",
      "metadata": {
        "id": "fPhAm-e8D4z7"
      },
      "source": [
        "# References"
      ]
    },
    {
      "cell_type": "markdown",
      "metadata": {
        "id": "saN2x2w2D4z7"
      },
      "source": [
        "\n",
        "1. Qiskit tutorial: https://qiskit.org/documentation/install.html\n",
        "2. Github tutorial: https://github.com/Qiskit/qiskit-iqx-tutorials\n",
        "3. youtube video: https://www.youtube.com/watch?v=L4jYKGrxKRE&feature=youtu.be\n",
        "4. IBM account: https://quantum-computing.ibm.com/\n",
        "<!--\n",
        "https://quantum-computing.ibm.com/\n",
        "My count with gmail in ciencias.unam\n",
        "and Github\n",
        "-->"
      ]
    }
  ],
  "metadata": {
    "colab": {
      "name": "QC0_4_Qiskit.ipynb",
      "provenance": []
    },
    "interpreter": {
      "hash": "67c6e30cc51eeb2c63ed190c851214ed4edf2b99efcdbee63e8aad06437ac09b"
    },
    "kernelspec": {
      "display_name": "Python 3.7.9 ('myEnvPy37')",
      "language": "python",
      "name": "python3"
    },
    "language_info": {
      "codemirror_mode": {
        "name": "ipython",
        "version": 3
      },
      "file_extension": ".py",
      "mimetype": "text/x-python",
      "name": "python",
      "nbconvert_exporter": "python",
      "pygments_lexer": "ipython3",
      "version": "3.7.9"
    }
  },
  "nbformat": 4,
  "nbformat_minor": 0
}