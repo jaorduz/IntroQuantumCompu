{
  "cells": [
    {
      "cell_type": "markdown",
      "metadata": {
        "id": "kExFfMl4CaoH"
      },
      "source": [
        "# Qiskit: Basics on Python and Quantum Computing\n",
        "### By: Javier Orduz"
      ]
    },
    {
      "cell_type": "markdown",
      "metadata": {
        "id": "MqcSGVVuCaoJ"
      },
      "source": [
        "## Quantum Hello world!"
      ]
    },
    {
      "cell_type": "markdown",
      "metadata": {
        "id": "_x20w4dmCaoJ"
      },
      "source": [
        "We import the libraries or modules"
      ]
    },
    {
      "cell_type": "code",
      "execution_count": null,
      "metadata": {
        "id": "LabMhYvfCaoJ"
      },
      "outputs": [],
      "source": [
        "from qiskit import *"
      ]
    },
    {
      "cell_type": "markdown",
      "metadata": {
        "id": "F5uzxH7bCaoK"
      },
      "source": [
        "We introduce a line to draw the graphs in the nb"
      ]
    },
    {
      "cell_type": "code",
      "execution_count": null,
      "metadata": {
        "id": "Tsxwk5aQCaoK"
      },
      "outputs": [],
      "source": [
        "%matplotlib inline"
      ]
    },
    {
      "cell_type": "markdown",
      "metadata": {
        "id": "-CnhPtPMCaoK"
      },
      "source": [
        "We will add labels to the qubits."
      ]
    },
    {
      "cell_type": "code",
      "execution_count": null,
      "metadata": {
        "id": "WduTCwvSCaoL",
        "outputId": "521d8521-01bc-4270-8869-f59e52a9cd79"
      },
      "outputs": [
        {
          "data": {
            "text/html": [
              "<pre style=\"word-wrap: normal;white-space: pre;background: #fff0;line-height: 1.1;font-family: &quot;Courier New&quot;,Courier,monospace\">     \n",
              "q_0: \n",
              "     \n",
              "q_1: \n",
              "     \n",
              "c: 2/\n",
              "     </pre>"
            ],
            "text/plain": [
              "     \n",
              "q_0: \n",
              "     \n",
              "q_1: \n",
              "     \n",
              "c: 2/\n",
              "     "
            ]
          },
          "execution_count": 17,
          "metadata": {},
          "output_type": "execute_result"
        }
      ],
      "source": [
        "qr = QuantumRegister(2,'q')\n",
        "cr = ClassicalRegister(2,'c')\n",
        "circuit = QuantumCircuit(qr,cr)\n",
        "circuit.draw()"
      ]
    },
    {
      "cell_type": "markdown",
      "metadata": {
        "id": "txdJUYchCaoM"
      },
      "source": [
        "We apply the Hadamard gate (H-gate is _superposition_ same probability):\n",
        "1. circuit.h(qr): for all quantum registers\n",
        "2. circuit.h(qr[i]): for the i-quantum register."
      ]
    },
    {
      "cell_type": "code",
      "execution_count": null,
      "metadata": {
        "id": "bYNkv_UHCaoM",
        "outputId": "f87948e4-38e2-461e-c8ba-0acd1ac4cfe7"
      },
      "outputs": [
        {
          "data": {
            "image/png": "[encoded data removed]",
            "text/plain": [
              "<Figure size 146.652x204.68 with 1 Axes>"
            ]
          },
          "execution_count": 18,
          "metadata": {},
          "output_type": "execute_result"
        }
      ],
      "source": [
        "circuit.h(qr[0])\n",
        "circuit.draw(output='mpl')"
      ]
    },
    {
      "cell_type": "markdown",
      "metadata": {
        "id": "vNPnazhFCaoN"
      },
      "source": [
        "## Multiqbit Gates"
      ]
    },
    {
      "cell_type": "markdown",
      "metadata": {
        "id": "DJmIvCwxCaoN"
      },
      "source": [
        "We add the X-gate (control not or control-X, which is entanglement):\n",
        "1. circuit.cx[qr[0],qr[1]]."
      ]
    },
    {
      "cell_type": "code",
      "execution_count": null,
      "metadata": {
        "id": "kQnfG0GFCaoN",
        "outputId": "41eadd62-b0d8-42c3-a98b-2a6bebd10e4d"
      },
      "outputs": [
        {
          "data": {
            "image/png": "[encoded data removed]",
            "text/plain": [
              "<Figure size 206.852x204.68 with 1 Axes>"
            ]
          },
          "execution_count": 19,
          "metadata": {},
          "output_type": "execute_result"
        }
      ],
      "source": [
        "circuit.cx(qr[0],qr[1])\n",
        "circuit.draw(output='mpl')"
      ]
    },
    {
      "cell_type": "markdown",
      "metadata": {
        "id": "32jpKkYbCaoO"
      },
      "source": [
        "Now, we measure:"
      ]
    },
    {
      "cell_type": "code",
      "execution_count": null,
      "metadata": {
        "id": "lR2pDRZFCaoO",
        "outputId": "8b3e943e-af3a-4933-bc01-7daa73a4a5bf"
      },
      "outputs": [
        {
          "data": {
            "image/png": "[encoded data removed]",
            "text/plain": [
              "<Figure size 327.252x204.68 with 1 Axes>"
            ]
          },
          "execution_count": 20,
          "metadata": {},
          "output_type": "execute_result"
        }
      ],
      "source": [
        "circuit.measure(qr,cr)\n",
        "circuit.draw(output='mpl')"
      ]
    },
    {
      "cell_type": "markdown",
      "metadata": {
        "id": "MxfXVm8OCaoO"
      },
      "source": [
        "### Concepts"
      ]
    },
    {
      "cell_type": "markdown",
      "metadata": {
        "id": "nfR5AQxJCaoO"
      },
      "source": [
        "1. Backend is the environment where we can simulate one quantum computer.\n",
        "2. Pay (time or money) in the tons of works before yours."
      ]
    },
    {
      "cell_type": "markdown",
      "metadata": {
        "id": "wDgWSEAWCaoO"
      },
      "source": [
        "## Some quantum computers:\n",
        "- ibmq_16_melbourne\n",
        "- ibmq_london\n",
        "- etc."
      ]
    },
    {
      "cell_type": "markdown",
      "metadata": {
        "id": "QptDUwfYCaoP"
      },
      "source": [
        "We create the _backend_:"
      ]
    },
    {
      "cell_type": "code",
      "execution_count": null,
      "metadata": {
        "id": "Ebfrx5E2CaoP"
      },
      "outputs": [],
      "source": [
        "bcknd = Aer.get_backend('qasm_simulator')"
      ]
    },
    {
      "cell_type": "markdown",
      "metadata": {
        "id": "vYRYbSG6CaoP"
      },
      "source": [
        "We execute and get the result:"
      ]
    },
    {
      "cell_type": "code",
      "execution_count": null,
      "metadata": {
        "id": "czw4d5R4CaoP"
      },
      "outputs": [],
      "source": [
        "rslt = execute(circuit, backend=bcknd).result()"
      ]
    },
    {
      "cell_type": "markdown",
      "metadata": {
        "id": "9mfODXuCCaoP"
      },
      "source": [
        "And call the modules/libraries to plot the histogram"
      ]
    },
    {
      "cell_type": "code",
      "execution_count": null,
      "metadata": {
        "id": "b48S4VXnCaoP"
      },
      "outputs": [],
      "source": [
        "from qiskit.tools.visualization import plot_histogram"
      ]
    },
    {
      "cell_type": "markdown",
      "metadata": {
        "id": "OvI2VQ2cCaoP"
      },
      "source": [
        "Draw the histogram"
      ]
    },
    {
      "cell_type": "code",
      "execution_count": null,
      "metadata": {
        "id": "6i2MmebtCaoQ",
        "outputId": "09e279ce-cc42-4acd-f619-c886c80667ef"
      },
      "outputs": [
        {
          "data": {
            "image/png": "[encoded data removed]",
            "text/plain": [
              "<Figure size 504x360 with 1 Axes>"
            ]
          },
          "execution_count": 24,
          "metadata": {},
          "output_type": "execute_result"
        }
      ],
      "source": [
        "plot_histogram(rslt.get_counts(circuit))"
      ]
    },
    {
      "cell_type": "markdown",
      "metadata": {
        "id": "rvK5OJQwCaoQ"
      },
      "source": [
        "# Exercise\n",
        "\n",
        "1. Modify this NB to obtain the following circuit\n",
        "<!--\n",
        "qr2 = QuantumRegister(2,'q')\n",
        "cr2 = ClassicalRegister(2,'c')\n",
        "circuit2 = QuantumCircuit(qr2,cr2)\n",
        "circuit2.h(qr2)\n",
        "circuit2.cx(qr2[0], qr2[1])\n",
        "circuit2.measure(qr2,cr2)\n",
        "circuit2.draw(output='mpl')\n",
        "#\n",
        "bcknd2 = Aer.get_backend('qasm_simulator')\n",
        "rslt2 = execute(circuit2, backend=bcknd2).result()\n",
        "plot_histogram(rslt2.get_counts(circuit2))-->"
      ]
    },
    {
      "cell_type": "markdown",
      "metadata": {
        "id": "6p436NdnCaoQ"
      },
      "source": [
        "![A3_a](../FIGS/A3_a.png)"
      ]
    },
    {
      "cell_type": "markdown",
      "metadata": {
        "id": "YEVHIM1QCaoQ"
      },
      "source": [
        "The numbers of the next histogram can be little bit different\n",
        "\n",
        "![A3_b](../FIGS/A3_b.png)\n"
      ]
    },
    {
      "cell_type": "code",
      "execution_count": null,
      "metadata": {
        "id": "0Tag2S71CaoQ"
      },
      "outputs": [],
      "source": [
        "q_r = QuantumRegister(2,'q')\n",
        "c_r = ClassicalRegister(2,'c')\n",
        "circuit = QuantumCircuit(q_r,c_r)"
      ]
    },
    {
      "cell_type": "code",
      "execution_count": null,
      "metadata": {
        "id": "X2uTI2PcCaoQ",
        "outputId": "86f51557-d45c-41e3-b69a-073a315b4a7d"
      },
      "outputs": [
        {
          "data": {
            "text/plain": [
              "<qiskit.circuit.instructionset.InstructionSet at 0x7f3d338da320>"
            ]
          },
          "execution_count": 26,
          "metadata": {},
          "output_type": "execute_result"
        }
      ],
      "source": [
        "circuit.h(q_r)\n",
        "circuit.cx(q_r[0], q_r[1])"
      ]
    },
    {
      "cell_type": "code",
      "execution_count": null,
      "metadata": {
        "id": "UbrS6xx_CaoQ",
        "outputId": "1c17f45d-b424-4036-c93e-d113fa45bcaa"
      },
      "outputs": [
        {
          "data": {
            "image/png": "[encoded data removed]",
            "text/plain": [
              "<Figure size 327.252x204.68 with 1 Axes>"
            ]
          },
          "execution_count": 27,
          "metadata": {},
          "output_type": "execute_result"
        }
      ],
      "source": [
        "circuit.measure(q_r,c_r)\n",
        "circuit.draw(output='mpl')"
      ]
    },
    {
      "cell_type": "code",
      "execution_count": null,
      "metadata": {
        "id": "WE0XjuFQCaoR",
        "outputId": "c6bae2d2-22ef-4862-e068-b6f5aeb00108"
      },
      "outputs": [
        {
          "data": {
            "image/png": "[encoded data removed]",
            "text/plain": [
              "<Figure size 504x360 with 1 Axes>"
            ]
          },
          "execution_count": 28,
          "metadata": {},
          "output_type": "execute_result"
        }
      ],
      "source": [
        "bcknd1 = Aer.get_backend('qasm_simulator')\n",
        "rslt1 = execute(circuit, backend=bcknd1).result()\n",
        "plot_histogram(rslt1.get_counts(circuit))"
      ]
    },
    {
      "cell_type": "code",
      "execution_count": null,
      "metadata": {
        "id": "FCesSa-oCaoR",
        "outputId": "76cba736-1820-45e3-cbdb-a14631e7c01e"
      },
      "outputs": [
        {
          "name": "stdout",
          "output_type": "stream",
          "text": [
            "python version:  3.10.4\n",
            "qiskit==0.37.0\n",
            "qiskit-aer==0.10.4\n",
            "qiskit-ibmq-provider==0.19.2\n",
            "qiskit-ionq==0.3.5\n",
            "qiskit-terra==0.21.0\n"
          ]
        }
      ],
      "source": [
        "from platform import python_version\n",
        "print(\"python version: \", python_version())\n",
        "!pip3 freeze | grep qiskit"
      ]
    },
    {
      "cell_type": "markdown",
      "metadata": {
        "id": "X7fjvo-aCaoR"
      },
      "source": [
        "# References"
      ]
    },
    {
      "cell_type": "markdown",
      "metadata": {
        "id": "R1jmBELSCaoR"
      },
      "source": [
        "\n",
        "1. Qiskit tutorial: https://qiskit.org/documentation/install.html\n",
        "2. Github tutorial: https://github.com/Qiskit/qiskit-iqx-tutorials\n",
        "3. youtube video: https://www.youtube.com/watch?v=L4jYKGrxKRE&feature=youtu.be\n",
        "4. IBM account: https://quantum-computing.ibm.com/\n",
        "<!--\n",
        "https://quantum-computing.ibm.com/\n",
        "My count with gmail in ciencias.unam\n",
        "and Github-->"
      ]
    }
  ],
  "metadata": {
    "interpreter": {
      "hash": "67c6e30cc51eeb2c63ed190c851214ed4edf2b99efcdbee63e8aad06437ac09b"
    },
    "kernelspec": {
      "display_name": "Python 3 (ipykernel)",
      "language": "python",
      "name": "python3"
    },
    "language_info": {
      "codemirror_mode": {
        "name": "ipython",
        "version": 3
      },
      "file_extension": ".py",
      "mimetype": "text/x-python",
      "name": "python",
      "nbconvert_exporter": "python",
      "pygments_lexer": "ipython3",
      "version": "3.10.4"
    },
    "colab": {
      "name": "Maisha_QC0_3_Qiskit.ipynb",
      "provenance": [],
      "collapsed_sections": []
    }
  },
  "nbformat": 4,
  "nbformat_minor": 0
}