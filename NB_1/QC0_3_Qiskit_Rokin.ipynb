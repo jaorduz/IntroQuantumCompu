{
  "cells": [
    {
      "cell_type": "markdown",
      "metadata": {
        "id": "QXJLkOLjI33e"
      },
      "source": [
        "# Qiskit: Basics on Python and Quantum Computing\n",
        "### By: Rokin Maharjan"
      ]
    },
    {
      "cell_type": "markdown",
      "metadata": {
        "id": "ULY_cjykI33f"
      },
      "source": [
        "## Quantum Hello world!"
      ]
    },
    {
      "cell_type": "markdown",
      "metadata": {
        "id": "ezPfGvRzI33f"
      },
      "source": [
        "We import the libraries or modules"
      ]
    },
    {
      "cell_type": "code",
      "source": [
        "pip install qiskit"
      ],
      "metadata": {
        "colab": {
          "base_uri": "https://localhost:8080/"
        },
        "id": "f6M4ulwqMYgr",
        "outputId": "5687bfa1-f8f8-4502-b254-aa9c5c404d00"
      },
      "execution_count": 5,
      "outputs": [
        {
          "output_type": "stream",
          "name": "stdout",
          "text": [
            "Looking in indexes: https://pypi.org/simple, https://us-python.pkg.dev/colab-wheels/public/simple/\n",
            "Requirement already satisfied: qiskit in /usr/local/lib/python3.7/dist-packages (0.37.0)\n",
            "Requirement already satisfied: qiskit-aer==0.10.4 in /usr/local/lib/python3.7/dist-packages (from qiskit) (0.10.4)\n",
            "Requirement already satisfied: qiskit-terra==0.21.0 in /usr/local/lib/python3.7/dist-packages (from qiskit) (0.21.0)\n",
            "Requirement already satisfied: qiskit-ibmq-provider==0.19.2 in /usr/local/lib/python3.7/dist-packages (from qiskit) (0.19.2)\n",
            "Requirement already satisfied: scipy>=1.0 in /usr/local/lib/python3.7/dist-packages (from qiskit-aer==0.10.4->qiskit) (1.7.3)\n",
            "Requirement already satisfied: numpy>=1.16.3 in /usr/local/lib/python3.7/dist-packages (from qiskit-aer==0.10.4->qiskit) (1.21.6)\n",
            "Requirement already satisfied: websockets>=10.0 in /usr/local/lib/python3.7/dist-packages (from qiskit-ibmq-provider==0.19.2->qiskit) (10.3)\n",
            "Requirement already satisfied: urllib3>=1.21.1 in /usr/local/lib/python3.7/dist-packages (from qiskit-ibmq-provider==0.19.2->qiskit) (1.24.3)\n",
            "Requirement already satisfied: python-dateutil>=2.8.0 in /usr/local/lib/python3.7/dist-packages (from qiskit-ibmq-provider==0.19.2->qiskit) (2.8.2)\n",
            "Requirement already satisfied: requests>=2.19 in /usr/local/lib/python3.7/dist-packages (from qiskit-ibmq-provider==0.19.2->qiskit) (2.23.0)\n",
            "Requirement already satisfied: requests-ntlm>=1.1.0 in /usr/local/lib/python3.7/dist-packages (from qiskit-ibmq-provider==0.19.2->qiskit) (1.1.0)\n",
            "Requirement already satisfied: websocket-client>=1.0.1 in /usr/local/lib/python3.7/dist-packages (from qiskit-ibmq-provider==0.19.2->qiskit) (1.3.3)\n",
            "Requirement already satisfied: psutil>=5 in /usr/local/lib/python3.7/dist-packages (from qiskit-terra==0.21.0->qiskit) (5.4.8)\n",
            "Requirement already satisfied: sympy>=1.3 in /usr/local/lib/python3.7/dist-packages (from qiskit-terra==0.21.0->qiskit) (1.7.1)\n",
            "Requirement already satisfied: typing-extensions in /usr/local/lib/python3.7/dist-packages (from qiskit-terra==0.21.0->qiskit) (4.1.1)\n",
            "Requirement already satisfied: retworkx>=0.11.0 in /usr/local/lib/python3.7/dist-packages (from qiskit-terra==0.21.0->qiskit) (0.11.0)\n",
            "Requirement already satisfied: ply>=3.10 in /usr/local/lib/python3.7/dist-packages (from qiskit-terra==0.21.0->qiskit) (3.11)\n",
            "Requirement already satisfied: symengine>=0.9 in /usr/local/lib/python3.7/dist-packages (from qiskit-terra==0.21.0->qiskit) (0.9.2)\n",
            "Requirement already satisfied: shared-memory38 in /usr/local/lib/python3.7/dist-packages (from qiskit-terra==0.21.0->qiskit) (0.1.2)\n",
            "Requirement already satisfied: dill>=0.3 in /usr/local/lib/python3.7/dist-packages (from qiskit-terra==0.21.0->qiskit) (0.3.5.1)\n",
            "Requirement already satisfied: tweedledum<2.0,>=1.1 in /usr/local/lib/python3.7/dist-packages (from qiskit-terra==0.21.0->qiskit) (1.1.1)\n",
            "Requirement already satisfied: stevedore>=3.0.0 in /usr/local/lib/python3.7/dist-packages (from qiskit-terra==0.21.0->qiskit) (3.5.0)\n",
            "Requirement already satisfied: six>=1.5 in /usr/local/lib/python3.7/dist-packages (from python-dateutil>=2.8.0->qiskit-ibmq-provider==0.19.2->qiskit) (1.15.0)\n",
            "Requirement already satisfied: idna<3,>=2.5 in /usr/local/lib/python3.7/dist-packages (from requests>=2.19->qiskit-ibmq-provider==0.19.2->qiskit) (2.10)\n",
            "Requirement already satisfied: chardet<4,>=3.0.2 in /usr/local/lib/python3.7/dist-packages (from requests>=2.19->qiskit-ibmq-provider==0.19.2->qiskit) (3.0.4)\n",
            "Requirement already satisfied: certifi>=2017.4.17 in /usr/local/lib/python3.7/dist-packages (from requests>=2.19->qiskit-ibmq-provider==0.19.2->qiskit) (2022.6.15)\n",
            "Requirement already satisfied: cryptography>=1.3 in /usr/local/lib/python3.7/dist-packages (from requests-ntlm>=1.1.0->qiskit-ibmq-provider==0.19.2->qiskit) (37.0.4)\n",
            "Requirement already satisfied: ntlm-auth>=1.0.2 in /usr/local/lib/python3.7/dist-packages (from requests-ntlm>=1.1.0->qiskit-ibmq-provider==0.19.2->qiskit) (1.5.0)\n",
            "Requirement already satisfied: cffi>=1.12 in /usr/local/lib/python3.7/dist-packages (from cryptography>=1.3->requests-ntlm>=1.1.0->qiskit-ibmq-provider==0.19.2->qiskit) (1.15.1)\n",
            "Requirement already satisfied: pycparser in /usr/local/lib/python3.7/dist-packages (from cffi>=1.12->cryptography>=1.3->requests-ntlm>=1.1.0->qiskit-ibmq-provider==0.19.2->qiskit) (2.21)\n",
            "Requirement already satisfied: importlib-metadata>=1.7.0 in /usr/local/lib/python3.7/dist-packages (from stevedore>=3.0.0->qiskit-terra==0.21.0->qiskit) (4.12.0)\n",
            "Requirement already satisfied: pbr!=2.1.0,>=2.0.0 in /usr/local/lib/python3.7/dist-packages (from stevedore>=3.0.0->qiskit-terra==0.21.0->qiskit) (5.9.0)\n",
            "Requirement already satisfied: zipp>=0.5 in /usr/local/lib/python3.7/dist-packages (from importlib-metadata>=1.7.0->stevedore>=3.0.0->qiskit-terra==0.21.0->qiskit) (3.8.1)\n",
            "Requirement already satisfied: mpmath>=0.19 in /usr/local/lib/python3.7/dist-packages (from sympy>=1.3->qiskit-terra==0.21.0->qiskit) (1.2.1)\n"
          ]
        }
      ]
    },
    {
      "cell_type": "code",
      "source": [
        "pip install pylatexenc"
      ],
      "metadata": {
        "colab": {
          "base_uri": "https://localhost:8080/"
        },
        "id": "64Yl74gYMYna",
        "outputId": "d64fb474-fb5b-4535-f678-3cba8a0926fc"
      },
      "execution_count": 6,
      "outputs": [
        {
          "output_type": "stream",
          "name": "stdout",
          "text": [
            "Looking in indexes: https://pypi.org/simple, https://us-python.pkg.dev/colab-wheels/public/simple/\n",
            "Requirement already satisfied: pylatexenc in /usr/local/lib/python3.7/dist-packages (2.10)\n"
          ]
        }
      ]
    },
    {
      "cell_type": "code",
      "execution_count": 7,
      "metadata": {
        "id": "XbRCSVGmI33f"
      },
      "outputs": [],
      "source": [
        "from qiskit import *"
      ]
    },
    {
      "cell_type": "markdown",
      "metadata": {
        "id": "jEGrMCIRI33g"
      },
      "source": [
        "We introduce a line to draw the graphs in the nb"
      ]
    },
    {
      "cell_type": "code",
      "execution_count": 8,
      "metadata": {
        "id": "Rk9pxuBjI33g"
      },
      "outputs": [],
      "source": [
        "%matplotlib inline"
      ]
    },
    {
      "cell_type": "markdown",
      "metadata": {
        "id": "8925g7uvI33g"
      },
      "source": [
        "We will add labels to the qubits."
      ]
    },
    {
      "cell_type": "code",
      "execution_count": 9,
      "metadata": {
        "colab": {
          "base_uri": "https://localhost:8080/",
          "height": 125
        },
        "id": "12M4bk2WI33g",
        "outputId": "cafc0fff-3844-4199-c71c-e9b50e115576"
      },
      "outputs": [
        {
          "output_type": "execute_result",
          "data": {
            "text/plain": [
              "     \n",
              "q_0: \n",
              "     \n",
              "q_1: \n",
              "     \n",
              "c: 2/\n",
              "     "
            ],
            "text/html": [
              "<pre style=\"word-wrap: normal;white-space: pre;background: #fff0;line-height: 1.1;font-family: &quot;Courier New&quot;,Courier,monospace\">     \n",
              "q_0: \n",
              "     \n",
              "q_1: \n",
              "     \n",
              "c: 2/\n",
              "     </pre>"
            ]
          },
          "metadata": {},
          "execution_count": 9
        }
      ],
      "source": [
        "qr = QuantumRegister(2,'q')\n",
        "cr = ClassicalRegister(2,'c')\n",
        "circuit = QuantumCircuit(qr,cr)\n",
        "circuit.draw()"
      ]
    },
    {
      "cell_type": "markdown",
      "metadata": {
        "id": "2tfIVEygI33h"
      },
      "source": [
        "We apply the Hadamard gate (H-gate is _superposition_ same probability):\n",
        "1. circuit.h(qr): for all quantum registers\n",
        "2. circuit.h(qr[i]): for the i-quantum register."
      ]
    },
    {
      "cell_type": "code",
      "execution_count": 10,
      "metadata": {
        "colab": {
          "base_uri": "https://localhost:8080/",
          "height": 185
        },
        "id": "VcO17-X_I33h",
        "outputId": "abc0b82c-7356-4fdd-89ea-2c0acb77e7d1"
      },
      "outputs": [
        {
          "output_type": "execute_result",
          "data": {
            "text/plain": [
              "<Figure size 146.652x204.68 with 1 Axes>"
            ],
            "image/png": "[encoded data removed]"
          },
          "metadata": {},
          "execution_count": 10
        }
      ],
      "source": [
        "circuit.h(qr[0])\n",
        "circuit.draw(output='mpl')"
      ]
    },
    {
      "cell_type": "markdown",
      "metadata": {
        "id": "UQQH6n9nI33i"
      },
      "source": [
        "## Multiqbit Gates"
      ]
    },
    {
      "cell_type": "markdown",
      "metadata": {
        "id": "ZdV8tJQVI33i"
      },
      "source": [
        "We add the X-gate (control not or control-X, which is entanglement):\n",
        "1. circuit.cx[qr[0],qr[1]]."
      ]
    },
    {
      "cell_type": "code",
      "execution_count": 11,
      "metadata": {
        "colab": {
          "base_uri": "https://localhost:8080/",
          "height": 185
        },
        "id": "fKBneQ0RI33i",
        "outputId": "7f50fab9-17c8-4bac-f9c1-25c0293f8919"
      },
      "outputs": [
        {
          "output_type": "execute_result",
          "data": {
            "text/plain": [
              "<Figure size 206.852x204.68 with 1 Axes>"
            ],
            "image/png": "[encoded data removed]"
          },
          "metadata": {},
          "execution_count": 11
        }
      ],
      "source": [
        "circuit.cx(qr[0],qr[1])\n",
        "circuit.draw(output='mpl')"
      ]
    },
    {
      "cell_type": "markdown",
      "metadata": {
        "id": "pmPhdnd7I33i"
      },
      "source": [
        "Now, we measure:"
      ]
    },
    {
      "cell_type": "code",
      "execution_count": 12,
      "metadata": {
        "colab": {
          "base_uri": "https://localhost:8080/",
          "height": 185
        },
        "id": "0PObR78-I33i",
        "outputId": "39a82f78-de99-4216-d9c8-364737be4fe1"
      },
      "outputs": [
        {
          "output_type": "execute_result",
          "data": {
            "text/plain": [
              "<Figure size 327.252x204.68 with 1 Axes>"
            ],
            "image/png": "[encoded data removed]"
          },
          "metadata": {},
          "execution_count": 12
        }
      ],
      "source": [
        "circuit.measure(qr,cr)\n",
        "circuit.draw(output='mpl')"
      ]
    },
    {
      "cell_type": "markdown",
      "metadata": {
        "id": "GPQZYyx_I33j"
      },
      "source": [
        "### Concepts"
      ]
    },
    {
      "cell_type": "markdown",
      "metadata": {
        "id": "Zgawra3CI33j"
      },
      "source": [
        "1. Backend is the environment where we can simulate one quantum computer.\n",
        "2. Pay (time or money) in the tons of works before yours."
      ]
    },
    {
      "cell_type": "markdown",
      "metadata": {
        "id": "Din5lkvwI33j"
      },
      "source": [
        "## Some quantum computers:\n",
        "- ibmq_16_melbourne\n",
        "- ibmq_london\n",
        "- etc."
      ]
    },
    {
      "cell_type": "markdown",
      "metadata": {
        "id": "lCfPYH1mI33j"
      },
      "source": [
        "We create the _backend_:"
      ]
    },
    {
      "cell_type": "code",
      "execution_count": 13,
      "metadata": {
        "id": "wCdv8EG_I33j"
      },
      "outputs": [],
      "source": [
        "bcknd = Aer.get_backend('qasm_simulator')"
      ]
    },
    {
      "cell_type": "markdown",
      "metadata": {
        "id": "wwbM_eTXI33j"
      },
      "source": [
        "We execute and get the result:"
      ]
    },
    {
      "cell_type": "code",
      "execution_count": 14,
      "metadata": {
        "id": "CjDjZjq9I33j"
      },
      "outputs": [],
      "source": [
        "rslt = execute(circuit, backend=bcknd).result()"
      ]
    },
    {
      "cell_type": "markdown",
      "metadata": {
        "id": "hpTWP1fFI33j"
      },
      "source": [
        "And call the modules/libraries to plot the histogram"
      ]
    },
    {
      "cell_type": "code",
      "execution_count": 15,
      "metadata": {
        "id": "Dyo_oXpCI33k"
      },
      "outputs": [],
      "source": [
        "from qiskit.tools.visualization import plot_histogram"
      ]
    },
    {
      "cell_type": "markdown",
      "metadata": {
        "id": "Q57hIwoYI33k"
      },
      "source": [
        "Draw the histogram"
      ]
    },
    {
      "cell_type": "code",
      "execution_count": 16,
      "metadata": {
        "colab": {
          "base_uri": "https://localhost:8080/",
          "height": 334
        },
        "id": "_hm5Zq1PI33k",
        "outputId": "2007c070-819a-4a12-98a7-cbf343c1fa0d"
      },
      "outputs": [
        {
          "output_type": "execute_result",
          "data": {
            "text/plain": [
              "<Figure size 504x360 with 1 Axes>"
            ],
            "image/png": "[encoded data removed]"
          },
          "metadata": {},
          "execution_count": 16
        }
      ],
      "source": [
        "plot_histogram(rslt.get_counts(circuit))"
      ]
    },
    {
      "cell_type": "markdown",
      "metadata": {
        "id": "Hb7RbhijI33k"
      },
      "source": [
        "# Exercise\n",
        "\n",
        "1. Modify this NB to obtain the following circuit\n",
        "<!--\n",
        "qr2 = QuantumRegister(2,'q')\n",
        "cr2 = ClassicalRegister(2,'c')\n",
        "circuit2 = QuantumCircuit(qr2,cr2)\n",
        "circuit2.h(qr2)\n",
        "circuit2.cx(qr2[0], qr2[1])\n",
        "circuit2.measure(qr2,cr2)\n",
        "circuit2.draw(output='mpl')\n",
        "#\n",
        "bcknd2 = Aer.get_backend('qasm_simulator')\n",
        "rslt2 = execute(circuit2, backend=bcknd2).result()\n",
        "plot_histogram(rslt2.get_counts(circuit2))\n",
        "-->"
      ]
    },
    {
      "cell_type": "markdown",
      "metadata": {
        "id": "cvUwATzlI33k"
      },
      "source": [
        "![A3_a](../FIGS/A3_a.png)"
      ]
    },
    {
      "cell_type": "markdown",
      "metadata": {
        "id": "i3SNLGuEI33k"
      },
      "source": [
        "The numbers of the next histogram can be little bit different\n",
        "\n",
        "![A3_b](../FIGS/A3_b.png)\n"
      ]
    },
    {
      "cell_type": "code",
      "source": [
        "qr2 = QuantumRegister(2,'q')\n",
        "cr2 = ClassicalRegister(2,'c')\n",
        "circuit2 = QuantumCircuit(qr2,cr2)\n",
        "circuit2.h(qr2)\n",
        "circuit2.cx(qr2[0], qr2[1])\n",
        "circuit2.measure(qr2,cr2)\n",
        "circuit2.draw(output='mpl')"
      ],
      "metadata": {
        "colab": {
          "base_uri": "https://localhost:8080/",
          "height": 185
        },
        "id": "V2Paor5LL_y9",
        "outputId": "d578d346-4b05-4014-be9a-4e19b43d942a"
      },
      "execution_count": 17,
      "outputs": [
        {
          "output_type": "execute_result",
          "data": {
            "text/plain": [
              "<Figure size 327.252x204.68 with 1 Axes>"
            ],
            "image/png": "[encoded data removed]"
          },
          "metadata": {},
          "execution_count": 17
        }
      ]
    },
    {
      "cell_type": "code",
      "source": [
        "bcknd2 = Aer.get_backend('qasm_simulator')\n",
        "rslt2 = execute(circuit2, backend=bcknd2).result()\n",
        "plot_histogram(rslt2.get_counts(circuit2))"
      ],
      "metadata": {
        "colab": {
          "base_uri": "https://localhost:8080/",
          "height": 331
        },
        "id": "wj7yAVmHM-1R",
        "outputId": "8805bb45-9c9c-4bb6-8cc6-7d8fb15787e5"
      },
      "execution_count": 19,
      "outputs": [
        {
          "output_type": "execute_result",
          "data": {
            "text/plain": [
              "<Figure size 504x360 with 1 Axes>"
            ],
            "image/png": "[encoded data removed]"
          },
          "metadata": {},
          "execution_count": 19
        }
      ]
    },
    {
      "cell_type": "code",
      "execution_count": 18,
      "metadata": {
        "colab": {
          "base_uri": "https://localhost:8080/"
        },
        "id": "Kfq-87oZI33k",
        "outputId": "24cffee5-0373-4550-d464-58a632bef573"
      },
      "outputs": [
        {
          "output_type": "stream",
          "name": "stdout",
          "text": [
            "python version:  3.7.13\n",
            "qiskit==0.37.0\n",
            "qiskit-aer==0.10.4\n",
            "qiskit-ibmq-provider==0.19.2\n",
            "qiskit-terra==0.21.0\n"
          ]
        }
      ],
      "source": [
        "from platform import python_version\n",
        "print(\"python version: \", python_version())\n",
        "!pip3 freeze | grep qiskit"
      ]
    },
    {
      "cell_type": "markdown",
      "metadata": {
        "id": "FZ5pG1y2I33k"
      },
      "source": [
        "# References"
      ]
    },
    {
      "cell_type": "markdown",
      "metadata": {
        "id": "_60plDSDI33k"
      },
      "source": [
        "\n",
        "1. Qiskit tutorial: https://qiskit.org/documentation/install.html\n",
        "2. Github tutorial: https://github.com/Qiskit/qiskit-iqx-tutorials\n",
        "3. youtube video: https://www.youtube.com/watch?v=L4jYKGrxKRE&feature=youtu.be\n",
        "4. IBM account: https://quantum-computing.ibm.com/\n",
        "5. Github repository: https://github.com/jaorduz/IntroQuantumCompu/blob/500aa2ed57/NB_1/README.md\n",
        "\n",
        "<!--\n",
        "https://quantum-computing.ibm.com/\n",
        "My count with gmail in ciencias.unam\n",
        "and Github\n",
        "-->"
      ]
    }
  ],
  "metadata": {
    "interpreter": {
      "hash": "67c6e30cc51eeb2c63ed190c851214ed4edf2b99efcdbee63e8aad06437ac09b"
    },
    "kernelspec": {
      "display_name": "Python 3.7.9 ('myEnvPy37')",
      "language": "python",
      "name": "python3"
    },
    "language_info": {
      "codemirror_mode": {
        "name": "ipython",
        "version": 3
      },
      "file_extension": ".py",
      "mimetype": "text/x-python",
      "name": "python",
      "nbconvert_exporter": "python",
      "pygments_lexer": "ipython3",
      "version": "3.7.9"
    },
    "colab": {
      "name": "QC0_3_Qiskit_Rokin.ipynb",
      "provenance": [],
      "collapsed_sections": []
    }
  },
  "nbformat": 4,
  "nbformat_minor": 0
}