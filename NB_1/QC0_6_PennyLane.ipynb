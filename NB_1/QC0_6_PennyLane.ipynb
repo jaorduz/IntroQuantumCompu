{
 "cells": [
  {
   "cell_type": "markdown",
   "metadata": {},
   "source": [
    "# PennyLane:  Basics on Python and Quantum Computing\n",
    "### By: Yudeep Rajbhandari"
   ]
  },
  {
   "cell_type": "markdown",
   "metadata": {},
   "source": [
    "## Quantum Hello world!"
   ]
  },
  {
   "cell_type": "markdown",
   "metadata": {},
   "source": [
    "To install pennylane\n",
    "```python\n",
    "!pip3 install pennylane\n",
    "```"
   ]
  },
  {
   "cell_type": "code",
   "execution_count": 2,
   "metadata": {},
   "outputs": [],
   "source": [
    "import pennylane as qml\n",
    "import matplotlib.pyplot as plt\n",
    "#from pennylane import numpy as np "
   ]
  },
  {
   "cell_type": "code",
   "execution_count": 3,
   "metadata": {},
   "outputs": [],
   "source": [
    "shots_lst = [5, 10, 100, 1000]\n",
    "dev = qml.device(\"default.qubit\", wires = 2, shots=shots_lst)"
   ]
  },
  {
   "cell_type": "code",
   "execution_count": 4,
   "metadata": {},
   "outputs": [],
   "source": [
    "@qml.qnode(dev)\n",
    "def circuit(x):\n",
    "  qml.RX(x, wires=0)\n",
    "  qml.CNOT(wires=[0, 1])\n",
    "  return qml.expval(qml.PauliZ(0))"
   ]
  },
  {
   "cell_type": "code",
   "execution_count": 5,
   "metadata": {},
   "outputs": [
    {
     "name": "stdout",
     "output_type": "stream",
     "text": [
      "0: ──RX(0.10)─╭●─┤  <Z>\n",
      "1: ───────────╰X─┤     \n"
     ]
    }
   ],
   "source": [
    "print(qml.draw(circuit)(0.1)) # random numbers"
   ]
  },
  {
   "cell_type": "code",
   "execution_count": 6,
   "metadata": {},
   "outputs": [
    {
     "data": {
      "image/png": "[encoded data removed]",
      "text/plain": [
       "<Figure size 360x216 with 1 Axes>"
      ]
     },
     "metadata": {},
     "output_type": "display_data"
    }
   ],
   "source": [
    "fig, ax = qml.draw_mpl(circuit)(0.1)\n",
    "plt.show()"
   ]
  },
  {
   "cell_type": "code",
   "execution_count": 7,
   "metadata": {},
   "outputs": [
    {
     "data": {
      "text/plain": [
       "tensor([1.  , 0.  , 0.56, 0.57], requires_grad=True)"
      ]
     },
     "execution_count": 7,
     "metadata": {},
     "output_type": "execute_result"
    }
   ],
   "source": [
    "circuit(1)"
   ]
  },
  {
   "cell_type": "markdown",
   "metadata": {},
   "source": [
    "# Exercise\n",
    "\n",
    "1. Reproduce the [QC0_1_Qiskit.ipynb](QC0_1_Qiskit.ipynb) with the module PennyLane. "
   ]
  },
  {
   "cell_type": "code",
   "execution_count": 10,
   "metadata": {},
   "outputs": [],
   "source": [
    "shots_lst = [5, 10, 100, 1000]\n",
    "dev1 = qml.device(\"default.qubit\", wires = 3, shots=shots_lst)"
   ]
  },
  {
   "cell_type": "code",
   "execution_count": 21,
   "metadata": {},
   "outputs": [],
   "source": [
    "@qml.qnode(dev1)\n",
    "def circuit1(x):\n",
    "#   qml.RX(x, wires=0)\n",
    "  qml.CNOT(wires=[1, 2])\n",
    "  return qml.expval(qml.PauliZ(0))\n"
   ]
  },
  {
   "cell_type": "code",
   "execution_count": 22,
   "metadata": {
    "scrolled": true
   },
   "outputs": [
    {
     "name": "stdout",
     "output_type": "stream",
     "text": [
      "0: ────┤  <Z>\n",
      "1: ─╭●─┤     \n",
      "2: ─╰X─┤     \n"
     ]
    }
   ],
   "source": [
    "print(qml.draw(circuit1)(55))"
   ]
  },
  {
   "cell_type": "code",
   "execution_count": 23,
   "metadata": {},
   "outputs": [
    {
     "data": {
      "image/png": "[encoded data removed]",
      "text/plain": [
       "<Figure size 288x288 with 1 Axes>"
      ]
     },
     "metadata": {},
     "output_type": "display_data"
    }
   ],
   "source": [
    "\n",
    "fig, ax = qml.draw_mpl(circuit1)(0.1)\n",
    "plt.show()"
   ]
  },
  {
   "cell_type": "code",
   "execution_count": null,
   "metadata": {},
   "outputs": [],
   "source": [
    "from platform import python_version\n",
    "print(\"python version: \", python_version())\n",
    "!pip3 freeze | grep pennylane"
   ]
  },
  {
   "cell_type": "markdown",
   "metadata": {},
   "source": [
    "# References"
   ]
  },
  {
   "cell_type": "markdown",
   "metadata": {},
   "source": [
    "\n",
    "1. PennyLane tutorial: [https://github.com/PennyLaneAI/pennylane](https://github.com/PennyLaneAI/pennylane)"
   ]
  }
 ],
 "metadata": {
  "interpreter": {
   "hash": "67c6e30cc51eeb2c63ed190c851214ed4edf2b99efcdbee63e8aad06437ac09b"
  },
  "kernelspec": {
   "display_name": "Python 3 (ipykernel)",
   "language": "python",
   "name": "python3"
  },
  "language_info": {
   "codemirror_mode": {
    "name": "ipython",
    "version": 3
   },
   "file_extension": ".py",
   "mimetype": "text/x-python",
   "name": "python",
   "nbconvert_exporter": "python",
   "pygments_lexer": "ipython3",
   "version": "3.9.12"
  }
 },
 "nbformat": 4,
 "nbformat_minor": 2
}
