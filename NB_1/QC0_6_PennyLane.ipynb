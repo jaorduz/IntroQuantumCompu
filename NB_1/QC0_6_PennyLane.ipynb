{
 "cells": [
  {
   "cell_type": "markdown",
   "metadata": {},
   "source": [
    "# PennyLane:  Basics on Python and Quantum Computing\n",
    "### By: Javier Orduz"
   ]
  },
  {
   "cell_type": "markdown",
   "metadata": {},
   "source": [
    "## Quantum Hello world!"
   ]
  },
  {
   "cell_type": "markdown",
   "metadata": {},
   "source": [
    "To install pennylane\n",
    "```python\n",
    "!pip3 install pennylane\n",
    "```"
   ]
  },
  {
   "cell_type": "code",
   "execution_count": 1,
   "metadata": {},
   "outputs": [
    {
     "name": "stdout",
     "output_type": "stream",
     "text": [
      "Requirement already satisfied: pennylane in c:\\users\\swapn\\anaconda3\\lib\\site-packages (0.24.0)\n",
      "Requirement already satisfied: appdirs in c:\\users\\swapn\\anaconda3\\lib\\site-packages (from pennylane) (1.4.4)\n",
      "Requirement already satisfied: networkx in c:\\users\\swapn\\anaconda3\\lib\\site-packages (from pennylane) (2.6.3)\n",
      "Requirement already satisfied: semantic-version==2.6 in c:\\users\\swapn\\anaconda3\\lib\\site-packages (from pennylane) (2.6.0)\n",
      "Requirement already satisfied: numpy in c:\\users\\swapn\\anaconda3\\lib\\site-packages (from pennylane) (1.22.3)\n",
      "Requirement already satisfied: autograd in c:\\users\\swapn\\anaconda3\\lib\\site-packages (from pennylane) (1.4)"
     ]
    },
    {
     "name": "stderr",
     "output_type": "stream",
     "text": [
      "WARNING: Ignoring invalid distribution -iskit-terra (c:\\users\\swapn\\anaconda3\\lib\\site-packages)\n",
      "WARNING: Ignoring invalid distribution -iskit-terra (c:\\users\\swapn\\anaconda3\\lib\\site-packages)\n",
      "WARNING: Ignoring invalid distribution -iskit-terra (c:\\users\\swapn\\anaconda3\\lib\\site-packages)\n",
      "WARNING: Ignoring invalid distribution -iskit-terra (c:\\users\\swapn\\anaconda3\\lib\\site-packages)\n",
      "WARNING: Ignoring invalid distribution -iskit-terra (c:\\users\\swapn\\anaconda3\\lib\\site-packages)\n",
      "WARNING: Ignoring invalid distribution -iskit-terra (c:\\users\\swapn\\anaconda3\\lib\\site-packages)\n"
     ]
    },
    {
     "name": "stdout",
     "output_type": "stream",
     "text": [
      "\n",
      "Requirement already satisfied: pennylane-lightning>=0.24 in c:\\users\\swapn\\anaconda3\\lib\\site-packages (from pennylane) (0.24.0)\n",
      "Requirement already satisfied: toml in c:\\users\\swapn\\anaconda3\\lib\\site-packages (from pennylane) (0.10.2)\n",
      "Requirement already satisfied: autoray>=0.3.1 in c:\\users\\swapn\\anaconda3\\lib\\site-packages (from pennylane) (0.3.2)\n",
      "Requirement already satisfied: scipy in c:\\users\\swapn\\anaconda3\\lib\\site-packages (from pennylane) (1.8.0)\n",
      "Requirement already satisfied: cachetools in c:\\users\\swapn\\anaconda3\\lib\\site-packages (from pennylane) (5.0.0)\n",
      "Requirement already satisfied: retworkx in c:\\users\\swapn\\anaconda3\\lib\\site-packages (from pennylane) (0.11.0)\n",
      "Requirement already satisfied: ninja in c:\\users\\swapn\\anaconda3\\lib\\site-packages (from pennylane-lightning>=0.24->pennylane) (1.10.2.3)\n",
      "Requirement already satisfied: future>=0.15.2 in c:\\users\\swapn\\anaconda3\\lib\\site-packages (from autograd->pennylane) (0.18.2)\n"
     ]
    }
   ],
   "source": [
    "!pip3 install pennylane"
   ]
  },
  {
   "cell_type": "code",
   "execution_count": 2,
   "metadata": {},
   "outputs": [],
   "source": [
    "import pennylane as qml\n",
    "import matplotlib.pyplot as plt\n",
    "#from pennylane import numpy as np "
   ]
  },
  {
   "cell_type": "code",
   "execution_count": 3,
   "metadata": {},
   "outputs": [],
   "source": [
    "shots_lst = [5, 10, 100, 1000]\n",
    "dev = qml.device(\"default.qubit\", wires = 2, shots=shots_lst)"
   ]
  },
  {
   "cell_type": "code",
   "execution_count": 4,
   "metadata": {},
   "outputs": [],
   "source": [
    "@qml.qnode(dev)\n",
    "def circuit(x):\n",
    "  qml.RX(x, wires=0)\n",
    "  qml.CNOT(wires=[0, 1])\n",
    "  return qml.expval(qml.PauliZ(0))"
   ]
  },
  {
   "cell_type": "code",
   "execution_count": 5,
   "metadata": {},
   "outputs": [
    {
     "name": "stdout",
     "output_type": "stream",
     "text": [
      "0: ──RX(0.10)─╭●─┤  <Z>\n",
      "1: ───────────╰X─┤     \n"
     ]
    }
   ],
   "source": [
    "print(qml.draw(circuit)(0.1)) # random numbers"
   ]
  },
  {
   "cell_type": "code",
   "execution_count": 6,
   "metadata": {},
   "outputs": [
    {
     "data": {
      "image/png": "[encoded data removed]",
      "text/plain": [
       "<Figure size 360x216 with 1 Axes>"
      ]
     },
     "metadata": {},
     "output_type": "display_data"
    }
   ],
   "source": [
    "fig, ax = qml.draw_mpl(circuit)(0.1)\n",
    "plt.show()"
   ]
  },
  {
   "cell_type": "code",
   "execution_count": 7,
   "metadata": {},
   "outputs": [
    {
     "data": {
      "text/plain": [
       "tensor([0.2  , 0.6  , 0.5  , 0.478], requires_grad=True)"
      ]
     },
     "execution_count": 7,
     "metadata": {},
     "output_type": "execute_result"
    }
   ],
   "source": [
    "circuit(1)"
   ]
  },
  {
   "cell_type": "markdown",
   "metadata": {},
   "source": [
    "# Exercise\n",
    "\n",
    "1. Reproduce the [QC0_1_Qiskit.ipynb](QC0_1_Qiskit.ipynb) with the module PennyLane. "
   ]
  },
  {
   "cell_type": "code",
   "execution_count": 8,
   "metadata": {},
   "outputs": [],
   "source": [
    "dev = qml.device(\"default.qubit\", wires = ['q0', 'q1', 'q2'])\n",
    "@qml.qnode(dev)\n",
    "def circuit(_):\n",
    "  return qml.probs(wires=['q0', 'q1', 'q2'])"
   ]
  },
  {
   "cell_type": "code",
   "execution_count": 9,
   "metadata": {},
   "outputs": [
    {
     "name": "stdout",
     "output_type": "stream",
     "text": [
      "q0: ───┤ ╭Probs\n",
      "q1: ───┤ ├Probs\n",
      "q2: ───┤ ╰Probs\n"
     ]
    }
   ],
   "source": [
    "print(qml.draw(circuit)(0.1)) # random numbers"
   ]
  },
  {
   "cell_type": "code",
   "execution_count": 10,
   "metadata": {},
   "outputs": [
    {
     "data": {
      "image/png": "[encoded data removed]",
      "text/plain": [
       "<Figure size 288x288 with 1 Axes>"
      ]
     },
     "metadata": {},
     "output_type": "display_data"
    }
   ],
   "source": [
    "fig, ax = qml.draw_mpl(circuit)(0.1)\n",
    "plt.show()"
   ]
  },
  {
   "cell_type": "code",
   "execution_count": 11,
   "metadata": {},
   "outputs": [
    {
     "name": "stdout",
     "output_type": "stream",
     "text": [
      "python version:  3.9.7\n"
     ]
    },
    {
     "name": "stderr",
     "output_type": "stream",
     "text": [
      "WARNING: Ignoring invalid distribution -iskit-terra (c:\\users\\swapn\\anaconda3\\lib\\site-packages)\n"
     ]
    }
   ],
   "source": [
    "from platform import python_version\n",
    "print(\"python version: \", python_version())\n",
    "!pip3 freeze | grep pennylane"
   ]
  },
  {
   "cell_type": "markdown",
   "metadata": {},
   "source": [
    "# References"
   ]
  },
  {
   "cell_type": "markdown",
   "metadata": {},
   "source": [
    "\n",
    "1. PennyLane tutorial: [https://github.com/PennyLaneAI/pennylane](https://github.com/PennyLaneAI/pennylane)"
   ]
  }
 ],
 "metadata": {
  "interpreter": {
   "hash": "67c6e30cc51eeb2c63ed190c851214ed4edf2b99efcdbee63e8aad06437ac09b"
  },
  "kernelspec": {
   "display_name": "Python 3 (ipykernel)",
   "language": "python",
   "name": "python3"
  },
  "language_info": {
   "codemirror_mode": {
    "name": "ipython",
    "version": 3
   },
   "file_extension": ".py",
   "mimetype": "text/x-python",
   "name": "python",
   "nbconvert_exporter": "python",
   "pygments_lexer": "ipython3",
   "version": "3.9.7"
  }
 },
 "nbformat": 4,
 "nbformat_minor": 2
}
