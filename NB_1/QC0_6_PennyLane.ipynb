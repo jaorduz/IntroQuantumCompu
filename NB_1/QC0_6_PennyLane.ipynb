{
  "cells": [
    {
      "cell_type": "markdown",
      "metadata": {
        "id": "qEqnskesNNda"
      },
      "source": [
        "# PennyLane:  Basics on Python and Quantum Computing\n",
        "### By: Emmanuelli El-Mahmoud"
      ]
    },
    {
      "cell_type": "markdown",
      "metadata": {
        "id": "S3UhdLcVNNdg"
      },
      "source": [
        "## Quantum Hello world!"
      ]
    },
    {
      "cell_type": "markdown",
      "metadata": {
        "id": "YZ2r5x5TNNdh"
      },
      "source": [
        "To install pennylane\n",
        "```python\n",
        "!pip3 install pennylane\n",
        "```"
      ]
    },
    {
      "cell_type": "code",
      "source": [
        "!pip3 install pennylane"
      ],
      "metadata": {
        "id": "1qEUNzmhNQuz",
        "outputId": "39e3871c-2eb2-4309-9bcb-9c730b41451c",
        "colab": {
          "base_uri": "https://localhost:8080/"
        }
      },
      "execution_count": 9,
      "outputs": [
        {
          "output_type": "stream",
          "name": "stdout",
          "text": [
            "Looking in indexes: https://pypi.org/simple, https://us-python.pkg.dev/colab-wheels/public/simple/\n",
            "Requirement already satisfied: pennylane in /usr/local/lib/python3.7/dist-packages (0.24.0)\n",
            "Requirement already satisfied: semantic-version==2.6 in /usr/local/lib/python3.7/dist-packages (from pennylane) (2.6.0)\n",
            "Requirement already satisfied: appdirs in /usr/local/lib/python3.7/dist-packages (from pennylane) (1.4.4)\n",
            "Requirement already satisfied: autoray>=0.3.1 in /usr/local/lib/python3.7/dist-packages (from pennylane) (0.3.2)\n",
            "Requirement already satisfied: numpy in /usr/local/lib/python3.7/dist-packages (from pennylane) (1.21.6)\n",
            "Requirement already satisfied: retworkx in /usr/local/lib/python3.7/dist-packages (from pennylane) (0.11.0)\n",
            "Requirement already satisfied: pennylane-lightning>=0.24 in /usr/local/lib/python3.7/dist-packages (from pennylane) (0.24.0)\n",
            "Requirement already satisfied: networkx in /usr/local/lib/python3.7/dist-packages (from pennylane) (2.6.3)\n",
            "Requirement already satisfied: cachetools in /usr/local/lib/python3.7/dist-packages (from pennylane) (4.2.4)\n",
            "Requirement already satisfied: scipy in /usr/local/lib/python3.7/dist-packages (from pennylane) (1.7.3)\n",
            "Requirement already satisfied: toml in /usr/local/lib/python3.7/dist-packages (from pennylane) (0.10.2)\n",
            "Requirement already satisfied: autograd in /usr/local/lib/python3.7/dist-packages (from pennylane) (1.4)\n",
            "Requirement already satisfied: ninja in /usr/local/lib/python3.7/dist-packages (from pennylane-lightning>=0.24->pennylane) (1.10.2.3)\n",
            "Requirement already satisfied: future>=0.15.2 in /usr/local/lib/python3.7/dist-packages (from autograd->pennylane) (0.16.0)\n"
          ]
        }
      ]
    },
    {
      "cell_type": "code",
      "execution_count": 10,
      "metadata": {
        "id": "O_qnwtmYNNdi"
      },
      "outputs": [],
      "source": [
        "import pennylane as qml\n",
        "import matplotlib.pyplot as plt\n",
        "#from pennylane import numpy as np "
      ]
    },
    {
      "cell_type": "code",
      "execution_count": 11,
      "metadata": {
        "id": "yWF-E7nINNdk"
      },
      "outputs": [],
      "source": [
        "shots_lst = [5, 10, 100, 1000]\n",
        "dev = qml.device(\"default.qubit\", wires = 3, shots=shots_lst)"
      ]
    },
    {
      "cell_type": "code",
      "execution_count": 24,
      "metadata": {
        "id": "g-k0dCCLNNdl"
      },
      "outputs": [],
      "source": [
        "@qml.qnode(dev)\n",
        "def circuit(x):\n",
        "  qml.RX(x, wires=0)\n",
        "  qml.CNOT(wires=[0, 1])\n",
        "  qml.CNOT(wires=[1, 2])\n",
        "  return qml.expval(qml.PauliZ(0))"
      ]
    },
    {
      "cell_type": "code",
      "execution_count": 25,
      "metadata": {
        "id": "q_MHCMWKNNdn",
        "outputId": "b7ff9523-532c-4703-9ed8-174eca2028e0",
        "colab": {
          "base_uri": "https://localhost:8080/"
        }
      },
      "outputs": [
        {
          "output_type": "stream",
          "name": "stdout",
          "text": [
            "0: ──RX(0.10)─╭●────┤  <Z>\n",
            "1: ───────────╰X─╭●─┤     \n",
            "2: ──────────────╰X─┤     \n"
          ]
        }
      ],
      "source": [
        "print(qml.draw(circuit)(0.1)) # random numbers"
      ]
    },
    {
      "cell_type": "code",
      "execution_count": 26,
      "metadata": {
        "id": "H_zVbcYkNNdp",
        "outputId": "3ef78f21-6f59-4109-cf7c-4c9abf6c4d54",
        "colab": {
          "base_uri": "https://localhost:8080/",
          "height": 319
        }
      },
      "outputs": [
        {
          "output_type": "display_data",
          "data": {
            "text/plain": [
              "<Figure size 432x288 with 1 Axes>"
            ],
            "image/png": "[encoded data removed]"
          },
          "metadata": {}
        }
      ],
      "source": [
        "fig, ax = qml.draw_mpl(circuit)(0.1)\n",
        "plt.show()"
      ]
    },
    {
      "cell_type": "code",
      "execution_count": 27,
      "metadata": {
        "id": "Y-3AawB_NNdq",
        "outputId": "b721958a-6df4-4962-8e82-6b5ec549a1c2",
        "colab": {
          "base_uri": "https://localhost:8080/"
        }
      },
      "outputs": [
        {
          "output_type": "execute_result",
          "data": {
            "text/plain": [
              "tensor([0.6  , 0.8  , 0.64 , 0.508], requires_grad=True)"
            ]
          },
          "metadata": {},
          "execution_count": 27
        }
      ],
      "source": [
        "circuit(1)"
      ]
    },
    {
      "cell_type": "markdown",
      "metadata": {
        "id": "gB87cLHUNNdr"
      },
      "source": [
        "# Exercise\n",
        "\n",
        "1. Reproduce the [QC0_1_Qiskit.ipynb](QC0_1_Qiskit.ipynb) with the module PennyLane. "
      ]
    },
    {
      "cell_type": "code",
      "execution_count": null,
      "metadata": {
        "id": "XAhadTWVNNds",
        "outputId": "7cf5f8b1-1beb-4955-d894-5d93f2cafc5e"
      },
      "outputs": [
        {
          "name": "stdout",
          "output_type": "stream",
          "text": [
            "python version:  3.7.9\n",
            "pennylane-qulacs==0.14.0\n"
          ]
        },
        {
          "name": "stderr",
          "output_type": "stream",
          "text": [
            "WARNING: Ignoring invalid distribution -iskit-terra (c:\\users\\javier_orduzducuara\\anaconda3\\envs\\myenvpy37\\lib\\site-packages)\n"
          ]
        }
      ],
      "source": [
        "from platform import python_version\n",
        "print(\"python version: \", python_version())\n",
        "!pip3 freeze | grep pennylane"
      ]
    },
    {
      "cell_type": "markdown",
      "metadata": {
        "id": "V8eq_-zzNNds"
      },
      "source": [
        "# References"
      ]
    },
    {
      "cell_type": "markdown",
      "metadata": {
        "id": "F-K-pEElNNdt"
      },
      "source": [
        "\n",
        "1. PennyLane tutorial: [https://github.com/PennyLaneAI/pennylane](https://github.com/PennyLaneAI/pennylane)"
      ]
    }
  ],
  "metadata": {
    "interpreter": {
      "hash": "67c6e30cc51eeb2c63ed190c851214ed4edf2b99efcdbee63e8aad06437ac09b"
    },
    "kernelspec": {
      "display_name": "Python 3.7.9 ('myEnvPy37')",
      "language": "python",
      "name": "python3"
    },
    "language_info": {
      "codemirror_mode": {
        "name": "ipython",
        "version": 3
      },
      "file_extension": ".py",
      "mimetype": "text/x-python",
      "name": "python",
      "nbconvert_exporter": "python",
      "pygments_lexer": "ipython3",
      "version": "3.7.9"
    },
    "colab": {
      "name": "QC0_6_PennyLane.ipynb",
      "provenance": []
    }
  },
  "nbformat": 4,
  "nbformat_minor": 0
}