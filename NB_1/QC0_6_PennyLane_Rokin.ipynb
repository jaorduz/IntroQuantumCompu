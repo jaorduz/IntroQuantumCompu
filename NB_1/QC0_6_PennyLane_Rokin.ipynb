{
  "cells": [
    {
      "cell_type": "markdown",
      "metadata": {
        "id": "hDgor3YCtGkq"
      },
      "source": [
        "# PennyLane:  Basics on Python and Quantum Computing\n",
        "### By: Rokin Maharjan"
      ]
    },
    {
      "cell_type": "markdown",
      "metadata": {
        "id": "mRYwGVAGtGks"
      },
      "source": [
        "## Quantum Hello world!"
      ]
    },
    {
      "cell_type": "markdown",
      "metadata": {
        "id": "jzQ18zlutGkt"
      },
      "source": [
        "To install pennylane\n",
        "```python\n",
        "!pip3 install pennylane\n",
        "```"
      ]
    },
    {
      "cell_type": "code",
      "source": [
        "!pip3 install pennylane"
      ],
      "metadata": {
        "colab": {
          "base_uri": "https://localhost:8080/"
        },
        "id": "_DGn-vrwtWeX",
        "outputId": "2c103e18-5cc9-472f-acc4-6e0decbfc508"
      },
      "execution_count": 15,
      "outputs": [
        {
          "output_type": "stream",
          "name": "stdout",
          "text": [
            "Looking in indexes: https://pypi.org/simple, https://us-python.pkg.dev/colab-wheels/public/simple/\n",
            "Requirement already satisfied: pennylane in /usr/local/lib/python3.7/dist-packages (0.24.0)\n",
            "Requirement already satisfied: pennylane-lightning>=0.24 in /usr/local/lib/python3.7/dist-packages (from pennylane) (0.24.0)\n",
            "Requirement already satisfied: scipy in /usr/local/lib/python3.7/dist-packages (from pennylane) (1.7.3)\n",
            "Requirement already satisfied: semantic-version==2.6 in /usr/local/lib/python3.7/dist-packages (from pennylane) (2.6.0)\n",
            "Requirement already satisfied: cachetools in /usr/local/lib/python3.7/dist-packages (from pennylane) (4.2.4)\n",
            "Requirement already satisfied: retworkx in /usr/local/lib/python3.7/dist-packages (from pennylane) (0.11.0)\n",
            "Requirement already satisfied: numpy in /usr/local/lib/python3.7/dist-packages (from pennylane) (1.21.6)\n",
            "Requirement already satisfied: appdirs in /usr/local/lib/python3.7/dist-packages (from pennylane) (1.4.4)\n",
            "Requirement already satisfied: networkx in /usr/local/lib/python3.7/dist-packages (from pennylane) (2.6.3)\n",
            "Requirement already satisfied: toml in /usr/local/lib/python3.7/dist-packages (from pennylane) (0.10.2)\n",
            "Requirement already satisfied: autoray>=0.3.1 in /usr/local/lib/python3.7/dist-packages (from pennylane) (0.3.2)\n",
            "Requirement already satisfied: autograd in /usr/local/lib/python3.7/dist-packages (from pennylane) (1.4)\n",
            "Requirement already satisfied: ninja in /usr/local/lib/python3.7/dist-packages (from pennylane-lightning>=0.24->pennylane) (1.10.2.3)\n",
            "Requirement already satisfied: future>=0.15.2 in /usr/local/lib/python3.7/dist-packages (from autograd->pennylane) (0.16.0)\n"
          ]
        }
      ]
    },
    {
      "cell_type": "code",
      "execution_count": 16,
      "metadata": {
        "id": "_2in8xjRtGkt"
      },
      "outputs": [],
      "source": [
        "import pennylane as qml\n",
        "import matplotlib.pyplot as plt\n",
        "#from pennylane import numpy as np "
      ]
    },
    {
      "cell_type": "code",
      "execution_count": 17,
      "metadata": {
        "id": "7kRVQPtwtGku"
      },
      "outputs": [],
      "source": [
        "shots_lst = [5, 10, 100, 1000]\n",
        "dev = qml.device(\"default.qubit\", wires = 2, shots=shots_lst)"
      ]
    },
    {
      "cell_type": "code",
      "execution_count": 18,
      "metadata": {
        "id": "EH6EfmoRtGku"
      },
      "outputs": [],
      "source": [
        "@qml.qnode(dev)\n",
        "def circuit(x):\n",
        "  qml.RX(x, wires=0)\n",
        "  qml.CNOT(wires=[0, 1])\n",
        "  return qml.expval(qml.PauliZ(0))"
      ]
    },
    {
      "cell_type": "code",
      "execution_count": 19,
      "metadata": {
        "colab": {
          "base_uri": "https://localhost:8080/"
        },
        "id": "53Wvme8etGku",
        "outputId": "411071f8-fe36-4cdc-d7d8-fab89c748b30"
      },
      "outputs": [
        {
          "output_type": "stream",
          "name": "stdout",
          "text": [
            "0: ──RX(0.10)─╭●─┤  <Z>\n",
            "1: ───────────╰X─┤     \n"
          ]
        }
      ],
      "source": [
        "print(qml.draw(circuit)(0.1)) # random numbers"
      ]
    },
    {
      "cell_type": "code",
      "execution_count": 20,
      "metadata": {
        "colab": {
          "base_uri": "https://localhost:8080/",
          "height": 247
        },
        "id": "9VfHjcU4tGkv",
        "outputId": "e96f13e8-64ba-48e0-c506-a12e4c39996d"
      },
      "outputs": [
        {
          "output_type": "display_data",
          "data": {
            "text/plain": [
              "<Figure size 360x216 with 1 Axes>"
            ],
            "image/png": "[encoded data removed]"
          },
          "metadata": {}
        }
      ],
      "source": [
        "fig, ax = qml.draw_mpl(circuit)(0.1)\n",
        "plt.show()"
      ]
    },
    {
      "cell_type": "code",
      "execution_count": 21,
      "metadata": {
        "colab": {
          "base_uri": "https://localhost:8080/"
        },
        "id": "avhlAd54tGkv",
        "outputId": "5b8cf3ab-b43d-4610-b4f2-c0d0517702ff"
      },
      "outputs": [
        {
          "output_type": "execute_result",
          "data": {
            "text/plain": [
              "tensor([0.6  , 0.4  , 0.54 , 0.544], requires_grad=True)"
            ]
          },
          "metadata": {},
          "execution_count": 21
        }
      ],
      "source": [
        "circuit(1)"
      ]
    },
    {
      "cell_type": "markdown",
      "metadata": {
        "id": "nlEfdQB-tGkw"
      },
      "source": [
        "# Exercise\n",
        "\n",
        "1. Reproduce the [QC0_1_Qiskit.ipynb](QC0_1_Qiskit.ipynb) with the module PennyLane. "
      ]
    },
    {
      "cell_type": "code",
      "source": [
        "dev = qml.device(\"default.qubit\", wires = 3, shots=shots_lst)\n",
        "@qml.qnode(dev)\n",
        "def circuit():\n",
        "  qml.Hadamard(wires=0)\n",
        "  return qml.probs(wires=[0,1, 2])\n",
        "  "
      ],
      "metadata": {
        "id": "dSln0ADK0SP-"
      },
      "execution_count": 41,
      "outputs": []
    },
    {
      "cell_type": "code",
      "source": [
        "fig, ax = qml.draw_mpl(circuit)()\n",
        "\n",
        "plt.show()"
      ],
      "metadata": {
        "colab": {
          "base_uri": "https://localhost:8080/",
          "height": 319
        },
        "id": "Gjvr6XIT0Z8m",
        "outputId": "e51b2255-c632-452d-baea-c773898df68c"
      },
      "execution_count": 44,
      "outputs": [
        {
          "output_type": "display_data",
          "data": {
            "text/plain": [
              "<Figure size 288x288 with 1 Axes>"
            ],
            "image/png": "[encoded data removed]"
          },
          "metadata": {}
        }
      ]
    },
    {
      "cell_type": "code",
      "execution_count": 46,
      "metadata": {
        "id": "Ppok9t6ytGkw",
        "outputId": "498ccdc8-bfae-4687-faa7-f72aabec9b35",
        "colab": {
          "base_uri": "https://localhost:8080/"
        }
      },
      "outputs": [
        {
          "output_type": "stream",
          "name": "stdout",
          "text": [
            "python version:  3.7.13\n"
          ]
        }
      ],
      "source": [
        "from platform import python_version\n",
        "print(\"python version: \", python_version())\n",
        "!pip3 freeze | grep pennylane"
      ]
    },
    {
      "cell_type": "markdown",
      "metadata": {
        "id": "xnxqbT9PtGkw"
      },
      "source": [
        "# References"
      ]
    },
    {
      "cell_type": "markdown",
      "metadata": {
        "id": "76M9KxLDtGkw"
      },
      "source": [
        "\n",
        "1. PennyLane tutorial: [https://github.com/PennyLaneAI/pennylane](https://github.com/PennyLaneAI/pennylane)\n",
        "2. Github repository: https://github.com/jaorduz/IntroQuantumCompu/blob/500aa2ed57/NB_1/README.md"
      ]
    }
  ],
  "metadata": {
    "interpreter": {
      "hash": "67c6e30cc51eeb2c63ed190c851214ed4edf2b99efcdbee63e8aad06437ac09b"
    },
    "kernelspec": {
      "display_name": "Python 3.7.9 ('myEnvPy37')",
      "language": "python",
      "name": "python3"
    },
    "language_info": {
      "codemirror_mode": {
        "name": "ipython",
        "version": 3
      },
      "file_extension": ".py",
      "mimetype": "text/x-python",
      "name": "python",
      "nbconvert_exporter": "python",
      "pygments_lexer": "ipython3",
      "version": "3.7.9"
    },
    "colab": {
      "name": "QC0_6_PennyLane_Rokin.ipynb",
      "provenance": [],
      "collapsed_sections": []
    }
  },
  "nbformat": 4,
  "nbformat_minor": 0
}