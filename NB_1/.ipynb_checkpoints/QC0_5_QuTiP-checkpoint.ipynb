{
 "cells": [
  {
   "cell_type": "markdown",
   "metadata": {},
   "source": [
    "# QuTiP:  Basics on Python and Quantum Computing\n",
    "### By: Javier Orduz"
   ]
  },
  {
   "cell_type": "markdown",
   "metadata": {},
   "source": [
    "## Draw Bloch Sphere"
   ]
  },
  {
   "cell_type": "markdown",
   "metadata": {},
   "source": [
    "To install qutip\n",
    "```python\n",
    "!pip3 install qutip\n",
    "```"
   ]
  },
  {
   "cell_type": "code",
   "execution_count": 10,
   "metadata": {},
   "outputs": [],
   "source": [
    "import numpy as np\n",
    "import qutip as qt\n",
    "b=qt.Bloch()"
   ]
  },
  {
   "cell_type": "code",
   "execution_count": 11,
   "metadata": {},
   "outputs": [],
   "source": [
    "b.make_sphere()"
   ]
  },
  {
   "cell_type": "code",
   "execution_count": 12,
   "metadata": {},
   "outputs": [
    {
     "name": "stdout",
     "output_type": "stream",
     "text": [
      "python version:  3.8.10\n",
      "qutip==4.7.0\n"
     ]
    }
   ],
   "source": [
    "from platform import python_version\n",
    "print(\"python version: \", python_version())\n",
    "!pip3 freeze | grep qutip"
   ]
  },
  {
   "cell_type": "markdown",
   "metadata": {},
   "source": [
    "# Exercise\n",
    "\n",
    "1. Reproduce the [QC0_1_Qiskit.ipynb](QC0_1_Qiskit.ipynb) with the module QuTiP. "
   ]
  },
  {
   "cell_type": "code",
   "execution_count": 15,
   "metadata": {},
   "outputs": [],
   "source": [
    "import pennylane as qml\n",
    "\n",
    "\n",
    "dev = qml.device(\"default.qubit\", wires = 3, shots=shots_lst)\n",
    "\n",
    "@qml.qnode(dev)\n",
    "\n",
    "def circuit(x,y,z):\n",
    "    qml.RX(x, wires=0)\n",
    "    qml.RY(y, wires=1)\n",
    "    qml.RZ(z, wires=2)\n",
    "    \n",
    "    return qml.probs(wires=[2])"
   ]
  },
  {
   "cell_type": "code",
   "execution_count": 16,
   "metadata": {},
   "outputs": [
    {
     "ename": "AttributeError",
     "evalue": "'function' object has no attribute 'construct'",
     "output_type": "error",
     "traceback": [
      "\u001b[0;31m---------------------------------------------------------------------------\u001b[0m",
      "\u001b[0;31mAttributeError\u001b[0m                            Traceback (most recent call last)",
      "Input \u001b[0;32mIn [16]\u001b[0m, in \u001b[0;36m<cell line: 1>\u001b[0;34m()\u001b[0m\n\u001b[0;32m----> 1\u001b[0m \u001b[38;5;28mprint\u001b[39m(\u001b[43mqml\u001b[49m\u001b[38;5;241;43m.\u001b[39;49m\u001b[43mdraw\u001b[49m\u001b[43m(\u001b[49m\u001b[43mcircuit\u001b[49m\u001b[43m)\u001b[49m\u001b[43m(\u001b[49m\u001b[38;5;241;43m0.1\u001b[39;49m\u001b[43m,\u001b[49m\u001b[38;5;241;43m0.1\u001b[39;49m\u001b[43m,\u001b[49m\u001b[38;5;241;43m0.1\u001b[39;49m\u001b[43m)\u001b[49m)\n\u001b[1;32m      2\u001b[0m fig, ax \u001b[38;5;241m=\u001b[39m qml\u001b[38;5;241m.\u001b[39mdraw_mpl(circuit)(\u001b[38;5;241m0.1\u001b[39m,\u001b[38;5;241m0.1\u001b[39m,\u001b[38;5;241m0.1\u001b[39m)\n\u001b[1;32m      3\u001b[0m plt\u001b[38;5;241m.\u001b[39mshow()\n",
      "File \u001b[0;32m~/.local/lib/python3.8/site-packages/pennylane/drawer/draw.py:190\u001b[0m, in \u001b[0;36mdraw.<locals>.wrapper\u001b[0;34m(*args, **kwargs)\u001b[0m\n\u001b[1;32m    188\u001b[0m \u001b[38;5;28;01mtry\u001b[39;00m:\n\u001b[1;32m    189\u001b[0m     qnode\u001b[38;5;241m.\u001b[39mexpansion_strategy \u001b[38;5;241m=\u001b[39m expansion_strategy \u001b[38;5;129;01mor\u001b[39;00m original_expansion_strategy\n\u001b[0;32m--> 190\u001b[0m     tapes \u001b[38;5;241m=\u001b[39m \u001b[43mqnode\u001b[49m\u001b[38;5;241;43m.\u001b[39;49m\u001b[43mconstruct\u001b[49m(args, kwargs)\n\u001b[1;32m    191\u001b[0m \u001b[38;5;28;01mfinally\u001b[39;00m:\n\u001b[1;32m    192\u001b[0m     qnode\u001b[38;5;241m.\u001b[39mexpansion_strategy \u001b[38;5;241m=\u001b[39m original_expansion_strategy\n",
      "\u001b[0;31mAttributeError\u001b[0m: 'function' object has no attribute 'construct'"
     ]
    }
   ],
   "source": [
    "print(qml.draw(circuit)(0.1,0.1,0.1))\n",
    "fig, ax = qml.draw_mpl(circuit)(0.1,0.1,0.1)\n",
    "plt.show()"
   ]
  },
  {
   "cell_type": "markdown",
   "metadata": {},
   "source": [
    "# References"
   ]
  },
  {
   "cell_type": "markdown",
   "metadata": {},
   "source": [
    "\n",
    "1. QuTiP tutorial: [https://qutip.org/tutorials.html#basics](https://qutip.org/tutorials.html#basics)"
   ]
  }
 ],
 "metadata": {
  "interpreter": {
   "hash": "67c6e30cc51eeb2c63ed190c851214ed4edf2b99efcdbee63e8aad06437ac09b"
  },
  "kernelspec": {
   "display_name": "Python 3 (ipykernel)",
   "language": "python",
   "name": "python3"
  },
  "language_info": {
   "codemirror_mode": {
    "name": "ipython",
    "version": 3
   },
   "file_extension": ".py",
   "mimetype": "text/x-python",
   "name": "python",
   "nbconvert_exporter": "python",
   "pygments_lexer": "ipython3",
   "version": "3.8.10"
  }
 },
 "nbformat": 4,
 "nbformat_minor": 2
}
