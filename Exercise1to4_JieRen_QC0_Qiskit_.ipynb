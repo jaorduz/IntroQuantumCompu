{
  "nbformat": 4,
  "nbformat_minor": 0,
  "metadata": {
    "colab": {
      "name": "Exercise1to4_JieRen_QC0_Qiskit_.ipynb",
      "provenance": [],
      "collapsed_sections": [],
      "authorship_tag": "ABX9TyNK//RoypsN+6f+1VnP+jpU",
      "include_colab_link": true
    },
    "kernelspec": {
      "name": "python3",
      "display_name": "Python 3"
    },
    "language_info": {
      "name": "python"
    }
  },
  "cells": [
    {
      "cell_type": "markdown",
      "metadata": {
        "id": "view-in-github",
        "colab_type": "text"
      },
      "source": [
        "<a href=\"https://colab.research.google.com/github/jieren123/IntroQuantumComputation/blob/Homework2/Exercise1to4_JieRen_QC0_Qiskit_.ipynb\" target=\"_parent\"><img src=\"https://colab.research.google.com/assets/colab-badge.svg\" alt=\"Open In Colab\"/></a>"
      ]
    },
    {
      "cell_type": "code",
      "execution_count": 3,
      "metadata": {
        "colab": {
          "base_uri": "https://localhost:8080/",
          "height": 185
        },
        "id": "Ap-gK8ARypJL",
        "outputId": "96ec2479-cd9c-4ff1-b9ee-7820a9786c11"
      },
      "outputs": [
        {
          "output_type": "execute_result",
          "data": {
            "text/plain": [
              "<Figure size 129.678x204.68 with 1 Axes>"
            ],
            "image/png": "[encoded data removed]"
          },
          "metadata": {},
          "execution_count": 3
        }
      ],
      "source": [
        "# NB_1_1\n",
        "# ! pip install qiskit\n",
        "# ! pip install pylatexenc\n",
        "\n",
        "from qiskit import *\n",
        "%matplotlib inline\n",
        "\n",
        "# create quantum and classical registers \n",
        "qr = QuantumRegister(2)\n",
        "cr = ClassicalRegister(2)\n",
        "\n",
        "# build circuit\n",
        "circuit = QuantumCircuit(qr,cr)\n",
        "circuit.draw()\n",
        "circuit.draw(output='mpl')\n"
      ]
    },
    {
      "cell_type": "code",
      "source": [
        "# NB_1_1 Execrise \n",
        "###################################\n",
        "#   RESTARTED RUNTIME BEFORE RUN  # \n",
        "###################################\n",
        "\n",
        "# !pip3 install qiskit==0.36.0\n",
        "# # !pip install qiskit\n",
        "# !pip install qiskit-ibm-runtime\n",
        "# !pip3 freeze | grep qiskit\n",
        "# ! pip install qiskit\n",
        "\n",
        "from qiskit import *\n",
        "from platform import python_version\n",
        "# print(\"python version: \", python_version())\n",
        "\n",
        "qr = QuantumRegister(3)\n",
        "cr = ClassicalRegister(3)\n",
        "\n",
        "# build circuit\n",
        "circuit = QuantumCircuit(qr,cr)\n",
        "circuit.draw()\n",
        "circuit.draw(output='mpl')"
      ],
      "metadata": {
        "colab": {
          "base_uri": "https://localhost:8080/",
          "height": 231
        },
        "id": "dusU_txs4pHj",
        "outputId": "15877f10-faf7-44bd-eaa9-288f309f4f37"
      },
      "execution_count": 6,
      "outputs": [
        {
          "output_type": "execute_result",
          "data": {
            "text/plain": [
              "<Figure size 129.969x264.88 with 1 Axes>"
            ],
            "image/png": "[encoded data removed]"
          },
          "metadata": {},
          "execution_count": 6
        }
      ]
    },
    {
      "cell_type": "code",
      "source": [
        "# NB_1_2\n",
        "from qiskit import *\n",
        "%matplotlib inline\n",
        "# add labels to the qubits\n",
        "qr = QuantumRegister(2,'q')\n",
        "cr = ClassicalRegister(2,'c')\n",
        "circuit = QuantumCircuit(qr,cr)\n",
        "circuit.draw()\n",
        "circuit.h(qr[0])\n",
        "circuit.draw(output='mpl')\n",
        "\n",
        "# Multiqbit Gates \n",
        "print(\"Multiqbit Gates\")\n",
        "circuit.cx(qr[0],qr[1])\n",
        "circuit.draw(output='mpl')\n",
        "circuit.measure(qr,cr)\n",
        "circuit.draw(output='mpl')"
      ],
      "metadata": {
        "colab": {
          "base_uri": "https://localhost:8080/",
          "height": 203
        },
        "id": "p59E338N7TM7",
        "outputId": "44d27432-b84f-495b-baca-e5b6ac9d385b"
      },
      "execution_count": 14,
      "outputs": [
        {
          "output_type": "stream",
          "name": "stdout",
          "text": [
            "Multiqbit Gates\n"
          ]
        },
        {
          "output_type": "execute_result",
          "data": {
            "text/plain": [
              "<Figure size 327.252x204.68 with 1 Axes>"
            ],
            "image/png": "[encoded data removed]"
          },
          "metadata": {},
          "execution_count": 14
        }
      ]
    },
    {
      "cell_type": "code",
      "source": [
        "# NB_1_2_Execise \n",
        "\n",
        "from platform import python_version\n",
        "# print(\"python version: \", python_version())\n",
        "# !pip3 freeze | grep qiskit  # installed before \n",
        "\n",
        "qr = QuantumRegister(3, \"q\")\n",
        "cr = ClassicalRegister(3, \"c\")\n",
        "circuit = QuantumCircuit(qr, cr)\n",
        "circuit.draw()\n",
        "# Hadamard Gates\n",
        "circuit.h(qr[0])\n",
        "circuit.h(qr[1])\n",
        "circuit.h(qr[2])\n",
        "circuit.draw(output='mpl')\n",
        "# Control-X\n",
        "circuit.cx(qr[0],qr[1])\n",
        "circuit.cx(qr[1],qr[2])\n",
        "circuit.cx(qr[0],qr[1])\n",
        "# Measure \n",
        "circuit.draw(output='mpl')\n",
        "circuit.measure(qr,cr)\n",
        "circuit.draw(output='mpl')\n",
        "\n"
      ],
      "metadata": {
        "colab": {
          "base_uri": "https://localhost:8080/",
          "height": 231
        },
        "id": "Cdlfd-9OAjDo",
        "outputId": "bd9081dc-704c-4676-8372-10da8828fe57"
      },
      "execution_count": 4,
      "outputs": [
        {
          "output_type": "execute_result",
          "data": {
            "text/plain": [
              "<Figure size 447.797x264.88 with 1 Axes>"
            ],
            "image/png": "[encoded data removed]"
          },
          "metadata": {},
          "execution_count": 4
        }
      ]
    },
    {
      "cell_type": "code",
      "source": [
        "# NB_1_3_Execise\n",
        "from qiskit import *\n",
        "qr = QuantumRegister(2,'q')\n",
        "cr = ClassicalRegister(2,'c')\n",
        "circuit = QuantumCircuit(qr,cr)\n",
        "circuit.draw()\n",
        "circuit.h(qr[0])\n",
        "circuit.h(qr[1])\n",
        "circuit.draw(output='mpl')\n",
        "\n",
        "\n",
        "# Multiqbit Gates \n",
        "print(\"Multiqbit Gates\")\n",
        "circuit.cx(qr[0],qr[1])\n",
        "circuit.draw(output='mpl')\n",
        "circuit.measure(qr,cr)\n",
        "circuit.draw(output='mpl')\n",
        "\n",
        "print(\"Probabilities\")\n",
        "bcknd = Aer.get_backend('qasm_simulator')\n",
        "# this circuit is from previous one \n",
        "rslt = execute(circuit, backend=bcknd).result()\n",
        "from qiskit.tools.visualization import plot_histogram\n",
        "plot_histogram(rslt.get_counts(circuit))\n",
        "\n",
        "# Backend is the environment where we can simulate one quantum computer.\n",
        "# Pay (time or money) in the tons of works before yours"
      ],
      "metadata": {
        "colab": {
          "base_uri": "https://localhost:8080/",
          "height": 367
        },
        "id": "Reqpv_3REwyM",
        "outputId": "1cac5b76-ce03-4128-9ea6-fc4b8308d832"
      },
      "execution_count": 5,
      "outputs": [
        {
          "output_type": "stream",
          "name": "stdout",
          "text": [
            "Multiqbit Gates\n",
            "Probabilities\n"
          ]
        },
        {
          "output_type": "execute_result",
          "data": {
            "text/plain": [
              "<Figure size 504x360 with 1 Axes>"
            ],
            "image/png": "[encoded data removed]"
          },
          "metadata": {},
          "execution_count": 5
        }
      ]
    },
    {
      "cell_type": "code",
      "source": [
        "# NB_1_3_Execise\n",
        "# for token go here :https://quantum-computing.ibm.com/account\n",
        "from qiskit import IBMQ\n",
        "# !pip install qiskit-ibmq-provider\n",
        "\n",
        "IBMQ.save_account(\"TOKEN\")\n",
        "IBMQ.load_account() # Load account from disk\n",
        "prvdr=IBMQ.get_provider(group='open')\n",
        "prvdr.backends()\n",
        "prvdr=IBMQ.get_provider('ibm-q')\n",
        "qcomp=prvdr.get_backend('ibmq_belem')\n",
        "job=execute(circuit, backend=qcomp)\n",
        "\n",
        "from qiskit.tools.monitor import job_monitor\n",
        "job_monitor(job)\n",
        "rslt=job.result()\n",
        "plot_histogram(rslt.get_counts(circuit))\n"
      ],
      "metadata": {
        "id": "Ok4c_fz7G0ZU",
        "colab": {
          "base_uri": "https://localhost:8080/",
          "height": 371
        },
        "outputId": "410709e0-54f6-48a1-a19a-3f82b627d486"
      },
      "execution_count": 6,
      "outputs": [
        {
          "output_type": "stream",
          "name": "stderr",
          "text": [
            "configrc.store_credentials:WARNING:2022-07-22 02:24:23,102: Credentials already present. Set overwrite=True to overwrite.\n"
          ]
        },
        {
          "output_type": "stream",
          "name": "stdout",
          "text": [
            "Job Status: job has successfully run\n"
          ]
        },
        {
          "output_type": "execute_result",
          "data": {
            "text/plain": [
              "<Figure size 504x360 with 1 Axes>"
            ],
            "image/png": "[encoded data removed]"
          },
          "metadata": {},
          "execution_count": 6
        }
      ]
    }
  ]
}